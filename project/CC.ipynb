{
 "cells": [
  {
   "cell_type": "markdown",
   "metadata": {},
   "source": [
    "# The AI double bass lick generator"
   ]
  },
  {
   "cell_type": "markdown",
   "metadata": {},
   "source": [
    "In this document I will write the bass lick generator"
   ]
  },
  {
   "cell_type": "markdown",
   "metadata": {},
   "source": [
    "## Sources"
   ]
  },
  {
   "cell_type": "markdown",
   "metadata": {},
   "source": [
    "- https://www.learnjazzstandards.com/blog/learning-jazz/bass/write-walking-bass-line/\n",
    "- https://www.vsl.co.at/en/Double_bass/Range"
   ]
  },
  {
   "cell_type": "markdown",
   "metadata": {},
   "source": [
    "## Music Representation "
   ]
  },
  {
   "cell_type": "markdown",
   "metadata": {},
   "source": [
    "Now we are going to look at functions we need for the local mutations"
   ]
  },
  {
   "cell_type": "code",
   "execution_count": 1,
   "metadata": {
    "scrolled": true
   },
   "outputs": [],
   "source": [
    "from music21 import *\n",
    "import random\n",
    "import math"
   ]
  },
  {
   "cell_type": "code",
   "execution_count": 2,
   "metadata": {},
   "outputs": [
    {
     "name": "stdout",
     "output_type": "stream",
     "text": [
      "E2\n",
      "G4\n"
     ]
    }
   ],
   "source": [
    "contrabass = instrument.Contrabass()\n",
    "contrabass.highestNote = \"G4\"\n",
    "print(contrabass.lowestNote)\n",
    "print(contrabass.highestNote)"
   ]
  },
  {
   "cell_type": "code",
   "execution_count": 3,
   "metadata": {
    "scrolled": true
   },
   "outputs": [],
   "source": [
    "stream1 = stream.Stream()\n",
    "stream1.clef = clef.BassClef()\n",
    "stream1.insert(contrabass)\n",
    "stream1.append(note.Note(\"C3\",quarterLength = 1/2))\n",
    "stream1.append(note.Note(\"C3\",quarterLength = 1/2))\n",
    "stream1.append(note.Note(\"C3\",quarterLength = 1))\n",
    "stream1.append(note.Rest(quarterLength = 1/2))\n",
    "stream1.append(note.Rest(quarterLength = 1/2))\n",
    "stream1.append(note.Note(\"D3\",quarterLength = 1/2))\n",
    "stream1.append(note.Note(\"E3\",quarterLength = 1/2))\n",
    "stream1.append(note.Note(\"F3\",quarterLength = 1))\n",
    "stream1.append(note.Note(\"D3\",quarterLength = 1))\n",
    "stream1.append(note.Note(\"E3\",quarterLength = 1))\n",
    "stream1.append(note.Note(\"F3\",quarterLength = 1))\n",
    "stream1.append(note.Note(\"F3\",quarterLength = 1/2))\n",
    "stream1.append(note.Note(\"F3\",quarterLength = 1))\n",
    "stream1.append(note.Note(\"E-3\",quarterLength = 2.5))\n",
    "stream1.append(note.Note(\"F3\",quarterLength = 1))\n",
    "stream1.append(note.Note(\"D3\",quarterLength = 1))\n",
    "stream1.append(note.Note(\"E3\",quarterLength = 1))\n",
    "stream1.append(note.Note(\"F3\",quarterLength = 1))\n",
    "stream1.append(note.Note(\"C3\",quarterLength = 1/2))\n",
    "stream1.append(note.Note(\"C3\",quarterLength = 1/2))\n",
    "stream1.append(note.Note(\"C3\",quarterLength = 1))\n",
    "stream1.append(note.Rest(quarterLength = 1/2))\n",
    "stream1.append(note.Rest(quarterLength = 1/2))\n",
    "stream1.append(note.Note(\"D3\",quarterLength = 1/2))\n",
    "stream1.append(note.Note(\"E3\",quarterLength = 1/2))\n",
    "stream1.append(note.Note(\"F3\",quarterLength = 1))\n",
    "stream1.append(note.Note(\"D3\",quarterLength = 1))\n",
    "stream1.append(note.Note(\"E3\",quarterLength = 1))\n",
    "stream1.append(note.Note(\"F3\",quarterLength = 1))\n",
    "stream1.append(note.Note(\"F3\",quarterLength = 1/2))\n",
    "stream1.append(note.Note(\"F3\",quarterLength = 1))\n",
    "stream1.append(note.Note(\"E-3\",quarterLength = 2.5))\n",
    "stream1.append(note.Note(\"F3\",quarterLength = 1))\n",
    "stream1.append(note.Note(\"D3\",quarterLength = 1))\n",
    "stream1.append(note.Note(\"E3\",quarterLength = 1))\n",
    "stream1.append(note.Note(\"F3\",quarterLength = 1))"
   ]
  },
  {
   "cell_type": "code",
   "execution_count": 4,
   "metadata": {
    "scrolled": true
   },
   "outputs": [
    {
     "name": "stdout",
     "output_type": "stream",
     "text": [
      "{0.0} <music21.instrument.Contrabass 'Contrabass'>\n",
      "{0.0} <music21.clef.BassClef>\n",
      "{0.0} <music21.note.Note C>\n",
      "{0.5} <music21.note.Note C>\n",
      "{1.0} <music21.note.Note C>\n",
      "{2.0} <music21.note.Rest rest>\n",
      "{2.5} <music21.note.Rest rest>\n",
      "{3.0} <music21.note.Note D>\n",
      "{3.5} <music21.note.Note E>\n",
      "{4.0} <music21.note.Note F>\n",
      "{5.0} <music21.note.Note D>\n",
      "{6.0} <music21.note.Note E>\n",
      "{7.0} <music21.note.Note F>\n",
      "{8.0} <music21.note.Note F>\n",
      "{8.5} <music21.note.Note F>\n",
      "{9.5} <music21.note.Note E->\n",
      "{12.0} <music21.note.Note F>\n",
      "{13.0} <music21.note.Note D>\n",
      "{14.0} <music21.note.Note E>\n",
      "{15.0} <music21.note.Note F>\n",
      "{16.0} <music21.note.Note C>\n",
      "{16.5} <music21.note.Note C>\n",
      "{17.0} <music21.note.Note C>\n",
      "{18.0} <music21.note.Rest rest>\n",
      "{18.5} <music21.note.Rest rest>\n",
      "{19.0} <music21.note.Note D>\n",
      "{19.5} <music21.note.Note E>\n",
      "{20.0} <music21.note.Note F>\n",
      "{21.0} <music21.note.Note D>\n",
      "{22.0} <music21.note.Note E>\n",
      "{23.0} <music21.note.Note F>\n",
      "{24.0} <music21.note.Note F>\n",
      "{24.5} <music21.note.Note F>\n",
      "{25.5} <music21.note.Note E->\n",
      "{28.0} <music21.note.Note F>\n",
      "{29.0} <music21.note.Note D>\n",
      "{30.0} <music21.note.Note E>\n",
      "{31.0} <music21.note.Note F>\n"
     ]
    }
   ],
   "source": [
    "stream1.show('text')"
   ]
  },
  {
   "cell_type": "code",
   "execution_count": 5,
   "metadata": {
    "scrolled": true
   },
   "outputs": [
    {
     "data": {
      "text/html": [
       "\n",
       "                <div id='midiPlayerDiv270'></div>\n",
       "                <link rel=\"stylesheet\" href=\"//cuthbertLab.github.io/music21j/css/m21.css\"\n",
       "                    type=\"text/css\" />\n",
       "                <script>\n",
       "                require.config({\n",
       "                    paths: {'music21': '//cuthbertLab.github.io/music21j/src/music21'}\n",
       "                });\n",
       "                require(['music21'], function() {\n",
       "                               mp = new music21.miditools.MidiPlayer();\n",
       "                               mp.addPlayer('#midiPlayerDiv270');\n",
       "                               mp.base64Load('data:audio/midi;base64,TVRoZAAAAAYAAQACBABNVHJrAAAAFAD/UQMHoSAA/1gEBAIYCIgA/y8ATVRyawAAAUAA/wMKQ29udHJhYmFzcwDAKwDgAEAAwCuIAJAwWoQAgDAAAJAwWoQAgDAAAJAwWogAgDAAiACQMlqEAIAyAACQNFqEAIA0AACQNVqIAIA1AACQMlqIAIAyAACQNFqIAIA0AACQNVqIAIA1AACQNVqEAIA1AACQNVqIAIA1AACQM1qUAIAzAACQNVqIAIA1AACQMlqIAIAyAACQNFqIAIA0AACQNVqIAIA1AACQMFqEAIAwAACQMFqEAIAwAACQMFqIAIAwAIgAkDJahACAMgAAkDRahACANAAAkDVaiACANQAAkDJaiACAMgAAkDRaiACANAAAkDVaiACANQAAkDVahACANQAAkDVaiACANQAAkDNalACAMwAAkDVaiACANQAAkDJaiACAMgAAkDRaiACANAAAkDVaiACANQCIAP8vAA==');\n",
       "                        });\n",
       "                </script>"
      ],
      "text/plain": [
       "<IPython.core.display.HTML object>"
      ]
     },
     "metadata": {},
     "output_type": "display_data"
    }
   ],
   "source": [
    "stream1.show('midi')"
   ]
  },
  {
   "cell_type": "code",
   "execution_count": 6,
   "metadata": {
    "scrolled": true
   },
   "outputs": [],
   "source": [
    "stream1.show('lily.png')"
   ]
  },
  {
   "cell_type": "code",
   "execution_count": 7,
   "metadata": {},
   "outputs": [],
   "source": [
    "def copyStream(inputStream):\n",
    "    newStream = stream.Stream()\n",
    "    for element in inputStream:\n",
    "        newStream.append(element)\n",
    "    return newStream"
   ]
  },
  {
   "cell_type": "code",
   "execution_count": 8,
   "metadata": {},
   "outputs": [
    {
     "name": "stdout",
     "output_type": "stream",
     "text": [
      "{0.0} <music21.instrument.Contrabass 'Contrabass'>\n",
      "{0.0} <music21.clef.BassClef>\n",
      "{0.0} <music21.note.Note C>\n",
      "{0.5} <music21.note.Note C>\n",
      "{1.0} <music21.note.Note C>\n",
      "{2.0} <music21.note.Rest rest>\n",
      "{2.5} <music21.note.Rest rest>\n",
      "{3.0} <music21.note.Note D>\n",
      "{3.5} <music21.note.Note E>\n",
      "{4.0} <music21.note.Note F>\n",
      "{5.0} <music21.note.Note D>\n",
      "{6.0} <music21.note.Note E>\n",
      "{7.0} <music21.note.Note F>\n",
      "{8.0} <music21.note.Note F>\n",
      "{8.5} <music21.note.Note F>\n",
      "{9.5} <music21.note.Note E->\n",
      "{12.0} <music21.note.Note F>\n",
      "{13.0} <music21.note.Note D>\n",
      "{14.0} <music21.note.Note E>\n",
      "{15.0} <music21.note.Note F>\n",
      "{16.0} <music21.note.Note C>\n",
      "{16.5} <music21.note.Note C>\n",
      "{17.0} <music21.note.Note C>\n",
      "{18.0} <music21.note.Rest rest>\n",
      "{18.5} <music21.note.Rest rest>\n",
      "{19.0} <music21.note.Note D>\n",
      "{19.5} <music21.note.Note E>\n",
      "{20.0} <music21.note.Note F>\n",
      "{21.0} <music21.note.Note D>\n",
      "{22.0} <music21.note.Note E>\n",
      "{23.0} <music21.note.Note F>\n",
      "{24.0} <music21.note.Note F>\n",
      "{24.5} <music21.note.Note F>\n",
      "{25.5} <music21.note.Note E->\n",
      "{28.0} <music21.note.Note F>\n",
      "{29.0} <music21.note.Note D>\n",
      "{30.0} <music21.note.Note E>\n",
      "{31.0} <music21.note.Note F>\n"
     ]
    }
   ],
   "source": [
    "copyStream(stream1).show('text')"
   ]
  },
  {
   "cell_type": "markdown",
   "metadata": {
    "scrolled": true
   },
   "source": [
    "## Chord Progression "
   ]
  },
  {
   "cell_type": "code",
   "execution_count": 9,
   "metadata": {},
   "outputs": [],
   "source": [
    "class ChordProgression:\n",
    "    def __init__(self,inputScale,length): \n",
    "        self.position = 0\n",
    "        self.scale = inputScale\n",
    "        self.length = length\n",
    "    def __repr__(self):\n",
    "        return \"[\" + str(self.position) +\"] \" + self.scale.name\n",
    "    def __str__(self):\n",
    "        return \"[\" + str(self.position) +\"] \" + self.scale.name\n",
    "    def setPosition(self, pos):\n",
    "        self.position = pos\n",
    "\n",
    "class ChordProgressions:\n",
    "    def __init__(self): \n",
    "        self.progressions = []\n",
    "        self.current = 0\n",
    "    def __repr__(self):\n",
    "        result = \"\"\n",
    "        for progression in self.progressions:\n",
    "            result = result + str(progression) + \"\\n\"\n",
    "        result = result + \"length: \" + str(self.current)\n",
    "        return result\n",
    "    def __str__(self):\n",
    "        result = \"\"\n",
    "        for progression in self.progressions:\n",
    "            result = result + str(progression) + \"\\n\"\n",
    "        result = result + \"length: \" + str(self.current)\n",
    "        return result\n",
    "    def append(self,chordProgession):\n",
    "        chordProgession.setPosition(self.current)\n",
    "        self.current = chordProgession.length + self.current\n",
    "        self.progressions.append(chordProgession)\n",
    "    def getProgression(self,position):\n",
    "        if position < 0:\n",
    "            position = self.current + position\n",
    "            if position < 0:\n",
    "                raise Exception(\"Out of bounds\")\n",
    "        for progression in self.progressions:\n",
    "            if position < progression.length:\n",
    "                return progression\n",
    "            else:\n",
    "                position = position - progression.length\n",
    "        raise Exception(\"Out of bounds\")\n",
    "    def progressions(self):\n",
    "        return self.progressions"
   ]
  },
  {
   "cell_type": "code",
   "execution_count": 10,
   "metadata": {},
   "outputs": [
    {
     "name": "stdout",
     "output_type": "stream",
     "text": [
      "[0] C minor\n",
      "[4] F major\n",
      "[8] B- major\n",
      "[12] E- major\n",
      "[16] A major\n",
      "[20] D major\n",
      "[24] G minor\n",
      "[28] G major\n",
      "length: 32\n"
     ]
    }
   ],
   "source": [
    "chordProgressions = ChordProgressions()\n",
    "\n",
    "chordProgressions.append(ChordProgression(scale.MinorScale('C'),4))\n",
    "chordProgressions.append(ChordProgression(scale.MajorScale('F'),4))\n",
    "chordProgressions.append(ChordProgression(scale.MajorScale('Bb'),4))\n",
    "chordProgressions.append(ChordProgression(scale.MajorScale('Eb'),4))\n",
    "chordProgressions.append(ChordProgression(scale.MajorScale('A'),4))\n",
    "chordProgressions.append(ChordProgression(scale.MajorScale('D'),4))\n",
    "chordProgressions.append(ChordProgression(scale.MinorScale('G'),4))\n",
    "chordProgressions.append(ChordProgression(scale.MajorScale('G'),4))\n",
    "\n",
    "print(chordProgressions)"
   ]
  },
  {
   "cell_type": "markdown",
   "metadata": {},
   "source": [
    "## Mutations"
   ]
  },
  {
   "cell_type": "markdown",
   "metadata": {},
   "source": [
    "### Local Mutations"
   ]
  },
  {
   "cell_type": "markdown",
   "metadata": {},
   "source": [
    "Make rest:"
   ]
  },
  {
   "cell_type": "code",
   "execution_count": 11,
   "metadata": {},
   "outputs": [],
   "source": [
    "def makeRest(inputStream,at):\n",
    "    newStream = stream.Stream()\n",
    "    newStream.clef = inputStream.clef\n",
    "    newStream.insert(inputStream.getInstrument())\n",
    "    for inputNote in inputStream.notesAndRests:\n",
    "        if inputNote.isRest:\n",
    "            newNote = note.Rest(quarterLength = inputNote.quarterLength)\n",
    "        else:\n",
    "            newNote = note.Note(inputNote.nameWithOctave, quarterLength = inputNote.quarterLength)\n",
    "        if at == 0:\n",
    "            newNote = note.Rest(quarterLength = inputNote.quarterLength)\n",
    "            at = -1\n",
    "        elif at < inputNote.quarterLength and at > 0:\n",
    "            if inputNote.isRest:\n",
    "                newStream.append(note.Rest(quarterLength = at))\n",
    "            else:\n",
    "                newStream.append(note.Note(inputNote.nameWithOctave, quarterLength = at))\n",
    "            newNote = note.Rest(quarterLength = inputNote.quarterLength - at)\n",
    "            at = 0\n",
    "        else:\n",
    "            at = at - inputNote.quarterLength\n",
    "        newStream.append(newNote)\n",
    "    return newStream  "
   ]
  },
  {
   "cell_type": "code",
   "execution_count": 12,
   "metadata": {},
   "outputs": [],
   "source": [
    "streamWithRest = makeRest(stream1,1)"
   ]
  },
  {
   "cell_type": "code",
   "execution_count": 13,
   "metadata": {},
   "outputs": [
    {
     "data": {
      "text/html": [
       "\n",
       "                <div id='midiPlayerDiv588'></div>\n",
       "                <link rel=\"stylesheet\" href=\"//cuthbertLab.github.io/music21j/css/m21.css\"\n",
       "                    type=\"text/css\" />\n",
       "                <script>\n",
       "                require.config({\n",
       "                    paths: {'music21': '//cuthbertLab.github.io/music21j/src/music21'}\n",
       "                });\n",
       "                require(['music21'], function() {\n",
       "                               mp = new music21.miditools.MidiPlayer();\n",
       "                               mp.addPlayer('#midiPlayerDiv588');\n",
       "                               mp.base64Load('data:audio/midi;base64,TVRoZAAAAAYAAQACBABNVHJrAAAAFAD/UQMHoSAA/1gEBAIYCIgA/y8ATVRyawAAATcA/wMKQ29udHJhYmFzcwDAKwDgAEAAwCuIAJAwWoQAgDAAAJAwWoQAgDAAkACQMlqEAIAyAACQNFqEAIA0AACQNVqIAIA1AACQMlqIAIAyAACQNFqIAIA0AACQNVqIAIA1AACQNVqEAIA1AACQNVqIAIA1AACQM1qUAIAzAACQNVqIAIA1AACQMlqIAIAyAACQNFqIAIA0AACQNVqIAIA1AACQMFqEAIAwAACQMFqEAIAwAACQMFqIAIAwAIgAkDJahACAMgAAkDRahACANAAAkDVaiACANQAAkDJaiACAMgAAkDRaiACANAAAkDVaiACANQAAkDVahACANQAAkDVaiACANQAAkDNalACAMwAAkDVaiACANQAAkDJaiACAMgAAkDRaiACANAAAkDVaiACANQCIAP8vAA==');\n",
       "                        });\n",
       "                </script>"
      ],
      "text/plain": [
       "<IPython.core.display.HTML object>"
      ]
     },
     "metadata": {},
     "output_type": "display_data"
    }
   ],
   "source": [
    "streamWithRest.show('midi')"
   ]
  },
  {
   "cell_type": "code",
   "execution_count": 14,
   "metadata": {},
   "outputs": [],
   "source": [
    "streamWithRest.show('lily.pdf')"
   ]
  },
  {
   "cell_type": "code",
   "execution_count": 15,
   "metadata": {},
   "outputs": [
    {
     "name": "stdout",
     "output_type": "stream",
     "text": [
      "{0.0} <music21.instrument.Contrabass 'Contrabass'>\n",
      "{0.0} <music21.clef.BassClef>\n",
      "{0.0} <music21.note.Note C>\n",
      "{0.5} <music21.note.Note C>\n",
      "{1.0} <music21.note.Rest rest>\n",
      "{2.0} <music21.note.Rest rest>\n",
      "{2.5} <music21.note.Rest rest>\n",
      "{3.0} <music21.note.Note D>\n",
      "{3.5} <music21.note.Note E>\n",
      "{4.0} <music21.note.Note F>\n",
      "{5.0} <music21.note.Note D>\n",
      "{6.0} <music21.note.Note E>\n",
      "{7.0} <music21.note.Note F>\n",
      "{8.0} <music21.note.Note F>\n",
      "{8.5} <music21.note.Note F>\n",
      "{9.5} <music21.note.Note E->\n",
      "{12.0} <music21.note.Note F>\n",
      "{13.0} <music21.note.Note D>\n",
      "{14.0} <music21.note.Note E>\n",
      "{15.0} <music21.note.Note F>\n",
      "{16.0} <music21.note.Note C>\n",
      "{16.5} <music21.note.Note C>\n",
      "{17.0} <music21.note.Note C>\n",
      "{18.0} <music21.note.Rest rest>\n",
      "{18.5} <music21.note.Rest rest>\n",
      "{19.0} <music21.note.Note D>\n",
      "{19.5} <music21.note.Note E>\n",
      "{20.0} <music21.note.Note F>\n",
      "{21.0} <music21.note.Note D>\n",
      "{22.0} <music21.note.Note E>\n",
      "{23.0} <music21.note.Note F>\n",
      "{24.0} <music21.note.Note F>\n",
      "{24.5} <music21.note.Note F>\n",
      "{25.5} <music21.note.Note E->\n",
      "{28.0} <music21.note.Note F>\n",
      "{29.0} <music21.note.Note D>\n",
      "{30.0} <music21.note.Note E>\n",
      "{31.0} <music21.note.Note F>\n"
     ]
    }
   ],
   "source": [
    "streamWithRest.show('text')"
   ]
  },
  {
   "cell_type": "markdown",
   "metadata": {},
   "source": [
    "Transposing whole bar:"
   ]
  },
  {
   "cell_type": "code",
   "execution_count": 16,
   "metadata": {
    "scrolled": true
   },
   "outputs": [],
   "source": [
    "def transposeNotes(inputStream,at,to,amount):\n",
    "    newStream = stream.Stream()\n",
    "    newStream.clef = inputStream.clef\n",
    "    newStream.insert(inputStream.getInstrument())\n",
    "    for inputNote in inputStream.notesAndRests:\n",
    "        if inputNote.isRest:\n",
    "            newNote = note.Rest(quarterLength = inputNote.quarterLength)\n",
    "        else:\n",
    "            newNote = note.Note(inputNote.nameWithOctave, quarterLength = inputNote.quarterLength)\n",
    "        if at == 0:\n",
    "            if to > 0:\n",
    "                if to < inputNote.quarterLength:\n",
    "                    if inputNote.isNote:\n",
    "                        newStream.append(note.Note(inputNote.nameWithOctave, quarterLength = to).transpose(amount))\n",
    "                        newNote = note.Note(inputNote.nameWithOctave, quarterLength = inputNote.quarterLength - to)\n",
    "                    to = 0\n",
    "                else:\n",
    "                    to = to - inputNote.quarterLength\n",
    "                    if inputNote.isNote:\n",
    "                        newNote = inputNote.transpose(amount)\n",
    "        elif at < inputNote.quarterLength:\n",
    "            if inputNote.isNote:\n",
    "                newStream.append(note.Note(inputNote.nameWithOctave, quarterLength = at))\n",
    "                newNote = note.Note(inputNote.nameWithOctave, quarterLength = inputNote.quarterLength - at).transpose(amount)\n",
    "            at = 0\n",
    "            to = to - inputNote.quarterLength\n",
    "        else:\n",
    "            at = at - inputNote.quarterLength\n",
    "            to = to - inputNote.quarterLength\n",
    "        newStream.append(newNote)\n",
    "    return newStream  "
   ]
  },
  {
   "cell_type": "code",
   "execution_count": 17,
   "metadata": {
    "scrolled": true
   },
   "outputs": [],
   "source": [
    "transposedStream = transposeNotes(stream1,0,32,1)"
   ]
  },
  {
   "cell_type": "code",
   "execution_count": 18,
   "metadata": {
    "scrolled": true
   },
   "outputs": [
    {
     "data": {
      "text/html": [
       "\n",
       "                <div id='midiPlayerDiv932'></div>\n",
       "                <link rel=\"stylesheet\" href=\"//cuthbertLab.github.io/music21j/css/m21.css\"\n",
       "                    type=\"text/css\" />\n",
       "                <script>\n",
       "                require.config({\n",
       "                    paths: {'music21': '//cuthbertLab.github.io/music21j/src/music21'}\n",
       "                });\n",
       "                require(['music21'], function() {\n",
       "                               mp = new music21.miditools.MidiPlayer();\n",
       "                               mp.addPlayer('#midiPlayerDiv932');\n",
       "                               mp.base64Load('data:audio/midi;base64,TVRoZAAAAAYAAQACBABNVHJrAAAAFAD/UQMHoSAA/1gEBAIYCIgA/y8ATVRyawAAAUAA/wMKQ29udHJhYmFzcwDAKwDgAEAAwCuIAJAxWoQAgDEAAJAxWoQAgDEAAJAxWogAgDEAiACQM1qEAIAzAACQNVqEAIA1AACQNlqIAIA2AACQM1qIAIAzAACQNVqIAIA1AACQNlqIAIA2AACQNlqEAIA2AACQNlqIAIA2AACQNFqUAIA0AACQNlqIAIA2AACQM1qIAIAzAACQNVqIAIA1AACQNlqIAIA2AACQMVqEAIAxAACQMVqEAIAxAACQMVqIAIAxAIgAkDNahACAMwAAkDVahACANQAAkDZaiACANgAAkDNaiACAMwAAkDVaiACANQAAkDZaiACANgAAkDZahACANgAAkDZaiACANgAAkDRalACANAAAkDZaiACANgAAkDNaiACAMwAAkDVaiACANQAAkDZaiACANgCIAP8vAA==');\n",
       "                        });\n",
       "                </script>"
      ],
      "text/plain": [
       "<IPython.core.display.HTML object>"
      ]
     },
     "metadata": {},
     "output_type": "display_data"
    }
   ],
   "source": [
    "transposedStream.show('midi')"
   ]
  },
  {
   "cell_type": "code",
   "execution_count": 19,
   "metadata": {
    "scrolled": true
   },
   "outputs": [],
   "source": [
    "transposedStream.show('lily.png')"
   ]
  },
  {
   "cell_type": "code",
   "execution_count": 20,
   "metadata": {
    "scrolled": true
   },
   "outputs": [
    {
     "name": "stdout",
     "output_type": "stream",
     "text": [
      "{0.0} <music21.instrument.Contrabass 'Contrabass'>\n",
      "{0.0} <music21.clef.BassClef>\n",
      "{0.0} <music21.note.Note C#>\n",
      "{0.5} <music21.note.Note C#>\n",
      "{1.0} <music21.note.Note C#>\n",
      "{2.0} <music21.note.Rest rest>\n",
      "{2.5} <music21.note.Rest rest>\n",
      "{3.0} <music21.note.Note E->\n",
      "{3.5} <music21.note.Note F>\n",
      "{4.0} <music21.note.Note F#>\n",
      "{5.0} <music21.note.Note E->\n",
      "{6.0} <music21.note.Note F>\n",
      "{7.0} <music21.note.Note F#>\n",
      "{8.0} <music21.note.Note F#>\n",
      "{8.5} <music21.note.Note F#>\n",
      "{9.5} <music21.note.Note E>\n",
      "{12.0} <music21.note.Note F#>\n",
      "{13.0} <music21.note.Note E->\n",
      "{14.0} <music21.note.Note F>\n",
      "{15.0} <music21.note.Note F#>\n",
      "{16.0} <music21.note.Note C#>\n",
      "{16.5} <music21.note.Note C#>\n",
      "{17.0} <music21.note.Note C#>\n",
      "{18.0} <music21.note.Rest rest>\n",
      "{18.5} <music21.note.Rest rest>\n",
      "{19.0} <music21.note.Note E->\n",
      "{19.5} <music21.note.Note F>\n",
      "{20.0} <music21.note.Note F#>\n",
      "{21.0} <music21.note.Note E->\n",
      "{22.0} <music21.note.Note F>\n",
      "{23.0} <music21.note.Note F#>\n",
      "{24.0} <music21.note.Note F#>\n",
      "{24.5} <music21.note.Note F#>\n",
      "{25.5} <music21.note.Note E>\n",
      "{28.0} <music21.note.Note F#>\n",
      "{29.0} <music21.note.Note E->\n",
      "{30.0} <music21.note.Note F>\n",
      "{31.0} <music21.note.Note F#>\n"
     ]
    }
   ],
   "source": [
    "transposedStream.show('text')"
   ]
  },
  {
   "cell_type": "markdown",
   "metadata": {},
   "source": [
    "Splitting notes into mutliple notes:"
   ]
  },
  {
   "cell_type": "code",
   "execution_count": 21,
   "metadata": {
    "scrolled": true
   },
   "outputs": [],
   "source": [
    "def splitNote(inputStream,at,amount):\n",
    "    newStream = stream.Stream()\n",
    "    newStream.clef = inputStream.clef\n",
    "    newStream.insert(inputStream.getInstrument())\n",
    "    for inputNote in inputStream.notesAndRests:\n",
    "        if inputNote.isRest:\n",
    "            newNote = note.Rest(quarterLength = inputNote.quarterLength)\n",
    "        else:\n",
    "            newNote = note.Note(inputNote.nameWithOctave, quarterLength = inputNote.quarterLength)\n",
    "        if at < inputNote.quarterLength and at >= 0:\n",
    "            at = at - inputNote.quarterLength\n",
    "            newDuration = inputNote.quarterLength\n",
    "            if inputNote.isRest:\n",
    "                for _ in range(0,amount - 1):\n",
    "                    newStream.append(note.Rest(quarterLength = newDuration/amount))\n",
    "                newNote = note.Rest(quarterLength = newDuration/amount) \n",
    "            else:\n",
    "                for _ in range(0,amount - 1):\n",
    "                    newStream.append(note.Note(inputNote.nameWithOctave,quarterLength = newDuration/amount))\n",
    "                newNote = note.Note(inputNote.nameWithOctave,quarterLength = newDuration/amount)\n",
    "        else:\n",
    "            at = at - inputNote.quarterLength\n",
    "        newStream.append(newNote)\n",
    "    return newStream"
   ]
  },
  {
   "cell_type": "code",
   "execution_count": 22,
   "metadata": {
    "scrolled": true
   },
   "outputs": [],
   "source": [
    "splitStream = splitNote(stream1,2,3)"
   ]
  },
  {
   "cell_type": "code",
   "execution_count": 23,
   "metadata": {
    "scrolled": true
   },
   "outputs": [
    {
     "data": {
      "text/html": [
       "\n",
       "                <div id='midiPlayerDiv1228'></div>\n",
       "                <link rel=\"stylesheet\" href=\"//cuthbertLab.github.io/music21j/css/m21.css\"\n",
       "                    type=\"text/css\" />\n",
       "                <script>\n",
       "                require.config({\n",
       "                    paths: {'music21': '//cuthbertLab.github.io/music21j/src/music21'}\n",
       "                });\n",
       "                require(['music21'], function() {\n",
       "                               mp = new music21.miditools.MidiPlayer();\n",
       "                               mp.addPlayer('#midiPlayerDiv1228');\n",
       "                               mp.base64Load('data:audio/midi;base64,TVRoZAAAAAYAAQACBABNVHJrAAAAFAD/UQMHoSAA/1gEBAIYCIgA/y8ATVRyawAAAUAA/wMKQ29udHJhYmFzcwDAKwDgAEAAwCuIAJAwWoQAgDAAAJAwWoQAgDAAAJAwWogAgDAAiACQMlqEAIAyAACQNFqEAIA0AACQNVqIAIA1AACQMlqIAIAyAACQNFqIAIA0AACQNVqIAIA1AACQNVqEAIA1AACQNVqIAIA1AACQM1qUAIAzAACQNVqIAIA1AACQMlqIAIAyAACQNFqIAIA0AACQNVqIAIA1AACQMFqEAIAwAACQMFqEAIAwAACQMFqIAIAwAIgAkDJahACAMgAAkDRahACANAAAkDVaiACANQAAkDJaiACAMgAAkDRaiACANAAAkDVaiACANQAAkDVahACANQAAkDVaiACANQAAkDNalACAMwAAkDVaiACANQAAkDJaiACAMgAAkDRaiACANAAAkDVaiACANQCIAP8vAA==');\n",
       "                        });\n",
       "                </script>"
      ],
      "text/plain": [
       "<IPython.core.display.HTML object>"
      ]
     },
     "metadata": {},
     "output_type": "display_data"
    }
   ],
   "source": [
    "splitStream.show('midi')"
   ]
  },
  {
   "cell_type": "code",
   "execution_count": 24,
   "metadata": {
    "scrolled": true
   },
   "outputs": [],
   "source": [
    "splitStream.show('lily.pdf')"
   ]
  },
  {
   "cell_type": "code",
   "execution_count": 25,
   "metadata": {
    "scrolled": true
   },
   "outputs": [
    {
     "name": "stdout",
     "output_type": "stream",
     "text": [
      "{0.0} <music21.instrument.Contrabass 'Contrabass'>\n",
      "{0.0} <music21.clef.BassClef>\n",
      "{0.0} <music21.note.Note C>\n",
      "{0.5} <music21.note.Note C>\n",
      "{1.0} <music21.note.Note C>\n",
      "{2.0} <music21.note.Rest rest>\n",
      "{2.1667} <music21.note.Rest rest>\n",
      "{2.3333} <music21.note.Rest rest>\n",
      "{2.5} <music21.note.Rest rest>\n",
      "{3.0} <music21.note.Note D>\n",
      "{3.5} <music21.note.Note E>\n",
      "{4.0} <music21.note.Note F>\n",
      "{5.0} <music21.note.Note D>\n",
      "{6.0} <music21.note.Note E>\n",
      "{7.0} <music21.note.Note F>\n",
      "{8.0} <music21.note.Note F>\n",
      "{8.5} <music21.note.Note F>\n",
      "{9.5} <music21.note.Note E->\n",
      "{12.0} <music21.note.Note F>\n",
      "{13.0} <music21.note.Note D>\n",
      "{14.0} <music21.note.Note E>\n",
      "{15.0} <music21.note.Note F>\n",
      "{16.0} <music21.note.Note C>\n",
      "{16.5} <music21.note.Note C>\n",
      "{17.0} <music21.note.Note C>\n",
      "{18.0} <music21.note.Rest rest>\n",
      "{18.5} <music21.note.Rest rest>\n",
      "{19.0} <music21.note.Note D>\n",
      "{19.5} <music21.note.Note E>\n",
      "{20.0} <music21.note.Note F>\n",
      "{21.0} <music21.note.Note D>\n",
      "{22.0} <music21.note.Note E>\n",
      "{23.0} <music21.note.Note F>\n",
      "{24.0} <music21.note.Note F>\n",
      "{24.5} <music21.note.Note F>\n",
      "{25.5} <music21.note.Note E->\n",
      "{28.0} <music21.note.Note F>\n",
      "{29.0} <music21.note.Note D>\n",
      "{30.0} <music21.note.Note E>\n",
      "{31.0} <music21.note.Note F>\n"
     ]
    }
   ],
   "source": [
    "splitStream.show('text')"
   ]
  },
  {
   "cell_type": "markdown",
   "metadata": {},
   "source": [
    "Sort into ascending or descending:"
   ]
  },
  {
   "cell_type": "code",
   "execution_count": 26,
   "metadata": {
    "scrolled": true
   },
   "outputs": [],
   "source": [
    "def sortNotes(inputStream,at,to,ascending = False):\n",
    "    notes = inputStream.getElementsByOffset(at,to,includeEndBoundary=False, mustFinishInSpan = False,mustBeginInSpan = False,includeElementsThatEndAtStart = False).notesAndRests\n",
    "    sortedNotes = []\n",
    "    firstNote = notes[0]\n",
    "    lastNote = notes[len(notes) - 1]\n",
    "    if firstNote.isNote:\n",
    "            sortedNotes.append(note.Note(firstNote.nameWithOctave,quarterLength = firstNote.offset + firstNote.quarterLength - at))\n",
    "    if lastNote.isNote:\n",
    "        if to - lastNote.offset != 0:\n",
    "            sortedNotes.append(note.Note(lastNote.nameWithOctave,quarterLength = (to - lastNote.offset)))\n",
    "    \n",
    "    for streamNote in notes[1:len(notes) - 1]:\n",
    "        if streamNote.isNote:\n",
    "            sortedNotes.append(streamNote)\n",
    "        \n",
    "    sortedNotes.sort(reverse = ascending)\n",
    "    newStream = stream.Stream()\n",
    "    newStream.clef = inputStream.clef\n",
    "    newStream.insert(inputStream.getInstrument())\n",
    "    for inputNote in inputStream.notesAndRests:\n",
    "        if inputNote.isRest:\n",
    "            newNote = note.Rest(quarterLength = inputNote.quarterLength)\n",
    "        else:\n",
    "            newNote = note.Note(inputNote.nameWithOctave, quarterLength = inputNote.quarterLength)\n",
    "        if at == 0:\n",
    "            if to > 0:\n",
    "                if to < inputNote.quarterLength:\n",
    "                    if not  inputNote.isRest:\n",
    "                        originalNote = sortedNotes.pop()\n",
    "                        newStream.append(note.Note(originalNote.nameWithOctave, quarterLength = originalNote.quarterLength))\n",
    "                        newNote = note.Note(inputNote.nameWithOctave, quarterLength = inputNote.quarterLength - to)\n",
    "                    to = 0\n",
    "                else:\n",
    "                    to = to - inputNote.quarterLength\n",
    "                    if not inputNote.isRest:\n",
    "                        originalNote = sortedNotes.pop()\n",
    "                        newNote = note.Note(originalNote.nameWithOctave, quarterLength = originalNote.quarterLength)\n",
    "        elif at < inputNote.quarterLength:\n",
    "            if not inputNote.isRest:\n",
    "                originalNote = sortedNotes.pop()\n",
    "                newStream.append(note.Note(inputNote.nameWithOctave, quarterLength = at))\n",
    "                newNote = note.Note(originalNote.nameWithOctave, quarterLength = originalNote.quarterLength)\n",
    "            at = 0\n",
    "            to = to - inputNote.quarterLength\n",
    "        else:\n",
    "            at = at - inputNote.quarterLength\n",
    "            to = to - inputNote.quarterLength\n",
    "        newStream.append(newNote)\n",
    "    return newStream  "
   ]
  },
  {
   "cell_type": "code",
   "execution_count": 27,
   "metadata": {
    "scrolled": true
   },
   "outputs": [],
   "source": [
    "sortedStream = sortNotes(stream1,0,8,False)"
   ]
  },
  {
   "cell_type": "code",
   "execution_count": 28,
   "metadata": {
    "scrolled": true
   },
   "outputs": [
    {
     "data": {
      "text/html": [
       "\n",
       "                <div id='midiPlayerDiv1511'></div>\n",
       "                <link rel=\"stylesheet\" href=\"//cuthbertLab.github.io/music21j/css/m21.css\"\n",
       "                    type=\"text/css\" />\n",
       "                <script>\n",
       "                require.config({\n",
       "                    paths: {'music21': '//cuthbertLab.github.io/music21j/src/music21'}\n",
       "                });\n",
       "                require(['music21'], function() {\n",
       "                               mp = new music21.miditools.MidiPlayer();\n",
       "                               mp.addPlayer('#midiPlayerDiv1511');\n",
       "                               mp.base64Load('data:audio/midi;base64,TVRoZAAAAAYAAQACBABNVHJrAAAAFAD/UQMHoSAA/1gEBAIYCIgA/y8ATVRyawAAAUAA/wMKQ29udHJhYmFzcwDAKwDgAEAAwCuIAJA1WogAgDUAAJA1WogAgDUAAJA0WogAgDQAiACQNFqEAIA0AACQMlqIAIAyAACQMlqEAIAyAACQMFqIAIAwAACQMFqEAIAwAACQMFqEAIAwAACQNVqEAIA1AACQNVqIAIA1AACQM1qUAIAzAACQNVqIAIA1AACQMlqIAIAyAACQNFqIAIA0AACQNVqIAIA1AACQMFqEAIAwAACQMFqEAIAwAACQMFqIAIAwAIgAkDJahACAMgAAkDRahACANAAAkDVaiACANQAAkDJaiACAMgAAkDRaiACANAAAkDVaiACANQAAkDVahACANQAAkDVaiACANQAAkDNalACAMwAAkDVaiACANQAAkDJaiACAMgAAkDRaiACANAAAkDVaiACANQCIAP8vAA==');\n",
       "                        });\n",
       "                </script>"
      ],
      "text/plain": [
       "<IPython.core.display.HTML object>"
      ]
     },
     "metadata": {},
     "output_type": "display_data"
    }
   ],
   "source": [
    "sortedStream.show('midi')"
   ]
  },
  {
   "cell_type": "code",
   "execution_count": 29,
   "metadata": {
    "scrolled": true
   },
   "outputs": [],
   "source": [
    "sortedStream.show('lily.pdf')"
   ]
  },
  {
   "cell_type": "code",
   "execution_count": 30,
   "metadata": {
    "scrolled": true
   },
   "outputs": [
    {
     "name": "stdout",
     "output_type": "stream",
     "text": [
      "{0.0} <music21.instrument.Contrabass 'Contrabass'>\n",
      "{0.0} <music21.clef.BassClef>\n",
      "{0.0} <music21.note.Note F>\n",
      "{1.0} <music21.note.Note F>\n",
      "{2.0} <music21.note.Note E>\n",
      "{3.0} <music21.note.Rest rest>\n",
      "{3.5} <music21.note.Rest rest>\n",
      "{4.0} <music21.note.Note E>\n",
      "{4.5} <music21.note.Note D>\n",
      "{5.5} <music21.note.Note D>\n",
      "{6.0} <music21.note.Note C>\n",
      "{7.0} <music21.note.Note C>\n",
      "{7.5} <music21.note.Note C>\n",
      "{8.0} <music21.note.Note F>\n",
      "{8.5} <music21.note.Note F>\n",
      "{9.5} <music21.note.Note E->\n",
      "{12.0} <music21.note.Note F>\n",
      "{13.0} <music21.note.Note D>\n",
      "{14.0} <music21.note.Note E>\n",
      "{15.0} <music21.note.Note F>\n",
      "{16.0} <music21.note.Note C>\n",
      "{16.5} <music21.note.Note C>\n",
      "{17.0} <music21.note.Note C>\n",
      "{18.0} <music21.note.Rest rest>\n",
      "{18.5} <music21.note.Rest rest>\n",
      "{19.0} <music21.note.Note D>\n",
      "{19.5} <music21.note.Note E>\n",
      "{20.0} <music21.note.Note F>\n",
      "{21.0} <music21.note.Note D>\n",
      "{22.0} <music21.note.Note E>\n",
      "{23.0} <music21.note.Note F>\n",
      "{24.0} <music21.note.Note F>\n",
      "{24.5} <music21.note.Note F>\n",
      "{25.5} <music21.note.Note E->\n",
      "{28.0} <music21.note.Note F>\n",
      "{29.0} <music21.note.Note D>\n",
      "{30.0} <music21.note.Note E>\n",
      "{31.0} <music21.note.Note F>\n"
     ]
    }
   ],
   "source": [
    "sortedStream.show('text')"
   ]
  },
  {
   "cell_type": "code",
   "execution_count": 31,
   "metadata": {},
   "outputs": [
    {
     "data": {
      "text/plain": [
       "32.0"
      ]
     },
     "execution_count": 31,
     "metadata": {},
     "output_type": "execute_result"
    }
   ],
   "source": [
    "sortedStream.quarterLength"
   ]
  },
  {
   "cell_type": "markdown",
   "metadata": {},
   "source": [
    "Reverse in time:"
   ]
  },
  {
   "cell_type": "code",
   "execution_count": 32,
   "metadata": {
    "scrolled": true
   },
   "outputs": [],
   "source": [
    "def reverseNotes(inputStream,at,to):\n",
    "    notes = inputStream.getElementsByOffset(at,to,includeEndBoundary=False, mustFinishInSpan = False,mustBeginInSpan = False,includeElementsThatEndAtStart = False).notesAndRests\n",
    "    reverseNotes = []\n",
    "    firstNote = notes[0]\n",
    "    lastNote = notes[len(notes) - 1]\n",
    "    \n",
    "    if firstNote.isNote:\n",
    "        reverseNotes.append(note.Note(firstNote.nameWithOctave,quarterLength = firstNote.quarterLength + firstNote.offset - at))\n",
    "    else:\n",
    "            reverseNotes.append(note.Rest(quarterLength = firstNote.quarterLength + firstNote.offset - at))\n",
    "    \n",
    "    for streamNote in notes[1:len(notes) - 1]:\n",
    "        reverseNotes.append(streamNote)\n",
    "        \n",
    "    if lastNote.isNote:\n",
    "        if to - lastNote.offset != 0:\n",
    "            reverseNotes.append(note.Note(lastNote.nameWithOctave,quarterLength = (to - lastNote.offset)))\n",
    "    else:\n",
    "        if to - lastNote.offset != 0:\n",
    "            reverseNotes.append(note.Rest(quarterLength = (to - lastNote.offset)))\n",
    "    \n",
    "    newStream = stream.Stream()\n",
    "    newStream.clef = inputStream.clef\n",
    "    newStream.insert(inputStream.getInstrument())\n",
    "    for inputNote in inputStream.notesAndRests:\n",
    "        if inputNote.isRest:\n",
    "            newNote = note.Rest(quarterLength = inputNote.quarterLength)\n",
    "        else:\n",
    "            newNote = note.Note(inputNote.nameWithOctave, quarterLength = inputNote.quarterLength)\n",
    "        if at == 0:\n",
    "            if to > 0:\n",
    "                if to < inputNote.quarterLength:\n",
    "                    originalNote = reverseNotes.pop(- 1)\n",
    "                    if originalNote.isRest:\n",
    "                        newStream.append(note.Rest(quarterLength = originalNote.quarterLength))\n",
    "                    else:\n",
    "                        newStream.append(note.Note(originalNote.nameWithOctave, quarterLength = originalNote.quarterLength))\n",
    "                    if inputNote.isRest:\n",
    "                        newNote = note.Rest(quarterLength = inputNote.quarterLength - to)\n",
    "                    else:\n",
    "                        newNote = note.Note(inputNote.nameWithOctave, quarterLength = inputNote.quarterLength - to)\n",
    "                    to = 0\n",
    "                else:\n",
    "                    originalNote = reverseNotes.pop(- 1)\n",
    "                    to = to - inputNote.quarterLength\n",
    "                    if originalNote.isRest:\n",
    "                        newNote = note.Rest(quarterLength = originalNote.quarterLength)\n",
    "                    else:\n",
    "                        newNote = note.Note(originalNote.nameWithOctave, quarterLength = originalNote.quarterLength)\n",
    "        elif at < inputNote.quarterLength:\n",
    "            originalNote = reverseNotes.pop(- 1)\n",
    "            if inputNote.isRest:\n",
    "                newStream.append(note.Rest(quarterLength = at))\n",
    "            else:\n",
    "                newStream.append(note.Note(inputNote.nameWithOctave, quarterLength = at))\n",
    "            if originalNote.isRest:\n",
    "                newNote = note.Rest(quarterLength = originalNote.quarterLength)\n",
    "            else:\n",
    "                newNote = note.Note(originalNote.nameWithOctave, quarterLength = originalNote.quarterLength)\n",
    "            at = 0\n",
    "            to = to - inputNote.quarterLength\n",
    "        else:\n",
    "            at = at - inputNote.quarterLength\n",
    "            to = to - inputNote.quarterLength\n",
    "        newStream.append(newNote)\n",
    "    return newStream  "
   ]
  },
  {
   "cell_type": "code",
   "execution_count": 33,
   "metadata": {
    "scrolled": true
   },
   "outputs": [],
   "source": [
    "reversedStream = reverseNotes(stream1,0.23,2.67)"
   ]
  },
  {
   "cell_type": "code",
   "execution_count": 34,
   "metadata": {
    "scrolled": true
   },
   "outputs": [
    {
     "data": {
      "text/html": [
       "\n",
       "                <div id='midiPlayerDiv1811'></div>\n",
       "                <link rel=\"stylesheet\" href=\"//cuthbertLab.github.io/music21j/css/m21.css\"\n",
       "                    type=\"text/css\" />\n",
       "                <script>\n",
       "                require.config({\n",
       "                    paths: {'music21': '//cuthbertLab.github.io/music21j/src/music21'}\n",
       "                });\n",
       "                require(['music21'], function() {\n",
       "                               mp = new music21.miditools.MidiPlayer();\n",
       "                               mp.addPlayer('#midiPlayerDiv1811');\n",
       "                               mp.base64Load('data:audio/midi;base64,TVRoZAAAAAYAAQACBABNVHJrAAAAFAD/UQMHoSAA/1gEBAIYCIgA/y8ATVRyawAAAUoA/wMKQ29udHJhYmFzcwDAKwDgAEAAwCuIAJAwWoFsgDAAhS6QMFqIAIAwAACQMFqEAIAwAACQMFqCFIAwAIJSkDJahACAMgAAkDRahACANAAAkDVaiACANQAAkDJaiACAMgAAkDRaiACANAAAkDVaiACANQAAkDVahACANQAAkDVaiACANQAAkDNalACAMwAAkDVaiACANQAAkDJaiACAMgAAkDRaiACANAAAkDVaiACANQAAkDBahACAMAAAkDBahACAMAAAkDBaiACAMACIAJAyWoQAgDIAAJA0WoQAgDQAAJA1WogAgDUAAJAyWogAgDIAAJA0WogAgDQAAJA1WogAgDUAAJA1WoQAgDUAAJA1WogAgDUAAJAzWpQAgDMAAJA1WogAgDUAAJAyWogAgDIAAJA0WogAgDQAAJA1WogAgDUAiAD/LwA=');\n",
       "                        });\n",
       "                </script>"
      ],
      "text/plain": [
       "<IPython.core.display.HTML object>"
      ]
     },
     "metadata": {},
     "output_type": "display_data"
    }
   ],
   "source": [
    "reversedStream.show('midi')"
   ]
  },
  {
   "cell_type": "code",
   "execution_count": 35,
   "metadata": {
    "scrolled": true
   },
   "outputs": [],
   "source": [
    "reversedStream.show('lily.pdf')"
   ]
  },
  {
   "cell_type": "code",
   "execution_count": 36,
   "metadata": {
    "scrolled": true
   },
   "outputs": [
    {
     "name": "stdout",
     "output_type": "stream",
     "text": [
      "{0.0} <music21.instrument.Contrabass 'Contrabass'>\n",
      "{0.0} <music21.clef.BassClef>\n",
      "{0.0} <music21.note.Note C>\n",
      "{0.23} <music21.note.Rest rest>\n",
      "{0.4} <music21.note.Rest rest>\n",
      "{0.9} <music21.note.Note C>\n",
      "{1.9} <music21.note.Note C>\n",
      "{2.4} <music21.note.Note C>\n",
      "{2.67} <music21.note.Rest rest>\n",
      "{3.0} <music21.note.Note D>\n",
      "{3.5} <music21.note.Note E>\n",
      "{4.0} <music21.note.Note F>\n",
      "{5.0} <music21.note.Note D>\n",
      "{6.0} <music21.note.Note E>\n",
      "{7.0} <music21.note.Note F>\n",
      "{8.0} <music21.note.Note F>\n",
      "{8.5} <music21.note.Note F>\n",
      "{9.5} <music21.note.Note E->\n",
      "{12.0} <music21.note.Note F>\n",
      "{13.0} <music21.note.Note D>\n",
      "{14.0} <music21.note.Note E>\n",
      "{15.0} <music21.note.Note F>\n",
      "{16.0} <music21.note.Note C>\n",
      "{16.5} <music21.note.Note C>\n",
      "{17.0} <music21.note.Note C>\n",
      "{18.0} <music21.note.Rest rest>\n",
      "{18.5} <music21.note.Rest rest>\n",
      "{19.0} <music21.note.Note D>\n",
      "{19.5} <music21.note.Note E>\n",
      "{20.0} <music21.note.Note F>\n",
      "{21.0} <music21.note.Note D>\n",
      "{22.0} <music21.note.Note E>\n",
      "{23.0} <music21.note.Note F>\n",
      "{24.0} <music21.note.Note F>\n",
      "{24.5} <music21.note.Note F>\n",
      "{25.5} <music21.note.Note E->\n",
      "{28.0} <music21.note.Note F>\n",
      "{29.0} <music21.note.Note D>\n",
      "{30.0} <music21.note.Note E>\n",
      "{31.0} <music21.note.Note F>\n"
     ]
    }
   ],
   "source": [
    "reversedStream.show('text')"
   ]
  },
  {
   "cell_type": "markdown",
   "metadata": {},
   "source": [
    "Change a few pitches while maintaining the same rhythm:"
   ]
  },
  {
   "cell_type": "code",
   "execution_count": 37,
   "metadata": {
    "scrolled": true
   },
   "outputs": [],
   "source": [
    "def changePitches(inputStream,at,to,bound):\n",
    "    newStream = stream.Stream()\n",
    "    newStream.clef = inputStream.clef\n",
    "    newStream.insert(inputStream.getInstrument())\n",
    "    for inputNote in inputStream.notesAndRests:\n",
    "        if inputNote.isRest:\n",
    "            newNote = note.Rest(quarterLength = inputNote.quarterLength)\n",
    "        else:\n",
    "            newNote = note.Note(inputNote.nameWithOctave, quarterLength = inputNote.quarterLength)\n",
    "        if at == 0:\n",
    "            if to > 0:\n",
    "                if to < inputNote.quarterLength:\n",
    "                    if not inputNote.isRest:\n",
    "                        randomAmount = random.randint(- bound, bound)\n",
    "                        newStream.append(note.Note(inputNote.nameWithOctave, quarterLength = to).transpose(randomAmount))\n",
    "                        newNote = note.Note(inputNote.nameWithOctave, quarterLength = inputNote.quarterLength - to)\n",
    "                    to = 0\n",
    "                else:\n",
    "                    to = to - inputNote.quarterLength\n",
    "                    if not inputNote.isRest:\n",
    "                        randomAmount = random.randint(- bound, bound)\n",
    "                        newNote = inputNote.transpose(randomAmount)\n",
    "        elif at < inputNote.quarterLength:\n",
    "            if not inputNote.isRest:\n",
    "                randomAmount = random.randint(- bound, bound)\n",
    "                newStream.append(note.Note(inputNote.nameWithOctave, quarterLength = at))\n",
    "                newNote = note.Note(inputNote.nameWithOctave, quarterLength = inputNote.quarterLength - at).transpose(randomAmount)\n",
    "            at = 0\n",
    "            to = to - inputNote.quarterLength\n",
    "        else:\n",
    "            at = at - inputNote.quarterLength\n",
    "            to = to - inputNote.quarterLength\n",
    "        newStream.append(newNote)\n",
    "    return newStream  "
   ]
  },
  {
   "cell_type": "code",
   "execution_count": 38,
   "metadata": {
    "scrolled": true
   },
   "outputs": [],
   "source": [
    "streamWithChangedPithces = changePitches(stream1,0,3,4)"
   ]
  },
  {
   "cell_type": "code",
   "execution_count": 39,
   "metadata": {
    "scrolled": true
   },
   "outputs": [
    {
     "data": {
      "text/html": [
       "\n",
       "                <div id='midiPlayerDiv2102'></div>\n",
       "                <link rel=\"stylesheet\" href=\"//cuthbertLab.github.io/music21j/css/m21.css\"\n",
       "                    type=\"text/css\" />\n",
       "                <script>\n",
       "                require.config({\n",
       "                    paths: {'music21': '//cuthbertLab.github.io/music21j/src/music21'}\n",
       "                });\n",
       "                require(['music21'], function() {\n",
       "                               mp = new music21.miditools.MidiPlayer();\n",
       "                               mp.addPlayer('#midiPlayerDiv2102');\n",
       "                               mp.base64Load('data:audio/midi;base64,TVRoZAAAAAYAAQACBABNVHJrAAAAFAD/UQMHoSAA/1gEBAIYCIgA/y8ATVRyawAAAUAA/wMKQ29udHJhYmFzcwDAKwDgAEAAwCuIAJAxWoQAgDEAAJAzWoQAgDMAAJAyWogAgDIAiACQMlqEAIAyAACQNFqEAIA0AACQNVqIAIA1AACQMlqIAIAyAACQNFqIAIA0AACQNVqIAIA1AACQNVqEAIA1AACQNVqIAIA1AACQM1qUAIAzAACQNVqIAIA1AACQMlqIAIAyAACQNFqIAIA0AACQNVqIAIA1AACQMFqEAIAwAACQMFqEAIAwAACQMFqIAIAwAIgAkDJahACAMgAAkDRahACANAAAkDVaiACANQAAkDJaiACAMgAAkDRaiACANAAAkDVaiACANQAAkDVahACANQAAkDVaiACANQAAkDNalACAMwAAkDVaiACANQAAkDJaiACAMgAAkDRaiACANAAAkDVaiACANQCIAP8vAA==');\n",
       "                        });\n",
       "                </script>"
      ],
      "text/plain": [
       "<IPython.core.display.HTML object>"
      ]
     },
     "metadata": {},
     "output_type": "display_data"
    }
   ],
   "source": [
    "streamWithChangedPithces.show('midi')"
   ]
  },
  {
   "cell_type": "code",
   "execution_count": 40,
   "metadata": {
    "scrolled": true
   },
   "outputs": [],
   "source": [
    "streamWithChangedPithces.show('lily.pdf')"
   ]
  },
  {
   "cell_type": "code",
   "execution_count": 41,
   "metadata": {
    "scrolled": true
   },
   "outputs": [
    {
     "name": "stdout",
     "output_type": "stream",
     "text": [
      "{0.0} <music21.instrument.Contrabass 'Contrabass'>\n",
      "{0.0} <music21.clef.BassClef>\n",
      "{0.0} <music21.note.Note C#>\n",
      "{0.5} <music21.note.Note E->\n",
      "{1.0} <music21.note.Note D>\n",
      "{2.0} <music21.note.Rest rest>\n",
      "{2.5} <music21.note.Rest rest>\n",
      "{3.0} <music21.note.Note D>\n",
      "{3.5} <music21.note.Note E>\n",
      "{4.0} <music21.note.Note F>\n",
      "{5.0} <music21.note.Note D>\n",
      "{6.0} <music21.note.Note E>\n",
      "{7.0} <music21.note.Note F>\n",
      "{8.0} <music21.note.Note F>\n",
      "{8.5} <music21.note.Note F>\n",
      "{9.5} <music21.note.Note E->\n",
      "{12.0} <music21.note.Note F>\n",
      "{13.0} <music21.note.Note D>\n",
      "{14.0} <music21.note.Note E>\n",
      "{15.0} <music21.note.Note F>\n",
      "{16.0} <music21.note.Note C>\n",
      "{16.5} <music21.note.Note C>\n",
      "{17.0} <music21.note.Note C>\n",
      "{18.0} <music21.note.Rest rest>\n",
      "{18.5} <music21.note.Rest rest>\n",
      "{19.0} <music21.note.Note D>\n",
      "{19.5} <music21.note.Note E>\n",
      "{20.0} <music21.note.Note F>\n",
      "{21.0} <music21.note.Note D>\n",
      "{22.0} <music21.note.Note E>\n",
      "{23.0} <music21.note.Note F>\n",
      "{24.0} <music21.note.Note F>\n",
      "{24.5} <music21.note.Note F>\n",
      "{25.5} <music21.note.Note E->\n",
      "{28.0} <music21.note.Note F>\n",
      "{29.0} <music21.note.Note D>\n",
      "{30.0} <music21.note.Note E>\n",
      "{31.0} <music21.note.Note F>\n"
     ]
    }
   ],
   "source": [
    "streamWithChangedPithces.show('text')"
   ]
  },
  {
   "cell_type": "markdown",
   "metadata": {},
   "source": [
    "shuffle the note durations while maintaining the order of the pitches:"
   ]
  },
  {
   "cell_type": "code",
   "execution_count": 42,
   "metadata": {
    "scrolled": true
   },
   "outputs": [],
   "source": [
    "def shuffleDurations(inputStream,at,to):\n",
    "    notes = inputStream.getElementsByOffset(at,to,includeEndBoundary=False, mustFinishInSpan = False,mustBeginInSpan = False,includeElementsThatEndAtStart = False).notesAndRests\n",
    "    \n",
    "    firstNote = notes[0]\n",
    "    lastNote = notes[len(notes) - 1]\n",
    "    shuffledDurations = []\n",
    "    \n",
    "    if at != firstNote.offset + firstNote.quarterLength:\n",
    "        shuffledDurations.append(firstNote.quarterLength + firstNote.offset - at)\n",
    "\n",
    "    \n",
    "    for streamNote in notes[1:len(notes) - 1]:\n",
    "        shuffledDurations.append(streamNote.quarterLength)\n",
    "   \n",
    "    if to - lastNote.offset != 0:\n",
    "        shuffledDurations.append(to - lastNote.offset)\n",
    "\n",
    "    \n",
    "    random.shuffle(shuffledDurations)\n",
    "    \n",
    "    newStream = stream.Stream()\n",
    "    newStream.clef = inputStream.clef\n",
    "    newStream.insert(inputStream.getInstrument())\n",
    "    for inputNote in inputStream.notesAndRests:\n",
    "        if inputNote.isRest:\n",
    "            newNote = note.Rest(quarterLength = inputNote.quarterLength)\n",
    "        else:\n",
    "            newNote = note.Note(inputNote.nameWithOctave, quarterLength = inputNote.quarterLength)\n",
    "        if at == 0 and len(shuffledDurations) != 0:\n",
    "            if to > 0:\n",
    "                if to < inputNote.quarterLength:\n",
    "                    duration = shuffledDurations.pop()\n",
    "                    if inputNote.isRest:\n",
    "                        newStream.append(note.Rest(quarterLength = duration))\n",
    "                        newNote = note.Rest(quarterLength = inputNote.quarterLength - to)\n",
    "                    else:\n",
    "                        newStream.append(note.Note(inputNote.nameWithOctave, quarterLength = duration))\n",
    "                        newNote = note.Note(inputNote.nameWithOctave, quarterLength = inputNote.quarterLength - to)\n",
    "                    to = 0\n",
    "                else:\n",
    "                    duration = shuffledDurations.pop()\n",
    "                    to = to - inputNote.quarterLength\n",
    "                    if inputNote.isRest:\n",
    "                        newNote = note.Rest(quarterLength = duration)\n",
    "                    else:\n",
    "                        newNote = note.Note(inputNote.nameWithOctave, quarterLength = duration)\n",
    "        elif at < inputNote.quarterLength:\n",
    "            duration = shuffledDurations.pop()\n",
    "            if inputNote.isRest:\n",
    "                newStream.append(note.Rest(quarterLength = at))\n",
    "                newNote = note.Rest(quarterLength = duration)\n",
    "            else:\n",
    "                newStream.append(note.Note(inputNote.nameWithOctave, quarterLength = at))\n",
    "                newNote = note.Note(inputNote.nameWithOctave, quarterLength = duration)\n",
    "            at = 0\n",
    "            to = to - inputNote.quarterLength\n",
    "        else:\n",
    "            at = at - inputNote.quarterLength\n",
    "            to = to - inputNote.quarterLength\n",
    "        newStream.append(newNote)\n",
    "    return newStream  "
   ]
  },
  {
   "cell_type": "code",
   "execution_count": 43,
   "metadata": {
    "scrolled": true
   },
   "outputs": [],
   "source": [
    "streamWithShuffledDurations = shuffleDurations(stream1,22.5,32)"
   ]
  },
  {
   "cell_type": "code",
   "execution_count": 44,
   "metadata": {
    "scrolled": true
   },
   "outputs": [
    {
     "data": {
      "text/html": [
       "\n",
       "                <div id='midiPlayerDiv2399'></div>\n",
       "                <link rel=\"stylesheet\" href=\"//cuthbertLab.github.io/music21j/css/m21.css\"\n",
       "                    type=\"text/css\" />\n",
       "                <script>\n",
       "                require.config({\n",
       "                    paths: {'music21': '//cuthbertLab.github.io/music21j/src/music21'}\n",
       "                });\n",
       "                require(['music21'], function() {\n",
       "                               mp = new music21.miditools.MidiPlayer();\n",
       "                               mp.addPlayer('#midiPlayerDiv2399');\n",
       "                               mp.base64Load('data:audio/midi;base64,TVRoZAAAAAYAAQACBABNVHJrAAAAFAD/UQMHoSAA/1gEBAIYCIgA/y8ATVRyawAAAUkA/wMKQ29udHJhYmFzcwDAKwDgAEAAwCuIAJAwWoQAgDAAAJAwWoQAgDAAAJAwWogAgDAAiACQMlqEAIAyAACQNFqEAIA0AACQNVqIAIA1AACQMlqIAIAyAACQNFqIAIA0AACQNVqIAIA1AACQNVqEAIA1AACQNVqIAIA1AACQM1qUAIAzAACQNVqIAIA1AACQMlqIAIAyAACQNFqIAIA0AACQNVqIAIA1AACQMFqEAIAwAACQMFqEAIAwAACQMFqIAIAwAIgAkDJahACAMgAAkDRahACANAAAkDVaiACANQAAkDJaiACAMgAAkDRahACANAAAkDRaiACANAAAkDVahACANQAAkDVaiACANQAAkDVaiACANQAAkDNalACAMwAAkDVaiACANQAAkDJaiACAMgAAkDRaiACANAAAkDVahACANQCIAP8vAA==');\n",
       "                        });\n",
       "                </script>"
      ],
      "text/plain": [
       "<IPython.core.display.HTML object>"
      ]
     },
     "metadata": {},
     "output_type": "display_data"
    }
   ],
   "source": [
    "streamWithShuffledDurations.show('midi')"
   ]
  },
  {
   "cell_type": "code",
   "execution_count": 45,
   "metadata": {
    "scrolled": true
   },
   "outputs": [],
   "source": [
    "streamWithShuffledDurations.show('lily.pdf')"
   ]
  },
  {
   "cell_type": "code",
   "execution_count": 46,
   "metadata": {
    "scrolled": true
   },
   "outputs": [
    {
     "name": "stdout",
     "output_type": "stream",
     "text": [
      "{0.0} <music21.instrument.Contrabass 'Contrabass'>\n",
      "{0.0} <music21.clef.BassClef>\n",
      "{0.0} <music21.note.Note C>\n",
      "{0.5} <music21.note.Note C>\n",
      "{1.0} <music21.note.Note C>\n",
      "{2.0} <music21.note.Rest rest>\n",
      "{2.5} <music21.note.Rest rest>\n",
      "{3.0} <music21.note.Note D>\n",
      "{3.5} <music21.note.Note E>\n",
      "{4.0} <music21.note.Note F>\n",
      "{5.0} <music21.note.Note D>\n",
      "{6.0} <music21.note.Note E>\n",
      "{7.0} <music21.note.Note F>\n",
      "{8.0} <music21.note.Note F>\n",
      "{8.5} <music21.note.Note F>\n",
      "{9.5} <music21.note.Note E->\n",
      "{12.0} <music21.note.Note F>\n",
      "{13.0} <music21.note.Note D>\n",
      "{14.0} <music21.note.Note E>\n",
      "{15.0} <music21.note.Note F>\n",
      "{16.0} <music21.note.Note C>\n",
      "{16.5} <music21.note.Note C>\n",
      "{17.0} <music21.note.Note C>\n",
      "{18.0} <music21.note.Rest rest>\n",
      "{18.5} <music21.note.Rest rest>\n",
      "{19.0} <music21.note.Note D>\n",
      "{19.5} <music21.note.Note E>\n",
      "{20.0} <music21.note.Note F>\n",
      "{21.0} <music21.note.Note D>\n",
      "{22.0} <music21.note.Note E>\n",
      "{22.5} <music21.note.Note E>\n",
      "{23.5} <music21.note.Note F>\n",
      "{24.0} <music21.note.Note F>\n",
      "{25.0} <music21.note.Note F>\n",
      "{26.0} <music21.note.Note E->\n",
      "{28.5} <music21.note.Note F>\n",
      "{29.5} <music21.note.Note D>\n",
      "{30.5} <music21.note.Note E>\n",
      "{31.5} <music21.note.Note F>\n"
     ]
    },
    {
     "data": {
      "text/plain": [
       "32.0"
      ]
     },
     "execution_count": 46,
     "metadata": {},
     "output_type": "execute_result"
    }
   ],
   "source": [
    "streamWithShuffledDurations.show('text')\n",
    "streamWithShuffledDurations.quarterLength"
   ]
  },
  {
   "cell_type": "markdown",
   "metadata": {},
   "source": [
    "Concatonate contiguous rests:"
   ]
  },
  {
   "cell_type": "code",
   "execution_count": 47,
   "metadata": {
    "scrolled": true
   },
   "outputs": [],
   "source": [
    "def concatRests(inputStream,at,to):\n",
    "    newStream = stream.Stream()\n",
    "    \n",
    "    previousRest = False\n",
    "    newLength = 0\n",
    "    newStream.clef = inputStream.clef\n",
    "    newStream.insert(inputStream.getInstrument())\n",
    "    for inputNote in inputStream.notesAndRests:\n",
    "        if inputNote.isRest:\n",
    "            newNote = note.Rest(quarterLength = inputNote.quarterLength)\n",
    "        else:\n",
    "            newNote = note.Note(inputNote.nameWithOctave, quarterLength = inputNote.quarterLength)\n",
    "        if at == 0:\n",
    "            if to > 0:\n",
    "                if to < inputNote.quarterLength:\n",
    "                    if inputNote.isRest:\n",
    "                        newStream.append(note.Rest(quarterLength = newLength + to))\n",
    "                        newNote = note.Rest(quarterLength = inputNote.quarterLength - to)\n",
    "                        previousRest = False\n",
    "                    else:\n",
    "                        if previousRest:\n",
    "                            newStream.append(note.Rest(quarterLength = newLength))\n",
    "                            previousRest = False\n",
    "                    to = 0\n",
    "                else:\n",
    "                    to = to - inputNote.quarterLength\n",
    "                    if inputNote.isRest:\n",
    "                        if previousRest:\n",
    "                            newLength = newLength + inputNote.quarterLength\n",
    "                        else:\n",
    "                            previousRest = True\n",
    "                            newLength = inputNote.quarterLength\n",
    "                    else:\n",
    "                        if previousRest:\n",
    "                            newStream.append(note.Rest(quarterLength =newLength))  \n",
    "                            previousRest = False\n",
    "                            newLength = 0\n",
    "        elif at < inputNote.quarterLength:\n",
    "            if inputNote.isRest:\n",
    "                newStream.append(note.Rest(quarterLength = at))\n",
    "                previousRest = True\n",
    "                newLength = inputNote.quarterLength - at\n",
    "            else:\n",
    "                newNote = note.Note(inputNote.nameWithOctave, quarterLength = inputNote.quarterLength)\n",
    "            at = 0\n",
    "            to = to - inputNote.quarterLength\n",
    "        else:\n",
    "            at = at - inputNote.quarterLength\n",
    "            to = to - inputNote.quarterLength\n",
    "        if not previousRest:\n",
    "            newStream.append(newNote)\n",
    "    if previousRest:\n",
    "        newStream.append(note.Rest(quarterLength = newLength))\n",
    "    return newStream  "
   ]
  },
  {
   "cell_type": "code",
   "execution_count": 48,
   "metadata": {
    "scrolled": true
   },
   "outputs": [],
   "source": [
    "streamWithConcatRests = concatRests(stream1,28.9602,32)"
   ]
  },
  {
   "cell_type": "code",
   "execution_count": 49,
   "metadata": {
    "scrolled": true
   },
   "outputs": [
    {
     "data": {
      "text/html": [
       "\n",
       "                <div id='midiPlayerDiv2691'></div>\n",
       "                <link rel=\"stylesheet\" href=\"//cuthbertLab.github.io/music21j/css/m21.css\"\n",
       "                    type=\"text/css\" />\n",
       "                <script>\n",
       "                require.config({\n",
       "                    paths: {'music21': '//cuthbertLab.github.io/music21j/src/music21'}\n",
       "                });\n",
       "                require(['music21'], function() {\n",
       "                               mp = new music21.miditools.MidiPlayer();\n",
       "                               mp.addPlayer('#midiPlayerDiv2691');\n",
       "                               mp.base64Load('data:audio/midi;base64,TVRoZAAAAAYAAQACBABNVHJrAAAAFAD/UQMHoSAA/1gEBAIYCIgA/y8ATVRyawAAAUAA/wMKQ29udHJhYmFzcwDAKwDgAEAAwCuIAJAwWoQAgDAAAJAwWoQAgDAAAJAwWogAgDAAiACQMlqEAIAyAACQNFqEAIA0AACQNVqIAIA1AACQMlqIAIAyAACQNFqIAIA0AACQNVqIAIA1AACQNVqEAIA1AACQNVqIAIA1AACQM1qUAIAzAACQNVqIAIA1AACQMlqIAIAyAACQNFqIAIA0AACQNVqIAIA1AACQMFqEAIAwAACQMFqEAIAwAACQMFqIAIAwAIgAkDJahACAMgAAkDRahACANAAAkDVaiACANQAAkDJaiACAMgAAkDRaiACANAAAkDVaiACANQAAkDVahACANQAAkDVaiACANQAAkDNalACAMwAAkDVaiACANQAAkDJaiACAMgAAkDRaiACANAAAkDVaiACANQCIAP8vAA==');\n",
       "                        });\n",
       "                </script>"
      ],
      "text/plain": [
       "<IPython.core.display.HTML object>"
      ]
     },
     "metadata": {},
     "output_type": "display_data"
    }
   ],
   "source": [
    "streamWithConcatRests.show('midi')"
   ]
  },
  {
   "cell_type": "code",
   "execution_count": 50,
   "metadata": {
    "scrolled": true
   },
   "outputs": [],
   "source": [
    "streamWithConcatRests.show('lily.pdf')"
   ]
  },
  {
   "cell_type": "code",
   "execution_count": 51,
   "metadata": {
    "scrolled": true
   },
   "outputs": [
    {
     "name": "stdout",
     "output_type": "stream",
     "text": [
      "{0.0} <music21.instrument.Contrabass 'Contrabass'>\n",
      "{0.0} <music21.clef.BassClef>\n",
      "{0.0} <music21.note.Note C>\n",
      "{0.5} <music21.note.Note C>\n",
      "{1.0} <music21.note.Note C>\n",
      "{2.0} <music21.note.Rest rest>\n",
      "{2.5} <music21.note.Rest rest>\n",
      "{3.0} <music21.note.Note D>\n",
      "{3.5} <music21.note.Note E>\n",
      "{4.0} <music21.note.Note F>\n",
      "{5.0} <music21.note.Note D>\n",
      "{6.0} <music21.note.Note E>\n",
      "{7.0} <music21.note.Note F>\n",
      "{8.0} <music21.note.Note F>\n",
      "{8.5} <music21.note.Note F>\n",
      "{9.5} <music21.note.Note E->\n",
      "{12.0} <music21.note.Note F>\n",
      "{13.0} <music21.note.Note D>\n",
      "{14.0} <music21.note.Note E>\n",
      "{15.0} <music21.note.Note F>\n",
      "{16.0} <music21.note.Note C>\n",
      "{16.5} <music21.note.Note C>\n",
      "{17.0} <music21.note.Note C>\n",
      "{18.0} <music21.note.Rest rest>\n",
      "{18.5} <music21.note.Rest rest>\n",
      "{19.0} <music21.note.Note D>\n",
      "{19.5} <music21.note.Note E>\n",
      "{20.0} <music21.note.Note F>\n",
      "{21.0} <music21.note.Note D>\n",
      "{22.0} <music21.note.Note E>\n",
      "{23.0} <music21.note.Note F>\n",
      "{24.0} <music21.note.Note F>\n",
      "{24.5} <music21.note.Note F>\n",
      "{25.5} <music21.note.Note E->\n",
      "{28.0} <music21.note.Note F>\n",
      "{29.0} <music21.note.Note D>\n",
      "{30.0} <music21.note.Note E>\n",
      "{31.0} <music21.note.Note F>\n"
     ]
    }
   ],
   "source": [
    "streamWithConcatRests.show('text')"
   ]
  },
  {
   "cell_type": "markdown",
   "metadata": {},
   "source": [
    "Concatonate continous identical pitches:"
   ]
  },
  {
   "cell_type": "code",
   "execution_count": 52,
   "metadata": {
    "scrolled": true
   },
   "outputs": [],
   "source": [
    "def concatIdenticalPitches(inputStream,at,to):\n",
    "    newStream = stream.Stream()\n",
    "    \n",
    "    previousPitch = False\n",
    "    newLength = 0\n",
    "    newStream.clef = inputStream.clef\n",
    "    newStream.insert(inputStream.getInstrument())\n",
    "    for inputNote in inputStream.notesAndRests:\n",
    "        if inputNote.isRest:\n",
    "            newNote = note.Rest(quarterLength = inputNote.quarterLength)\n",
    "        else:\n",
    "            newNote = note.Note(inputNote.nameWithOctave, quarterLength = inputNote.quarterLength)\n",
    "        if at == 0:\n",
    "            if to > 0:\n",
    "                if to < inputNote.quarterLength:\n",
    "                    if inputNote.isNote:\n",
    "                        if previousPitch == inputNote.nameWithOctave:\n",
    "                            newLength = newLength + to\n",
    "                        else:\n",
    "                            if previousPitch:\n",
    "                                newStream.append(note.Note(previousPitch, quarterLength = newLength))\n",
    "                            previousPitch = inputNote.nameWithOctave\n",
    "                            newLength = to\n",
    "                        if previousPitch:\n",
    "                            newStream.append(note.Note(previousPitch, quarterLength = newLength))\n",
    "                            previousPitch = False\n",
    "                        newNote = note.Note(inputNote.nameWithOctave, quarterLength = inputNote.quarterLength - newLength)\n",
    "                    else:\n",
    "                        if previousPitch:\n",
    "                            newStream.append(note.Note(previousPitch, quarterLength = newLength))  \n",
    "                            previousPitch = False \n",
    "                    to = 0\n",
    "                else:\n",
    "                    to = to - inputNote.quarterLength\n",
    "                    if inputNote.isNote:\n",
    "                        if previousPitch == inputNote.nameWithOctave:\n",
    "                            newLength = newLength + inputNote.quarterLength\n",
    "                        else:\n",
    "                            if previousPitch:\n",
    "                                newStream.append(note.Note(previousPitch, quarterLength = newLength))\n",
    "                            previousPitch = inputNote.nameWithOctave\n",
    "                            newLength = inputNote.quarterLength\n",
    "                    else:\n",
    "                        if previousPitch:\n",
    "                            newStream.append(note.Note(previousPitch, quarterLength = newLength))  \n",
    "                            previousPitch = False\n",
    "            else:\n",
    "                if previousPitch:\n",
    "                    newStream.append(note.Note(previousPitch, quarterLength = newLength))  \n",
    "                    previousPitch = False\n",
    "        elif at < inputNote.quarterLength:\n",
    "            if inputNote.isNote:\n",
    "                newStream.append(note.Note(inputNote.quarterLength,quarterLength = at))\n",
    "                previousPitch = inputNote.quarterLength\n",
    "                newLength = inputNote.quarterLength - at\n",
    "            else:\n",
    "                newNote = note.Rest(quarterLength = inputNote.quarterLength)\n",
    "            at = 0\n",
    "            to = to - inputNote.quarterLength\n",
    "        else:\n",
    "            at = at - inputNote.quarterLength\n",
    "            to = to - inputNote.quarterLength\n",
    "        if not previousPitch:\n",
    "            newStream.append(newNote)\n",
    "    if previousPitch:\n",
    "        newStream.append(note.Rest(quarterLength = newLength))\n",
    "    return newStream  "
   ]
  },
  {
   "cell_type": "code",
   "execution_count": 53,
   "metadata": {
    "scrolled": true
   },
   "outputs": [],
   "source": [
    "streamWithConcatPitches = concatIdenticalPitches(stream1,0,4.27)"
   ]
  },
  {
   "cell_type": "code",
   "execution_count": 54,
   "metadata": {
    "scrolled": true
   },
   "outputs": [
    {
     "data": {
      "text/html": [
       "\n",
       "                <div id='midiPlayerDiv2978'></div>\n",
       "                <link rel=\"stylesheet\" href=\"//cuthbertLab.github.io/music21j/css/m21.css\"\n",
       "                    type=\"text/css\" />\n",
       "                <script>\n",
       "                require.config({\n",
       "                    paths: {'music21': '//cuthbertLab.github.io/music21j/src/music21'}\n",
       "                });\n",
       "                require(['music21'], function() {\n",
       "                               mp = new music21.miditools.MidiPlayer();\n",
       "                               mp.addPlayer('#midiPlayerDiv2978');\n",
       "                               mp.base64Load('data:audio/midi;base64,TVRoZAAAAAYAAQACBABNVHJrAAAAFAD/UQMHoSAA/1gEBAIYCIgA/y8ATVRyawAAATcA/wMKQ29udHJhYmFzcwDAKwDgAEAAwCuIAJAwWpAAgDAAiACQMlqEAIAyAACQNFqEAIA0AACQNVqCFIA1AACQNVqFbIA1AACQMlqIAIAyAACQNFqIAIA0AACQNVqIAIA1AACQNVqEAIA1AACQNVqIAIA1AACQM1qUAIAzAACQNVqIAIA1AACQMlqIAIAyAACQNFqIAIA0AACQNVqIAIA1AACQMFqEAIAwAACQMFqEAIAwAACQMFqIAIAwAIgAkDJahACAMgAAkDRahACANAAAkDVaiACANQAAkDJaiACAMgAAkDRaiACANAAAkDVaiACANQAAkDVahACANQAAkDVaiACANQAAkDNalACAMwAAkDVaiACANQAAkDJaiACAMgAAkDRaiACANAAAkDVaiACANQCIAP8vAA==');\n",
       "                        });\n",
       "                </script>"
      ],
      "text/plain": [
       "<IPython.core.display.HTML object>"
      ]
     },
     "metadata": {},
     "output_type": "display_data"
    }
   ],
   "source": [
    "streamWithConcatPitches.show('midi')"
   ]
  },
  {
   "cell_type": "code",
   "execution_count": 55,
   "metadata": {
    "scrolled": true
   },
   "outputs": [],
   "source": [
    "streamWithConcatPitches.show('lily.pdf')"
   ]
  },
  {
   "cell_type": "code",
   "execution_count": 56,
   "metadata": {
    "scrolled": true
   },
   "outputs": [
    {
     "name": "stdout",
     "output_type": "stream",
     "text": [
      "{0.0} <music21.instrument.Contrabass 'Contrabass'>\n",
      "{0.0} <music21.clef.BassClef>\n",
      "{0.0} <music21.note.Note C>\n",
      "{2.0} <music21.note.Rest rest>\n",
      "{2.5} <music21.note.Rest rest>\n",
      "{3.0} <music21.note.Note D>\n",
      "{3.5} <music21.note.Note E>\n",
      "{4.0} <music21.note.Note F>\n",
      "{4.27} <music21.note.Note F>\n",
      "{5.0} <music21.note.Note D>\n",
      "{6.0} <music21.note.Note E>\n",
      "{7.0} <music21.note.Note F>\n",
      "{8.0} <music21.note.Note F>\n",
      "{8.5} <music21.note.Note F>\n",
      "{9.5} <music21.note.Note E->\n",
      "{12.0} <music21.note.Note F>\n",
      "{13.0} <music21.note.Note D>\n",
      "{14.0} <music21.note.Note E>\n",
      "{15.0} <music21.note.Note F>\n",
      "{16.0} <music21.note.Note C>\n",
      "{16.5} <music21.note.Note C>\n",
      "{17.0} <music21.note.Note C>\n",
      "{18.0} <music21.note.Rest rest>\n",
      "{18.5} <music21.note.Rest rest>\n",
      "{19.0} <music21.note.Note D>\n",
      "{19.5} <music21.note.Note E>\n",
      "{20.0} <music21.note.Note F>\n",
      "{21.0} <music21.note.Note D>\n",
      "{22.0} <music21.note.Note E>\n",
      "{23.0} <music21.note.Note F>\n",
      "{24.0} <music21.note.Note F>\n",
      "{24.5} <music21.note.Note F>\n",
      "{25.5} <music21.note.Note E->\n",
      "{28.0} <music21.note.Note F>\n",
      "{29.0} <music21.note.Note D>\n",
      "{30.0} <music21.note.Note E>\n",
      "{31.0} <music21.note.Note F>\n"
     ]
    },
    {
     "data": {
      "text/plain": [
       "32.0"
      ]
     },
     "execution_count": 56,
     "metadata": {},
     "output_type": "execute_result"
    }
   ],
   "source": [
    "streamWithConcatPitches.show('text')\n",
    "streamWithConcatPitches.quarterLength"
   ]
  },
  {
   "cell_type": "code",
   "execution_count": 57,
   "metadata": {},
   "outputs": [
    {
     "data": {
      "text/plain": [
       "32.0"
      ]
     },
     "execution_count": 57,
     "metadata": {},
     "output_type": "execute_result"
    }
   ],
   "source": [
    "streamWithConcatPitches.quarterLength"
   ]
  },
  {
   "cell_type": "markdown",
   "metadata": {},
   "source": [
    "### Copy & Operate Mutations"
   ]
  },
  {
   "cell_type": "markdown",
   "metadata": {},
   "source": [
    "Copy and Operate mutation:"
   ]
  },
  {
   "cell_type": "code",
   "execution_count": 58,
   "metadata": {
    "scrolled": true
   },
   "outputs": [],
   "source": [
    "def copyAndPaste(inputStream,at,to,length):\n",
    "    if at + length > inputStream.quarterLength:\n",
    "        raise Exception(\"At: \"+ str(at) +\" + length: \" + str(length) + \" is longer than inputStream: \" + str(inputStream.quarterLength))\n",
    "    if to + length > inputStream.quarterLength :\n",
    "        raise Exception(\"to: \" + str(to) + \" + length: \"+ str(length) + \" is longer than inputStream: \" + str(inputStream.quarterLength))\n",
    "    notes = inputStream.getElementsByOffset(at,at + length,includeEndBoundary=False, mustFinishInSpan = False, mustBeginInSpan = False, includeElementsThatEndAtStart = False).notesAndRests\n",
    "    \n",
    "    firstNote = notes[0]\n",
    "    lastNote = notes[- 1]\n",
    "    \n",
    "    copiedNotes = []\n",
    "    \n",
    "    if firstNote.isNote:\n",
    "        copiedNotes.append(note.Note(firstNote.nameWithOctave,quarterLength = firstNote.quarterLength + firstNote.offset - at))\n",
    "    else:\n",
    "        copiedNotes.append(note.Rest(quarterLength = firstNote.quarterLength  + firstNote.offset - at))\n",
    "    \n",
    "    for streamNote in notes[1:len(notes) - 1]:\n",
    "        copiedNotes.append(streamNote)\n",
    "        \n",
    "    if lastNote.isNote:\n",
    "        if (at + length) - lastNote.offset != 0:\n",
    "            copiedNotes.append(note.Note(lastNote.nameWithOctave,quarterLength = ((at +length) - lastNote.offset)))\n",
    "    else:\n",
    "        if (at + length) - lastNote.offset != 0:\n",
    "            copiedNotes.append(note.Rest(quarterLength = ((at +length) - lastNote.offset)))\n",
    "    \n",
    "    newStream = stream.Stream()\n",
    "    appending = True\n",
    "    newStream.clef = inputStream.clef\n",
    "    newStream.insert(inputStream.getInstrument())\n",
    "    for inputNote in inputStream.notesAndRests:\n",
    "        if inputNote.isRest:\n",
    "            newNote = note.Rest(quarterLength = inputNote.quarterLength)\n",
    "        else:\n",
    "            newNote = note.Note(inputNote.nameWithOctave, quarterLength = inputNote.quarterLength)\n",
    "        if to == 0:\n",
    "            if length > 0:\n",
    "                appending = False\n",
    "                if length < inputNote.quarterLength:\n",
    "                    for copiedNote in copiedNotes:\n",
    "                        if copiedNote.isNote:\n",
    "                            newStream.append(note.Note(copiedNote.nameWithOctave,quarterLength = copiedNote.quarterLength))\n",
    "                        else:\n",
    "                            newStream.append(note.Rest(quarterLength = copiedNote.quarterLength))\n",
    "                    \n",
    "                    if inputNote.isNote:\n",
    "                        newNote = note.Note(inputNote.nameWithOctave,quarterLength = inputNote.quarterLength - length)\n",
    "                    else:\n",
    "                        newNote = note.Rest(quarterLength = inputNote.quarterLength - length)\n",
    "                    appending = True\n",
    "                    length = 0\n",
    "                else:\n",
    "                    length = length - inputNote.quarterLength\n",
    "                    if length == 0:\n",
    "                        lastNote = copiedNotes.pop()\n",
    "                        for copiedNote in copiedNotes:\n",
    "                            if copiedNote.isNote:\n",
    "                                newStream.append(note.Note(copiedNote.nameWithOctave,quarterLength = copiedNote.quarterLength))\n",
    "                            else:\n",
    "                                newStream.append(note.Rest(quarterLength = copiedNote.quarterLength))\n",
    "                        if lastNote.isNote:\n",
    "                            newNote = note.Note(lastNote.nameWithOctave,quarterLength = lastNote.quarterLength)\n",
    "                        else:\n",
    "                            newNote = note.Rest(quarterLength = lastNote.quarterLength)\n",
    "                        appending = True\n",
    "        elif to < inputNote.quarterLength:\n",
    "            if inputNote.isNote:\n",
    "                newNote = note.Note(inputNote.nameWithOctave, quarterLength = to)\n",
    "            else:\n",
    "                newNote = note.Rest(quarterLength = to)\n",
    "            length = length - (inputNote.quarterLength - to)\n",
    "            to = 0\n",
    "        else:\n",
    "            to = to - inputNote.quarterLength\n",
    "        if appending:\n",
    "            newStream.append(newNote)\n",
    "    return newStream"
   ]
  },
  {
   "cell_type": "code",
   "execution_count": 59,
   "metadata": {
    "scrolled": true
   },
   "outputs": [],
   "source": [
    "copyPasteStream = copyAndPaste(stream1,4,0,2)"
   ]
  },
  {
   "cell_type": "code",
   "execution_count": 60,
   "metadata": {
    "scrolled": true
   },
   "outputs": [
    {
     "data": {
      "text/html": [
       "\n",
       "                <div id='midiPlayerDiv3267'></div>\n",
       "                <link rel=\"stylesheet\" href=\"//cuthbertLab.github.io/music21j/css/m21.css\"\n",
       "                    type=\"text/css\" />\n",
       "                <script>\n",
       "                require.config({\n",
       "                    paths: {'music21': '//cuthbertLab.github.io/music21j/src/music21'}\n",
       "                });\n",
       "                require(['music21'], function() {\n",
       "                               mp = new music21.miditools.MidiPlayer();\n",
       "                               mp.addPlayer('#midiPlayerDiv3267');\n",
       "                               mp.base64Load('data:audio/midi;base64,TVRoZAAAAAYAAQACBABNVHJrAAAAFAD/UQMHoSAA/1gEBAIYCIgA/y8ATVRyawAAATcA/wMKQ29udHJhYmFzcwDAKwDgAEAAwCuIAJA1WogAgDUAAJAyWogAgDIAiACQMlqEAIAyAACQNFqEAIA0AACQNVqIAIA1AACQMlqIAIAyAACQNFqIAIA0AACQNVqIAIA1AACQNVqEAIA1AACQNVqIAIA1AACQM1qUAIAzAACQNVqIAIA1AACQMlqIAIAyAACQNFqIAIA0AACQNVqIAIA1AACQMFqEAIAwAACQMFqEAIAwAACQMFqIAIAwAIgAkDJahACAMgAAkDRahACANAAAkDVaiACANQAAkDJaiACAMgAAkDRaiACANAAAkDVaiACANQAAkDVahACANQAAkDVaiACANQAAkDNalACAMwAAkDVaiACANQAAkDJaiACAMgAAkDRaiACANAAAkDVaiACANQCIAP8vAA==');\n",
       "                        });\n",
       "                </script>"
      ],
      "text/plain": [
       "<IPython.core.display.HTML object>"
      ]
     },
     "metadata": {},
     "output_type": "display_data"
    }
   ],
   "source": [
    "copyPasteStream.show('midi')"
   ]
  },
  {
   "cell_type": "code",
   "execution_count": 61,
   "metadata": {
    "scrolled": true
   },
   "outputs": [],
   "source": [
    "copyPasteStream.show('lily.png')"
   ]
  },
  {
   "cell_type": "code",
   "execution_count": 62,
   "metadata": {
    "scrolled": true
   },
   "outputs": [
    {
     "name": "stdout",
     "output_type": "stream",
     "text": [
      "{0.0} <music21.instrument.Contrabass 'Contrabass'>\n",
      "{0.0} <music21.clef.BassClef>\n",
      "{0.0} <music21.note.Note F>\n",
      "{1.0} <music21.note.Note D>\n",
      "{2.0} <music21.note.Rest rest>\n",
      "{2.5} <music21.note.Rest rest>\n",
      "{3.0} <music21.note.Note D>\n",
      "{3.5} <music21.note.Note E>\n",
      "{4.0} <music21.note.Note F>\n",
      "{5.0} <music21.note.Note D>\n",
      "{6.0} <music21.note.Note E>\n",
      "{7.0} <music21.note.Note F>\n",
      "{8.0} <music21.note.Note F>\n",
      "{8.5} <music21.note.Note F>\n",
      "{9.5} <music21.note.Note E->\n",
      "{12.0} <music21.note.Note F>\n",
      "{13.0} <music21.note.Note D>\n",
      "{14.0} <music21.note.Note E>\n",
      "{15.0} <music21.note.Note F>\n",
      "{16.0} <music21.note.Note C>\n",
      "{16.5} <music21.note.Note C>\n",
      "{17.0} <music21.note.Note C>\n",
      "{18.0} <music21.note.Rest rest>\n",
      "{18.5} <music21.note.Rest rest>\n",
      "{19.0} <music21.note.Note D>\n",
      "{19.5} <music21.note.Note E>\n",
      "{20.0} <music21.note.Note F>\n",
      "{21.0} <music21.note.Note D>\n",
      "{22.0} <music21.note.Note E>\n",
      "{23.0} <music21.note.Note F>\n",
      "{24.0} <music21.note.Note F>\n",
      "{24.5} <music21.note.Note F>\n",
      "{25.5} <music21.note.Note E->\n",
      "{28.0} <music21.note.Note F>\n",
      "{29.0} <music21.note.Note D>\n",
      "{30.0} <music21.note.Note E>\n",
      "{31.0} <music21.note.Note F>\n"
     ]
    },
    {
     "data": {
      "text/plain": [
       "32.0"
      ]
     },
     "execution_count": 62,
     "metadata": {},
     "output_type": "execute_result"
    }
   ],
   "source": [
    "copyPasteStream.show('text')\n",
    "copyPasteStream.quarterLength"
   ]
  },
  {
   "cell_type": "markdown",
   "metadata": {},
   "source": [
    "swap:"
   ]
  },
  {
   "cell_type": "code",
   "execution_count": 63,
   "metadata": {
    "scrolled": true
   },
   "outputs": [],
   "source": [
    "def swap(inputStream,at,to,length):\n",
    "    if at + length > inputStream.quarterLength:\n",
    "        raise Exception(\"At: \"+ str(at) +\" + length: \" + str(length) + \" is longer than inputStream: \" + str(inputStream.quarterLength))\n",
    "    if at + length > to:\n",
    "        raise Exception(\"At: \"+ str(at) +\" + length: \" + str(length) + \" is longer than to: \" + str(to))\n",
    "    if to + length > inputStream.quarterLength :\n",
    "        raise Exception(\"to: \" + str(to) + \" + length: \"+ str(length) + \" is longer than inputStream: \" + str(inputStream.quarterLength))\n",
    "    notesAt = inputStream.getElementsByOffset(at,at + length,includeEndBoundary=False, mustFinishInSpan = False,mustBeginInSpan = False, includeElementsThatEndAtStart = False).notesAndRests\n",
    "    \n",
    "    firstNote = notesAt[0]\n",
    "    lastNote = notesAt[len(notesAt) - 1]\n",
    "    \n",
    "    copiedNotesFromAt = []\n",
    "    \n",
    "    if firstNote.isNote:\n",
    "        copiedNotesFromAt.append(note.Note(firstNote.nameWithOctave,quarterLength = firstNote.quarterLength + firstNote.offset - at))\n",
    "    else:\n",
    "        copiedNotesFromAt.append(note.Rest(quarterLength = firstNote.quarterLength + firstNote.offset - at))\n",
    "    \n",
    "    for streamNote in notesAt[1:len(notesAt) - 1]:\n",
    "        copiedNotesFromAt.append(streamNote)\n",
    "        \n",
    "    if lastNote.isNote:\n",
    "        if (at + length) - lastNote.offset != 0:\n",
    "            copiedNotesFromAt.append(note.Note(lastNote.nameWithOctave,quarterLength = ((at +length) - lastNote.offset)))\n",
    "    else:\n",
    "        if (at + length) - lastNote.offset != 0:\n",
    "            copiedNotesFromAt.append(note.Rest(quarterLength = ((at +length) - lastNote.offset)))\n",
    "    \n",
    "    toLength = length\n",
    "    \n",
    "    notesTo = inputStream.getElementsByOffset(to,to + length,includeEndBoundary=False, mustFinishInSpan = False,mustBeginInSpan = False,includeElementsThatEndAtStart = False).notesAndRests\n",
    "    \n",
    "    firstNote = notesTo[0]\n",
    "    lastNote = notesTo[len(notesTo) - 1]\n",
    "    \n",
    "    copiedNotesFromTo = []\n",
    "    \n",
    "    if firstNote.isNote:\n",
    "        copiedNotesFromTo.append(note.Note(firstNote.nameWithOctave,quarterLength = firstNote.quarterLength + firstNote.offset - to))\n",
    "    else:\n",
    "        copiedNotesFromTo.append(note.Rest(quarterLength = firstNote.quarterLength + firstNote.offset - to))\n",
    "    \n",
    "    for streamNote in notesTo[1:len(notesTo) - 1]:\n",
    "        copiedNotesFromTo.append(streamNote)\n",
    "\n",
    "    if lastNote.isNote:\n",
    "        if (to + length) - lastNote.offset != 0:\n",
    "            copiedNotesFromTo.append(note.Note(lastNote.nameWithOctave,quarterLength = ((to +length) - lastNote.offset)))\n",
    "    else:\n",
    "        if (to + length) - lastNote.offset != 0:\n",
    "            copiedNotesFromTo.append(note.Rest(quarterLength = ((to +length) - lastNote.offset)))\n",
    "            \n",
    "    newStream = stream.Stream()\n",
    "    appending = True\n",
    "    newStream.clef = inputStream.clef\n",
    "    newStream.insert(inputStream.getInstrument())\n",
    "    for inputNote in inputStream.notesAndRests:\n",
    "        if inputNote.isRest:\n",
    "            newNote = note.Rest(quarterLength = inputNote.quarterLength)\n",
    "        else:\n",
    "            newNote = note.Note(inputNote.nameWithOctave, quarterLength = inputNote.quarterLength)\n",
    "        if to == 0:\n",
    "            if toLength > 0:\n",
    "                appending = False\n",
    "                if toLength < inputNote.quarterLength:\n",
    "                    for copiedNote in copiedNotesFromAt:\n",
    "                        if copiedNote.isNote:\n",
    "                            newStream.append(note.Note(copiedNote.nameWithOctave,quarterLength = copiedNote.quarterLength))\n",
    "                        else:\n",
    "                            newStream.append(note.Rest(quarterLength = copiedNote.quarterLength))\n",
    "                    if inputNote.isNote:\n",
    "                        newNote = note.Note(inputNote.nameWithOctave,quarterLength = inputNote.quarterLength - toLength)\n",
    "                    else:\n",
    "                        newNote = note.Rest(quarterLength = inputNote.quarterLength - toLength)\n",
    "                    appending = True\n",
    "                    toLength = 0\n",
    "                else:\n",
    "                    toLength = toLength - inputNote.quarterLength\n",
    "                    if toLength == 0:\n",
    "                        lastNote = copiedNotesFromAt.pop()\n",
    "                        if lastNote.isNote:\n",
    "                            newNote = note.Note(lastNote.nameWithOctave,quarterLength = lastNote.quarterLength)\n",
    "                        else:\n",
    "                            newNote = note.Rest(quarterLength = lastNote.quarterLength)\n",
    "                        for copiedNote in copiedNotesFromAt:\n",
    "                            if copiedNote.isNote:\n",
    "                                newStream.append(note.Note(copiedNote.nameWithOctave,quarterLength = copiedNote.quarterLength))\n",
    "                            else:\n",
    "                                newStream.append(note.Rest(quarterLength = copiedNote.quarterLength))\n",
    "                        appending = True\n",
    "        elif to < inputNote.quarterLength:\n",
    "            if inputNote.isNote:\n",
    "                newNote = note.Note(inputNote.nameWithOctave, quarterLength = to)\n",
    "            else:\n",
    "                newNote = note.Rest(quarterLength = to)\n",
    "            toLength = toLength - (inputNote.quarterLength - to)\n",
    "            to = 0\n",
    "        elif at == 0:\n",
    "            if length > 0:\n",
    "                appending = False\n",
    "                if length < inputNote.quarterLength:\n",
    "                    for copiedNote in copiedNotesFromTo:\n",
    "                        if copiedNote.isNote:\n",
    "                            newStream.append(note.Note(copiedNote.nameWithOctave,quarterLength = copiedNote.quarterLength))\n",
    "                        else:\n",
    "                            newStream.append(note.Rest(quarterLength = copiedNote.quarterLength))\n",
    "                    if inputNote.isNote:\n",
    "                        newNote = note.Note(inputNote.nameWithOctave,quarterLength = inputNote.quarterLength - length)\n",
    "                    else:\n",
    "                        newNote = note.Rest(quarterLength = inputNote.quarterLength - length)\n",
    "                    appending = True\n",
    "                    length = 0\n",
    "                else:\n",
    "                    length = length - inputNote.quarterLength\n",
    "                    if length == 0:\n",
    "                        lastNote = copiedNotesFromTo.pop()\n",
    "                        if lastNote.isNote:\n",
    "                            newNote = note.Note(lastNote.nameWithOctave,quarterLength = lastNote.quarterLength)\n",
    "                        else:\n",
    "                            newNote = note.Rest(quarterLength = lastNote.quarterLength)\n",
    "                        for copiedNote in copiedNotesFromTo:\n",
    "                            if copiedNote.isNote:\n",
    "                                newStream.append(note.Note(copiedNote.nameWithOctave,quarterLength = copiedNote.quarterLength))\n",
    "                            else:\n",
    "                                newStream.append(note.Rest(quarterLength = copiedNote.quarterLength))\n",
    "                        appending = True\n",
    "            \n",
    "            to = to - inputNote.quarterLength\n",
    "        elif at < inputNote.quarterLength:\n",
    "            if inputNote.isNote:\n",
    "                newNote = note.Note(inputNote.nameWithOctave, quarterLength = at)\n",
    "            else:\n",
    "                newNote = note.Rest(quarterLength = at)\n",
    "            length = length - (inputNote.quarterLength - at)\n",
    "            at = 0\n",
    "            to = to - inputNote.quarterLength        \n",
    "        else:\n",
    "            at = at - inputNote.quarterLength\n",
    "            to = to - inputNote.quarterLength\n",
    "        if appending:\n",
    "            newStream.append(newNote)\n",
    "    return newStream"
   ]
  },
  {
   "cell_type": "code",
   "execution_count": 64,
   "metadata": {
    "scrolled": true
   },
   "outputs": [],
   "source": [
    "swapStream = swap(stream1,1,5,3)"
   ]
  },
  {
   "cell_type": "code",
   "execution_count": 65,
   "metadata": {
    "scrolled": true
   },
   "outputs": [
    {
     "data": {
      "text/html": [
       "\n",
       "                <div id='midiPlayerDiv3565'></div>\n",
       "                <link rel=\"stylesheet\" href=\"//cuthbertLab.github.io/music21j/css/m21.css\"\n",
       "                    type=\"text/css\" />\n",
       "                <script>\n",
       "                require.config({\n",
       "                    paths: {'music21': '//cuthbertLab.github.io/music21j/src/music21'}\n",
       "                });\n",
       "                require(['music21'], function() {\n",
       "                               mp = new music21.miditools.MidiPlayer();\n",
       "                               mp.addPlayer('#midiPlayerDiv3565');\n",
       "                               mp.base64Load('data:audio/midi;base64,TVRoZAAAAAYAAQACBABNVHJrAAAAFAD/UQMHoSAA/1gEBAIYCIgA/y8ATVRyawAAAUAA/wMKQ29udHJhYmFzcwDAKwDgAEAAwCuIAJAwWoQAgDAAAJAwWoQAgDAAAJAyWogAgDIAAJA0WogAgDQAAJA1WogAgDUAAJA1WogAgDUAAJAwWogAgDAAiACQMlqEAIAyAACQNFqEAIA0AACQNVqEAIA1AACQNVqIAIA1AACQM1qUAIAzAACQNVqIAIA1AACQMlqIAIAyAACQNFqIAIA0AACQNVqIAIA1AACQMFqEAIAwAACQMFqEAIAwAACQMFqIAIAwAIgAkDJahACAMgAAkDRahACANAAAkDVaiACANQAAkDJaiACAMgAAkDRaiACANAAAkDVaiACANQAAkDVahACANQAAkDVaiACANQAAkDNalACAMwAAkDVaiACANQAAkDJaiACAMgAAkDRaiACANAAAkDVaiACANQCIAP8vAA==');\n",
       "                        });\n",
       "                </script>"
      ],
      "text/plain": [
       "<IPython.core.display.HTML object>"
      ]
     },
     "metadata": {},
     "output_type": "display_data"
    }
   ],
   "source": [
    "swapStream.show('midi')"
   ]
  },
  {
   "cell_type": "code",
   "execution_count": 66,
   "metadata": {
    "scrolled": true
   },
   "outputs": [],
   "source": [
    "swapStream.show('lily.png')"
   ]
  },
  {
   "cell_type": "code",
   "execution_count": 67,
   "metadata": {
    "scrolled": true
   },
   "outputs": [
    {
     "name": "stdout",
     "output_type": "stream",
     "text": [
      "{0.0} <music21.instrument.Contrabass 'Contrabass'>\n",
      "{0.0} <music21.clef.BassClef>\n",
      "{0.0} <music21.note.Note C>\n",
      "{0.5} <music21.note.Note C>\n",
      "{1.0} <music21.note.Note D>\n",
      "{2.0} <music21.note.Note E>\n",
      "{3.0} <music21.note.Note F>\n",
      "{4.0} <music21.note.Note F>\n",
      "{5.0} <music21.note.Note C>\n",
      "{6.0} <music21.note.Rest rest>\n",
      "{6.5} <music21.note.Rest rest>\n",
      "{7.0} <music21.note.Note D>\n",
      "{7.5} <music21.note.Note E>\n",
      "{8.0} <music21.note.Note F>\n",
      "{8.5} <music21.note.Note F>\n",
      "{9.5} <music21.note.Note E->\n",
      "{12.0} <music21.note.Note F>\n",
      "{13.0} <music21.note.Note D>\n",
      "{14.0} <music21.note.Note E>\n",
      "{15.0} <music21.note.Note F>\n",
      "{16.0} <music21.note.Note C>\n",
      "{16.5} <music21.note.Note C>\n",
      "{17.0} <music21.note.Note C>\n",
      "{18.0} <music21.note.Rest rest>\n",
      "{18.5} <music21.note.Rest rest>\n",
      "{19.0} <music21.note.Note D>\n",
      "{19.5} <music21.note.Note E>\n",
      "{20.0} <music21.note.Note F>\n",
      "{21.0} <music21.note.Note D>\n",
      "{22.0} <music21.note.Note E>\n",
      "{23.0} <music21.note.Note F>\n",
      "{24.0} <music21.note.Note F>\n",
      "{24.5} <music21.note.Note F>\n",
      "{25.5} <music21.note.Note E->\n",
      "{28.0} <music21.note.Note F>\n",
      "{29.0} <music21.note.Note D>\n",
      "{30.0} <music21.note.Note E>\n",
      "{31.0} <music21.note.Note F>\n"
     ]
    },
    {
     "data": {
      "text/plain": [
       "32.0"
      ]
     },
     "execution_count": 67,
     "metadata": {},
     "output_type": "execute_result"
    }
   ],
   "source": [
    "swapStream.show('text')\n",
    "swapStream.quarterLength"
   ]
  },
  {
   "cell_type": "markdown",
   "metadata": {},
   "source": [
    "### Restricted Copy & Operate mutations"
   ]
  },
  {
   "cell_type": "markdown",
   "metadata": {},
   "source": [
    "Restricted Copy and Paste:"
   ]
  },
  {
   "cell_type": "code",
   "execution_count": 68,
   "metadata": {
    "scrolled": true
   },
   "outputs": [],
   "source": [
    "def restrictedCopyAndPaste(inputStream,at,to,length):\n",
    "    if at%(4)!= 0:\n",
    "        raise Exception(\"At is not dividable by 4\")\n",
    "    elif to%(4)!= 0:\n",
    "        raise Exception(\"To is not dividable by 4\")\n",
    "    elif length != 2:\n",
    "        raise Exception(\"Length is not half a bar\")\n",
    "    else:\n",
    "        return copyAndPaste(inputStream,at,to,length)"
   ]
  },
  {
   "cell_type": "code",
   "execution_count": 69,
   "metadata": {
    "scrolled": true
   },
   "outputs": [],
   "source": [
    "restrictedCopyStream = restrictedCopyAndPaste(stream1,4,0,2)"
   ]
  },
  {
   "cell_type": "code",
   "execution_count": 70,
   "metadata": {
    "scrolled": true
   },
   "outputs": [
    {
     "data": {
      "text/html": [
       "\n",
       "                <div id='midiPlayerDiv3858'></div>\n",
       "                <link rel=\"stylesheet\" href=\"//cuthbertLab.github.io/music21j/css/m21.css\"\n",
       "                    type=\"text/css\" />\n",
       "                <script>\n",
       "                require.config({\n",
       "                    paths: {'music21': '//cuthbertLab.github.io/music21j/src/music21'}\n",
       "                });\n",
       "                require(['music21'], function() {\n",
       "                               mp = new music21.miditools.MidiPlayer();\n",
       "                               mp.addPlayer('#midiPlayerDiv3858');\n",
       "                               mp.base64Load('data:audio/midi;base64,TVRoZAAAAAYAAQACBABNVHJrAAAAFAD/UQMHoSAA/1gEBAIYCIgA/y8ATVRyawAAATcA/wMKQ29udHJhYmFzcwDAKwDgAEAAwCuIAJA1WogAgDUAAJAyWogAgDIAiACQMlqEAIAyAACQNFqEAIA0AACQNVqIAIA1AACQMlqIAIAyAACQNFqIAIA0AACQNVqIAIA1AACQNVqEAIA1AACQNVqIAIA1AACQM1qUAIAzAACQNVqIAIA1AACQMlqIAIAyAACQNFqIAIA0AACQNVqIAIA1AACQMFqEAIAwAACQMFqEAIAwAACQMFqIAIAwAIgAkDJahACAMgAAkDRahACANAAAkDVaiACANQAAkDJaiACAMgAAkDRaiACANAAAkDVaiACANQAAkDVahACANQAAkDVaiACANQAAkDNalACAMwAAkDVaiACANQAAkDJaiACAMgAAkDRaiACANAAAkDVaiACANQCIAP8vAA==');\n",
       "                        });\n",
       "                </script>"
      ],
      "text/plain": [
       "<IPython.core.display.HTML object>"
      ]
     },
     "metadata": {},
     "output_type": "display_data"
    }
   ],
   "source": [
    "restrictedCopyStream.show('midi')"
   ]
  },
  {
   "cell_type": "code",
   "execution_count": 71,
   "metadata": {
    "scrolled": true
   },
   "outputs": [],
   "source": [
    "restrictedCopyStream.show('lily.png')"
   ]
  },
  {
   "cell_type": "code",
   "execution_count": 72,
   "metadata": {
    "scrolled": true
   },
   "outputs": [
    {
     "name": "stdout",
     "output_type": "stream",
     "text": [
      "{0.0} <music21.instrument.Contrabass 'Contrabass'>\n",
      "{0.0} <music21.clef.BassClef>\n",
      "{0.0} <music21.note.Note F>\n",
      "{1.0} <music21.note.Note D>\n",
      "{2.0} <music21.note.Rest rest>\n",
      "{2.5} <music21.note.Rest rest>\n",
      "{3.0} <music21.note.Note D>\n",
      "{3.5} <music21.note.Note E>\n",
      "{4.0} <music21.note.Note F>\n",
      "{5.0} <music21.note.Note D>\n",
      "{6.0} <music21.note.Note E>\n",
      "{7.0} <music21.note.Note F>\n",
      "{8.0} <music21.note.Note F>\n",
      "{8.5} <music21.note.Note F>\n",
      "{9.5} <music21.note.Note E->\n",
      "{12.0} <music21.note.Note F>\n",
      "{13.0} <music21.note.Note D>\n",
      "{14.0} <music21.note.Note E>\n",
      "{15.0} <music21.note.Note F>\n",
      "{16.0} <music21.note.Note C>\n",
      "{16.5} <music21.note.Note C>\n",
      "{17.0} <music21.note.Note C>\n",
      "{18.0} <music21.note.Rest rest>\n",
      "{18.5} <music21.note.Rest rest>\n",
      "{19.0} <music21.note.Note D>\n",
      "{19.5} <music21.note.Note E>\n",
      "{20.0} <music21.note.Note F>\n",
      "{21.0} <music21.note.Note D>\n",
      "{22.0} <music21.note.Note E>\n",
      "{23.0} <music21.note.Note F>\n",
      "{24.0} <music21.note.Note F>\n",
      "{24.5} <music21.note.Note F>\n",
      "{25.5} <music21.note.Note E->\n",
      "{28.0} <music21.note.Note F>\n",
      "{29.0} <music21.note.Note D>\n",
      "{30.0} <music21.note.Note E>\n",
      "{31.0} <music21.note.Note F>\n"
     ]
    }
   ],
   "source": [
    "restrictedCopyStream.show('text')"
   ]
  },
  {
   "cell_type": "markdown",
   "metadata": {},
   "source": [
    "Restricted swap:"
   ]
  },
  {
   "cell_type": "code",
   "execution_count": 73,
   "metadata": {
    "scrolled": true
   },
   "outputs": [],
   "source": [
    "def restrictedSwap(inputStream,at,to,length):\n",
    "    if at%(1/2)!= 0:\n",
    "        raise Exception(\"At is not dividable by 4\")\n",
    "    elif length != 2:\n",
    "        raise Exception(\"Length is not half a bar\")\n",
    "    else:\n",
    "        return swap(inputStream,at,to,length)"
   ]
  },
  {
   "cell_type": "code",
   "execution_count": 74,
   "metadata": {
    "scrolled": true
   },
   "outputs": [],
   "source": [
    "restrictedSwapStream = restrictedSwap(stream1,0,3,2)"
   ]
  },
  {
   "cell_type": "code",
   "execution_count": 75,
   "metadata": {
    "scrolled": true
   },
   "outputs": [
    {
     "data": {
      "text/html": [
       "\n",
       "                <div id='midiPlayerDiv4160'></div>\n",
       "                <link rel=\"stylesheet\" href=\"//cuthbertLab.github.io/music21j/css/m21.css\"\n",
       "                    type=\"text/css\" />\n",
       "                <script>\n",
       "                require.config({\n",
       "                    paths: {'music21': '//cuthbertLab.github.io/music21j/src/music21'}\n",
       "                });\n",
       "                require(['music21'], function() {\n",
       "                               mp = new music21.miditools.MidiPlayer();\n",
       "                               mp.addPlayer('#midiPlayerDiv4160');\n",
       "                               mp.base64Load('data:audio/midi;base64,TVRoZAAAAAYAAQACBABNVHJrAAAAFAD/UQMHoSAA/1gEBAIYCIgA/y8ATVRyawAAAUAA/wMKQ29udHJhYmFzcwDAKwDgAEAAwCuIAJAyWoQAgDIAAJA0WoQAgDQAAJA1WogAgDUAiACQMFqEAIAwAACQMFqEAIAwAACQMFqIAIAwAACQMlqIAIAyAACQNFqIAIA0AACQNVqIAIA1AACQNVqEAIA1AACQNVqIAIA1AACQM1qUAIAzAACQNVqIAIA1AACQMlqIAIAyAACQNFqIAIA0AACQNVqIAIA1AACQMFqEAIAwAACQMFqEAIAwAACQMFqIAIAwAIgAkDJahACAMgAAkDRahACANAAAkDVaiACANQAAkDJaiACAMgAAkDRaiACANAAAkDVaiACANQAAkDVahACANQAAkDVaiACANQAAkDNalACAMwAAkDVaiACANQAAkDJaiACAMgAAkDRaiACANAAAkDVaiACANQCIAP8vAA==');\n",
       "                        });\n",
       "                </script>"
      ],
      "text/plain": [
       "<IPython.core.display.HTML object>"
      ]
     },
     "metadata": {},
     "output_type": "display_data"
    }
   ],
   "source": [
    "restrictedSwapStream.show('midi')"
   ]
  },
  {
   "cell_type": "code",
   "execution_count": 76,
   "metadata": {
    "scrolled": true
   },
   "outputs": [],
   "source": [
    "restrictedSwapStream.show('lily.pdf')"
   ]
  },
  {
   "cell_type": "code",
   "execution_count": 77,
   "metadata": {
    "scrolled": true
   },
   "outputs": [
    {
     "name": "stdout",
     "output_type": "stream",
     "text": [
      "{0.0} <music21.instrument.Contrabass 'Contrabass'>\n",
      "{0.0} <music21.clef.BassClef>\n",
      "{0.0} <music21.note.Note D>\n",
      "{0.5} <music21.note.Note E>\n",
      "{1.0} <music21.note.Note F>\n",
      "{2.0} <music21.note.Rest rest>\n",
      "{2.5} <music21.note.Rest rest>\n",
      "{3.0} <music21.note.Note C>\n",
      "{3.5} <music21.note.Note C>\n",
      "{4.0} <music21.note.Note C>\n",
      "{5.0} <music21.note.Note D>\n",
      "{6.0} <music21.note.Note E>\n",
      "{7.0} <music21.note.Note F>\n",
      "{8.0} <music21.note.Note F>\n",
      "{8.5} <music21.note.Note F>\n",
      "{9.5} <music21.note.Note E->\n",
      "{12.0} <music21.note.Note F>\n",
      "{13.0} <music21.note.Note D>\n",
      "{14.0} <music21.note.Note E>\n",
      "{15.0} <music21.note.Note F>\n",
      "{16.0} <music21.note.Note C>\n",
      "{16.5} <music21.note.Note C>\n",
      "{17.0} <music21.note.Note C>\n",
      "{18.0} <music21.note.Rest rest>\n",
      "{18.5} <music21.note.Rest rest>\n",
      "{19.0} <music21.note.Note D>\n",
      "{19.5} <music21.note.Note E>\n",
      "{20.0} <music21.note.Note F>\n",
      "{21.0} <music21.note.Note D>\n",
      "{22.0} <music21.note.Note E>\n",
      "{23.0} <music21.note.Note F>\n",
      "{24.0} <music21.note.Note F>\n",
      "{24.5} <music21.note.Note F>\n",
      "{25.5} <music21.note.Note E->\n",
      "{28.0} <music21.note.Note F>\n",
      "{29.0} <music21.note.Note D>\n",
      "{30.0} <music21.note.Note E>\n",
      "{31.0} <music21.note.Note F>\n"
     ]
    }
   ],
   "source": [
    "restrictedSwapStream.show('text')"
   ]
  },
  {
   "cell_type": "markdown",
   "metadata": {},
   "source": [
    "### Crossover"
   ]
  },
  {
   "cell_type": "markdown",
   "metadata": {},
   "source": [
    "one point crossover:"
   ]
  },
  {
   "cell_type": "code",
   "execution_count": 78,
   "metadata": {},
   "outputs": [],
   "source": [
    "def onePointCrossover(inputStream1,inputStream2,at):\n",
    "    newStream = stream.Stream()\n",
    "    newStream.clef = inputStream1.clef\n",
    "    newStream.insert(inputStream1.getInstrument())\n",
    "    start = inputStream1.getElementsByOffset(0,at,includeEndBoundary=False, mustFinishInSpan = False,mustBeginInSpan = False,includeElementsThatEndAtStart = False).notesAndRests\n",
    "    end = inputStream2.getElementsByOffset(at,inputStream2.quarterLength,includeEndBoundary=False,mustFinishInSpan = False,mustBeginInSpan = False,includeElementsThatEndAtStart = False).notesAndRests\n",
    "    if(len(start) != 1):\n",
    "        for element in start[:- 1]:\n",
    "            if element.isRest:\n",
    "                newNote = note.Rest(quarterLength = element.quarterLength)\n",
    "            else:\n",
    "                newNote = note.Note(element.nameWithOctave, quarterLength = element.quarterLength)\n",
    "            newStream.append(newNote)\n",
    "    lastStart = start[- 1]\n",
    "    \n",
    "    if lastStart.quarterLength + lastStart.offset > at:\n",
    "        newLength = at - lastStart.offset\n",
    "        if lastStart.isRest:\n",
    "            newStream.append(note.Rest(quarterLength = newLength))\n",
    "        else:\n",
    "            newStream.append(note.Note(lastStart.nameWithOctave, quarterLength = newLength))\n",
    "    else:\n",
    "        if lastStart.isRest:\n",
    "            newStream.append(note.Rest(quarterLength = lastStart.quarterLength))\n",
    "        else:\n",
    "            newStream.append(note.Note(lastStart.nameWithOctave, quarterLength = lastStart.quarterLength))\n",
    "            \n",
    "    firstEnd = end[0]\n",
    "    if firstEnd.offset < at:\n",
    "        newLength = firstEnd.offset + firstEnd.quarterLength - at\n",
    "        if firstEnd.isRest:\n",
    "            newStream.append(note.Rest(quarterLength = newLength))\n",
    "        else:\n",
    "            newStream.append(note.Note(firstEnd.nameWithOctave, quarterLength = newLength))\n",
    "    else:\n",
    "        if firstEnd.isRest:\n",
    "            newStream.append(note.Rest(quarterLength = firstEnd.quarterLength))\n",
    "        else:\n",
    "            newStream.append(note.Note(firstEnd.nameWithOctave, quarterLength = firstEnd.quarterLength))\n",
    "    if len(end) != 0:\n",
    "        for element in end[1:]:\n",
    "            if element.isRest:\n",
    "                newNote = note.Rest(quarterLength = element.quarterLength)\n",
    "            else:\n",
    "                newNote = note.Note(element.nameWithOctave, quarterLength = element.quarterLength)\n",
    "            newStream.append(newNote)\n",
    "    return newStream"
   ]
  },
  {
   "cell_type": "code",
   "execution_count": 79,
   "metadata": {},
   "outputs": [],
   "source": [
    "cross = onePointCrossover(stream1,transposedStream,31.3125)"
   ]
  },
  {
   "cell_type": "code",
   "execution_count": 80,
   "metadata": {},
   "outputs": [
    {
     "data": {
      "text/html": [
       "\n",
       "                <div id='midiPlayerDiv4471'></div>\n",
       "                <link rel=\"stylesheet\" href=\"//cuthbertLab.github.io/music21j/css/m21.css\"\n",
       "                    type=\"text/css\" />\n",
       "                <script>\n",
       "                require.config({\n",
       "                    paths: {'music21': '//cuthbertLab.github.io/music21j/src/music21'}\n",
       "                });\n",
       "                require(['music21'], function() {\n",
       "                               mp = new music21.miditools.MidiPlayer();\n",
       "                               mp.addPlayer('#midiPlayerDiv4471');\n",
       "                               mp.base64Load('data:audio/midi;base64,TVRoZAAAAAYAAQACBABNVHJrAAAAFAD/UQMHoSAA/1gEBAIYCIgA/y8ATVRyawAAAUkA/wMKQ29udHJhYmFzcwDAKwDgAEAAwCuIAJAwWoQAgDAAAJAwWoQAgDAAAJAwWogAgDAAiACQMlqEAIAyAACQNFqEAIA0AACQNVqIAIA1AACQMlqIAIAyAACQNFqIAIA0AACQNVqIAIA1AACQNVqEAIA1AACQNVqIAIA1AACQM1qUAIAzAACQNVqIAIA1AACQMlqIAIAyAACQNFqIAIA0AACQNVqIAIA1AACQMFqEAIAwAACQMFqEAIAwAACQMFqIAIAwAIgAkDJahACAMgAAkDRahACANAAAkDVaiACANQAAkDJaiACAMgAAkDRaiACANAAAkDVaiACANQAAkDVahACANQAAkDVaiACANQAAkDNalACAMwAAkDVaiACANQAAkDJaiACAMgAAkDRaiACANAAAkDVagkCANQAAkDZahUCANgCIAP8vAA==');\n",
       "                        });\n",
       "                </script>"
      ],
      "text/plain": [
       "<IPython.core.display.HTML object>"
      ]
     },
     "metadata": {},
     "output_type": "display_data"
    }
   ],
   "source": [
    "cross.show('midi')"
   ]
  },
  {
   "cell_type": "code",
   "execution_count": 81,
   "metadata": {},
   "outputs": [],
   "source": [
    "cross.show('lily.png')"
   ]
  },
  {
   "cell_type": "code",
   "execution_count": 82,
   "metadata": {},
   "outputs": [
    {
     "data": {
      "text/plain": [
       "32.0"
      ]
     },
     "execution_count": 82,
     "metadata": {},
     "output_type": "execute_result"
    }
   ],
   "source": [
    "cross.quarterLength"
   ]
  },
  {
   "cell_type": "markdown",
   "metadata": {},
   "source": [
    "two point crossover:"
   ]
  },
  {
   "cell_type": "code",
   "execution_count": 83,
   "metadata": {},
   "outputs": [],
   "source": [
    "def twoPointCrossover(inputStream1,inputStream2,at,to):\n",
    "    newStream = stream.Stream()\n",
    "    newStream.clef = inputStream1.clef\n",
    "    newStream.insert(inputStream1.getInstrument())\n",
    "    start = inputStream1.getElementsByOffset(0,at,includeEndBoundary=False, mustFinishInSpan = False,mustBeginInSpan = False,includeElementsThatEndAtStart = False).notesAndRests\n",
    "    middle = inputStream2.getElementsByOffset(at,to,includeEndBoundary=False, mustFinishInSpan = False,mustBeginInSpan = False,includeElementsThatEndAtStart = False).notesAndRests\n",
    "    end = inputStream1.getElementsByOffset(to,inputStream1.quarterLength,includeEndBoundary=False,mustFinishInSpan = False,mustBeginInSpan = False,includeElementsThatEndAtStart = False).notesAndRests\n",
    "    ## elements from start\n",
    "    if len(start) != 1:\n",
    "        for element in start[:- 1]:\n",
    "            if element.isRest:\n",
    "                newNote = note.Rest(quarterLength = element.quarterLength)\n",
    "            else:\n",
    "                newNote = note.Note(element.nameWithOctave, quarterLength = element.quarterLength)\n",
    "            newStream.append(newNote)\n",
    "    \n",
    "    lastStart = start[- 1]\n",
    "    if lastStart.quarterLength + lastStart.offset > at:\n",
    "        newLength = at - lastStart.offset\n",
    "        if lastStart.isRest:\n",
    "            newStream.append(note.Rest(quarterLength = newLength))\n",
    "        else:\n",
    "            newStream.append(note.Note(lastStart.nameWithOctave, quarterLength = newLength))\n",
    "    else:\n",
    "        if lastStart.isRest:\n",
    "            newStream.append(note.Rest(quarterLength = lastStart.quarterLength))\n",
    "        else:\n",
    "            newStream.append(note.Note(lastStart.nameWithOctave, quarterLength = lastStart.quarterLength))\n",
    "    \n",
    "    ## elements from middle\n",
    "    if len(middle) == 1:\n",
    "        elementMiddle = middle[0]\n",
    "        if elementMiddle.offset < at:\n",
    "            newLength = to - at\n",
    "            if elementMiddle.isRest:\n",
    "                newStream.append(note.Rest(quarterLength = newLength))\n",
    "            else:\n",
    "                newStream.append(note.Note(elementMiddle.nameWithOctave, quarterLength = newLength))\n",
    "        else:\n",
    "            if elementMiddle.isRest:\n",
    "                newStream.append(note.Rest(quarterLength = firstMiddle.quarterLength))\n",
    "            else:\n",
    "                newStream.append(note.Note(elementMiddle.nameWithOctave, quarterLength = elementMiddle.quarterLength))\n",
    "    else:\n",
    "        firstMiddle = middle[0]\n",
    "        if firstMiddle.offset < at:\n",
    "            newLength = firstMiddle.offset + firstMiddle.quarterLength - at\n",
    "            if firstMiddle.isRest:\n",
    "                newStream.append(note.Rest(quarterLength = newLength))\n",
    "            else:\n",
    "                newStream.append(note.Note(firstMiddle.nameWithOctave, quarterLength = newLength))\n",
    "        else:\n",
    "            if firstMiddle.isRest:\n",
    "                newStream.append(note.Rest(quarterLength = firstMiddle.quarterLength))\n",
    "            else:\n",
    "                newStream.append(note.Note(firstMiddle.nameWithOctave, quarterLength = firstMiddle.quarterLength))\n",
    "\n",
    "        for element in middle[1:- 1]:\n",
    "            if element.isRest:\n",
    "                newNote = note.Rest(quarterLength = element.quarterLength)\n",
    "            else:\n",
    "                newNote = note.Note(element.nameWithOctave, quarterLength = element.quarterLength)\n",
    "            newStream.append(newNote)\n",
    "\n",
    "        lastMiddle = middle[- 1]\n",
    "        if lastMiddle.quarterLength + lastMiddle.offset > to:\n",
    "            newLength = to - lastMiddle.offset\n",
    "            if lastMiddle.isRest:\n",
    "                newStream.append(note.Rest(quarterLength = newLength))\n",
    "            else:\n",
    "                newStream.append(note.Note(lastMiddle.nameWithOctave, quarterLength = newLength))\n",
    "        else:\n",
    "            if lastMiddle.isRest:\n",
    "                newStream.append(note.Rest(quarterLength = lastMiddle.quarterLength))\n",
    "            else:\n",
    "                newStream.append(note.Note(lastMiddle.nameWithOctave, quarterLength = lastMiddle.quarterLength))\n",
    "\n",
    "    ## elements from end\n",
    "    \n",
    "    firstEnd = end[0]\n",
    "    if firstEnd.offset < to:\n",
    "        newLength = firstEnd.offset + firstEnd.quarterLength - to\n",
    "        if firstEnd.isRest:\n",
    "            newStream.append(note.Rest(quarterLength = newLength))\n",
    "        else:\n",
    "            newStream.append(note.Note(firstEnd.nameWithOctave, quarterLength = newLength))\n",
    "    else:\n",
    "        if firstEnd.isRest:\n",
    "            newStream.append(note.Rest(quarterLength = firstEnd.quarterLength))\n",
    "        else:\n",
    "            newStream.append(note.Note(firstEnd.nameWithOctave, quarterLength = firstEnd.quarterLength))\n",
    "    if len(end) != 1:\n",
    "        for element in end[1:]:\n",
    "            if element.isRest:\n",
    "                newNote = note.Rest(quarterLength = element.quarterLength)\n",
    "            else:\n",
    "                newNote = note.Note(element.nameWithOctave, quarterLength = element.quarterLength)\n",
    "            newStream.append(newNote)\n",
    "    return newStream"
   ]
  },
  {
   "cell_type": "code",
   "execution_count": 84,
   "metadata": {},
   "outputs": [],
   "source": [
    "cross2 = twoPointCrossover(stream1,transposedStream,16,31.3125)"
   ]
  },
  {
   "cell_type": "code",
   "execution_count": 85,
   "metadata": {},
   "outputs": [
    {
     "data": {
      "text/html": [
       "\n",
       "                <div id='midiPlayerDiv4786'></div>\n",
       "                <link rel=\"stylesheet\" href=\"//cuthbertLab.github.io/music21j/css/m21.css\"\n",
       "                    type=\"text/css\" />\n",
       "                <script>\n",
       "                require.config({\n",
       "                    paths: {'music21': '//cuthbertLab.github.io/music21j/src/music21'}\n",
       "                });\n",
       "                require(['music21'], function() {\n",
       "                               mp = new music21.miditools.MidiPlayer();\n",
       "                               mp.addPlayer('#midiPlayerDiv4786');\n",
       "                               mp.base64Load('data:audio/midi;base64,TVRoZAAAAAYAAQACBABNVHJrAAAAFAD/UQMHoSAA/1gEBAIYCIgA/y8ATVRyawAAAUkA/wMKQ29udHJhYmFzcwDAKwDgAEAAwCuIAJAwWoQAgDAAAJAwWoQAgDAAAJAwWogAgDAAiACQMlqEAIAyAACQNFqEAIA0AACQNVqIAIA1AACQMlqIAIAyAACQNFqIAIA0AACQNVqIAIA1AACQNVqEAIA1AACQNVqIAIA1AACQM1qUAIAzAACQNVqIAIA1AACQMlqIAIAyAACQNFqIAIA0AACQNVqIAIA1AACQMVqEAIAxAACQMVqEAIAxAACQMVqIAIAxAIgAkDNahACAMwAAkDVahACANQAAkDZaiACANgAAkDNaiACAMwAAkDVaiACANQAAkDZaiACANgAAkDZahACANgAAkDZaiACANgAAkDRalACANAAAkDZaiACANgAAkDNaiACAMwAAkDVaiACANQAAkDZagkCANgAAkDVahUCANQCIAP8vAA==');\n",
       "                        });\n",
       "                </script>"
      ],
      "text/plain": [
       "<IPython.core.display.HTML object>"
      ]
     },
     "metadata": {},
     "output_type": "display_data"
    }
   ],
   "source": [
    "cross2.show('midi')"
   ]
  },
  {
   "cell_type": "code",
   "execution_count": 86,
   "metadata": {},
   "outputs": [],
   "source": [
    "cross2.show('lily.png')"
   ]
  },
  {
   "cell_type": "code",
   "execution_count": 87,
   "metadata": {},
   "outputs": [
    {
     "name": "stdout",
     "output_type": "stream",
     "text": [
      "{0.0} <music21.instrument.Contrabass 'Contrabass'>\n",
      "{0.0} <music21.clef.BassClef>\n",
      "{0.0} <music21.note.Note C>\n",
      "{0.5} <music21.note.Note C>\n",
      "{1.0} <music21.note.Note C>\n",
      "{2.0} <music21.note.Rest rest>\n",
      "{2.5} <music21.note.Rest rest>\n",
      "{3.0} <music21.note.Note D>\n",
      "{3.5} <music21.note.Note E>\n",
      "{4.0} <music21.note.Note F>\n",
      "{5.0} <music21.note.Note D>\n",
      "{6.0} <music21.note.Note E>\n",
      "{7.0} <music21.note.Note F>\n",
      "{8.0} <music21.note.Note F>\n",
      "{8.5} <music21.note.Note F>\n",
      "{9.5} <music21.note.Note E->\n",
      "{12.0} <music21.note.Note F>\n",
      "{13.0} <music21.note.Note D>\n",
      "{14.0} <music21.note.Note E>\n",
      "{15.0} <music21.note.Note F>\n",
      "{16.0} <music21.note.Note C#>\n",
      "{16.5} <music21.note.Note C#>\n",
      "{17.0} <music21.note.Note C#>\n",
      "{18.0} <music21.note.Rest rest>\n",
      "{18.5} <music21.note.Rest rest>\n",
      "{19.0} <music21.note.Note E->\n",
      "{19.5} <music21.note.Note F>\n",
      "{20.0} <music21.note.Note F#>\n",
      "{21.0} <music21.note.Note E->\n",
      "{22.0} <music21.note.Note F>\n",
      "{23.0} <music21.note.Note F#>\n",
      "{24.0} <music21.note.Note F#>\n",
      "{24.5} <music21.note.Note F#>\n",
      "{25.5} <music21.note.Note E>\n",
      "{28.0} <music21.note.Note F#>\n",
      "{29.0} <music21.note.Note E->\n",
      "{30.0} <music21.note.Note F>\n",
      "{31.0} <music21.note.Note F#>\n",
      "{31.3125} <music21.note.Note F>\n"
     ]
    }
   ],
   "source": [
    "cross2.show('text')"
   ]
  },
  {
   "cell_type": "code",
   "execution_count": 88,
   "metadata": {},
   "outputs": [
    {
     "data": {
      "text/plain": [
       "32.0"
      ]
     },
     "execution_count": 88,
     "metadata": {},
     "output_type": "execute_result"
    }
   ],
   "source": [
    "cross2.quarterLength"
   ]
  },
  {
   "cell_type": "markdown",
   "metadata": {},
   "source": [
    "## Fitness Function"
   ]
  },
  {
   "cell_type": "markdown",
   "metadata": {},
   "source": [
    "### Original Fitness function "
   ]
  },
  {
   "cell_type": "markdown",
   "metadata": {},
   "source": [
    "Large Intervals:"
   ]
  },
  {
   "cell_type": "code",
   "execution_count": 89,
   "metadata": {
    "scrolled": true
   },
   "outputs": [],
   "source": [
    "def largeIntervals(stream,large):\n",
    "    previousNote = False\n",
    "    for note in stream.notesAndRests:\n",
    "        if previousNote:\n",
    "            if note.isRest:\n",
    "                previousNote = False\n",
    "            elif interval.Interval(previousNote,note).intervalClass > large:\n",
    "                return True\n",
    "        previousNote = note\n",
    "    return False"
   ]
  },
  {
   "cell_type": "code",
   "execution_count": 90,
   "metadata": {
    "scrolled": true
   },
   "outputs": [
    {
     "data": {
      "text/plain": [
       "False"
      ]
     },
     "execution_count": 90,
     "metadata": {},
     "output_type": "execute_result"
    }
   ],
   "source": [
    "largeIntervals(stream1,10)"
   ]
  },
  {
   "cell_type": "markdown",
   "metadata": {},
   "source": [
    "Pattern matching:"
   ]
  },
  {
   "cell_type": "code",
   "execution_count": 91,
   "metadata": {
    "scrolled": true
   },
   "outputs": [],
   "source": [
    "class RhythmPattern:\n",
    "    def __init__(self,startPos,endPos,rhythmList): \n",
    "        self.start = startPos\n",
    "        self.end = endPos\n",
    "        self.pattern = rhythmList\n",
    "    def __repr__(self):\n",
    "        return \"[ start = \" + str(self.start)  + \" | end = \" + str(self.end) + \" | pattern = \" + str(self.pattern) +  \" ]\"\n",
    "    def __str__(self):\n",
    "        return \"[ start = \" + str(self.start)  + \" | end = \" + str(self.end) + \" | pattern = \" + str(self.pattern) +  \" ]\"\n",
    "        \n",
    "class MelodyPattern:\n",
    "    def __init__(self,startPos,endPos,melodyList): \n",
    "        self.start = startPos\n",
    "        self.end = endPos\n",
    "        self.pattern = melodyList\n",
    "    def __repr__(self):\n",
    "        return \"[ start = \" + str(self.start)  + \" | end = \" + str(self.end) + \" | pattern = \" + str(self.pattern) +  \" ]\"\n",
    "    def __str__(self):\n",
    "        return \"[ start = \" + str(self.start)  + \" | end = \" + str(self.end) + \" | pattern = \" + str(self.pattern) +  \" ]\"\n",
    "\n",
    "class MelodyRhythmPattern:\n",
    "    def __init__(self,startPos,endPos,melodyList,rhythmList): \n",
    "        self.start = startPos\n",
    "        self.end = endPos\n",
    "        self.melodyPattern = melodyList\n",
    "        self.rhythmPattern = rhythmList\n",
    "    def __repr__(self):\n",
    "        return \"[ start = \" + str(self.start)  + \" | end = \" + str(self.end) + \" | melodyPattern = \" + str(self.melodyPattern) +  \" | rhythmPattern = \" + str(self.rhythmPattern) + \" ]\"\n",
    "    def __str__(self):\n",
    "        return \"[ start = \" + str(self.start)  + \" | end = \" + str(self.end) + \" | melodyPattern = \" + str(self.melodyPattern) +  \" | rhythmPattern = \" + str(self.rhythmPattern) + \" ]\"\n",
    "    \n",
    "class MatchedPattern:\n",
    "    def __init__(self,patternsList): \n",
    "        self.patterns = patternsList\n",
    "    def __repr__(self):\n",
    "        return \"[ patterns = \" + str(self.patterns) +  \" ]\"\n",
    "    def __str__(self):\n",
    "        return \"[ patterns = \" + str(self.patterns) +  \" ]\"\n",
    "    \n",
    "def ofLength(l,minimum):\n",
    "    if isinstance(l, stream.Stream):\n",
    "        return len(l) >= minimum\n",
    "    else:\n",
    "        return False\n",
    "        \n",
    "def subStreams (l):  \n",
    "    lists = []\n",
    "    for i in range(len(l)):\n",
    "        for j in range(i,len(l)):\n",
    "            listWithI = l[i:j + 1]\n",
    "            lists.append(listWithI)          \n",
    "    return lists"
   ]
  },
  {
   "cell_type": "code",
   "execution_count": 92,
   "metadata": {
    "scrolled": true
   },
   "outputs": [],
   "source": [
    "def patternMatchingRhythm(stream,minimumLength):\n",
    "    allSubStreams = list(filter(lambda l:ofLength(l,minimumLength),subStreams(stream.notesAndRests.stream())))\n",
    "    rhythms = []\n",
    "    for subStream in allSubStreams:\n",
    "        rhythm = []\n",
    "        for note in subStream:\n",
    "            rhythm.append(note.quarterLength)\n",
    "        rhythmPattern = RhythmPattern(subStream[0].offset,subStream[len(subStream) - 1].offset + subStream[len(subStream) - 1].quarterLength,rhythm)\n",
    "        rhythms.append(rhythmPattern)\n",
    "    matchedPatterns = []\n",
    "    while(len(rhythms) != 0):\n",
    "        rhythm = rhythms.pop(0)\n",
    "        matchedRhythms = [rhythm]\n",
    "        for otherRhythm in rhythms:\n",
    "            if len(rhythm.pattern) == len(otherRhythm.pattern):\n",
    "                same = True\n",
    "                for length1,length2 in zip(rhythm.pattern,otherRhythm.pattern):\n",
    "                    if length1 != length2:\n",
    "                        same = False\n",
    "                        break\n",
    "                if same:\n",
    "                    if rhythm.end <= otherRhythm.start or rhythm.start >= otherRhythm.end:\n",
    "                        matchedRhythms.append(otherRhythm)\n",
    "                        rhythms.remove(otherRhythm)\n",
    "        if len(matchedRhythms) != 1:\n",
    "            matchedPatterns.append(MatchedPattern(matchedRhythms))\n",
    "    return matchedPatterns"
   ]
  },
  {
   "cell_type": "code",
   "execution_count": 93,
   "metadata": {
    "scrolled": true
   },
   "outputs": [],
   "source": [
    "def patternMatchingMelody(stream,minimumLength):\n",
    "    allSubStreams = list(filter(lambda l:ofLength(l,minimumLength),subStreams(stream.notesAndRests.stream())))\n",
    "    melodies = []\n",
    "    for subStream in allSubStreams:\n",
    "        intervalDifferences = []\n",
    "        firstNote = subStream[0]\n",
    "        containsRest = False\n",
    "        for note in subStream:\n",
    "            if note.isRest:\n",
    "                containsRest = True\n",
    "                break\n",
    "            else:\n",
    "                intervalDifferences.append(interval.Interval(firstNote,note).intervalClass)      \n",
    "        if not(containsRest):\n",
    "            melodyPattern = MelodyPattern(subStream[0].offset,subStream[len(subStream) - 1].offset + subStream[len(subStream) - 1].quarterLength,intervalDifferences)\n",
    "            melodies.append(melodyPattern)\n",
    "    matchedPatterns = []\n",
    "    while(len(melodies) != 0):\n",
    "        melody = melodies.pop(0)\n",
    "        matchedMelodies = [melody]\n",
    "        for otherMelody in melodies:\n",
    "            if len(melody.pattern) == len(otherMelody.pattern):\n",
    "                same = True\n",
    "                for noteDifference1,noteDifference2 in zip(melody.pattern,otherMelody.pattern):\n",
    "                    if noteDifference1 != noteDifference2:\n",
    "                        same = False\n",
    "                        break\n",
    "                if same:\n",
    "                    if melody.end <= otherMelody.start or melody.start >= otherMelody.end:\n",
    "                        matchedMelodies.append(otherMelody)\n",
    "                        melodies.remove(otherMelody)\n",
    "        if len(matchedMelodies) != 1:\n",
    "            matchedPatterns.append(MatchedPattern(matchedMelodies))\n",
    "    return matchedPatterns"
   ]
  },
  {
   "cell_type": "code",
   "execution_count": 94,
   "metadata": {
    "scrolled": true
   },
   "outputs": [],
   "source": [
    "def strictPatternMatchingMelody(stream,minimumLength):\n",
    "    allSubStreams = list(filter(lambda l:ofLength(l,minimumLength),subStreams(stream.notesAndRests.stream())))\n",
    "    melodies = []\n",
    "    for subStream in allSubStreams:\n",
    "        intervalDifferences = []\n",
    "        containsRest = False\n",
    "        for note in subStream:\n",
    "            if note.isRest:\n",
    "                containsRest = True\n",
    "                break\n",
    "            else:\n",
    "                intervalDifferences.append(note.nameWithOctave)      \n",
    "        if not(containsRest):\n",
    "            melodyPattern = MelodyPattern(subStream[0].offset,subStream[len(subStream) - 1].offset + subStream[len(subStream) - 1].quarterLength,intervalDifferences)\n",
    "            melodies.append(melodyPattern)\n",
    "    matchedPatterns = []\n",
    "    while(len(melodies) != 0):\n",
    "        melody = melodies.pop(0)\n",
    "        matchedMelodies = [melody]\n",
    "        for otherMelody in melodies:\n",
    "            if len(melody.pattern) == len(otherMelody.pattern):\n",
    "                same = True\n",
    "                for note1,note2 in zip(melody.pattern,otherMelody.pattern):\n",
    "                    if note1 != note2:\n",
    "                        same = False\n",
    "                        break\n",
    "                if same:\n",
    "                    if melody.end <= otherMelody.start or melody.start >= otherMelody.end:\n",
    "                        matchedMelodies.append(otherMelody)\n",
    "                        melodies.remove(otherMelody)\n",
    "        if len(matchedMelodies) != 1:\n",
    "            matchedPatterns.append(MatchedPattern(matchedMelodies))\n",
    "    return matchedPatterns"
   ]
  },
  {
   "cell_type": "code",
   "execution_count": 95,
   "metadata": {
    "scrolled": true
   },
   "outputs": [],
   "source": [
    "def patternMatchingMelodyRhythm(stream,minimumLength):\n",
    "    allSubStreams = list(filter(lambda l:ofLength(l,minimumLength),subStreams(stream.notesAndRests.stream())))\n",
    "    melodiesRhythms = []\n",
    "    for subStream in allSubStreams:\n",
    "        intervalDifferences = []\n",
    "        firstNote = subStream[0]\n",
    "        rhythm = []\n",
    "        containsRest = False\n",
    "        for note in subStream:\n",
    "            if note.isRest:\n",
    "                containsRest = True\n",
    "                break\n",
    "            else:\n",
    "                rhythm.append(note.quarterLength)\n",
    "                intervalDifferences.append(interval.Interval(firstNote,note).intervalClass)      \n",
    "        if not(containsRest):\n",
    "            melodyRhythmPattern = MelodyRhythmPattern(subStream[0].offset,subStream[len(subStream) - 1].offset + subStream[len(subStream) - 1].quarterLength,intervalDifferences,rhythm)\n",
    "            melodiesRhythms.append(melodyRhythmPattern)\n",
    "    matchedPatterns = []\n",
    "    while(len(melodiesRhythms) != 0):\n",
    "        melodyRhythm = melodiesRhythms.pop(0)\n",
    "        matchedMelodiesRhythms = [melodyRhythm]\n",
    "        for otherMelodyRhtythm in melodiesRhythms:\n",
    "            if len(melodyRhythm.melodyPattern) == len(otherMelodyRhtythm.melodyPattern) and len(melodyRhythm.rhythmPattern) == len(otherMelodyRhtythm.rhythmPattern):\n",
    "                same = True\n",
    "                for noteDifference1,noteDifference2,length1,length2 in zip(melodyRhythm.melodyPattern,otherMelodyRhtythm.melodyPattern,melodyRhythm.rhythmPattern,otherMelodyRhtythm.rhythmPattern):\n",
    "                    if noteDifference1 != noteDifference2 or length1 != length2:\n",
    "                        same = False\n",
    "                        break\n",
    "                if same:\n",
    "                    if melodyRhythm.end <= otherMelodyRhtythm.start or melodyRhythm.start >= otherMelodyRhtythm.end:\n",
    "                        matchedMelodiesRhythms.append(otherMelodyRhtythm)\n",
    "                        melodiesRhythms.remove(otherMelodyRhtythm)\n",
    "        if len(matchedMelodiesRhythms) != 1:\n",
    "            matchedPatterns.append(MatchedPattern(matchedMelodiesRhythms))\n",
    "    return matchedPatterns"
   ]
  },
  {
   "cell_type": "code",
   "execution_count": 96,
   "metadata": {
    "scrolled": true
   },
   "outputs": [],
   "source": [
    "def strictPatternMatchingMelodyRhythm(stream,minimumLength):\n",
    "    allSubStreams = list(filter(lambda l:ofLength(l,minimumLength),subStreams(stream.notesAndRests.stream())))\n",
    "    melodiesRhythms = []\n",
    "    for subStream in allSubStreams:\n",
    "        intervalDifferences = []\n",
    "        firstNote = subStream[0]\n",
    "        rhythm = []\n",
    "        containsRest = False\n",
    "        for note in subStream:\n",
    "            if note.isRest:\n",
    "                containsRest = True\n",
    "                break\n",
    "            else:\n",
    "                rhythm.append(note.quarterLength)\n",
    "                intervalDifferences.append(note.nameWithOctave)      \n",
    "        if not(containsRest):\n",
    "            melodyRhythmPattern = MelodyRhythmPattern(subStream[0].offset,subStream[len(subStream) - 1].offset + subStream[len(subStream) - 1].quarterLength,intervalDifferences,rhythm)\n",
    "            melodiesRhythms.append(melodyRhythmPattern)\n",
    "    matchedPatterns = []\n",
    "    while(len(melodiesRhythms) != 0):\n",
    "        melodyRhythm = melodiesRhythms.pop(0)\n",
    "        matchedMelodiesRhythms = [melodyRhythm]\n",
    "        for otherMelodyRhtythm in melodiesRhythms:\n",
    "            if len(melodyRhythm.melodyPattern) == len(otherMelodyRhtythm.melodyPattern) and len(melodyRhythm.rhythmPattern) == len(otherMelodyRhtythm.rhythmPattern):\n",
    "                same = True\n",
    "                for noteDifference1,noteDifference2,length1,length2 in zip(melodyRhythm.melodyPattern,otherMelodyRhtythm.melodyPattern,melodyRhythm.rhythmPattern,otherMelodyRhtythm.rhythmPattern):\n",
    "                    if noteDifference1 != noteDifference2 or length1 != length2:\n",
    "                        same = False\n",
    "                        break\n",
    "                if same:\n",
    "                    if melodyRhythm.end <= otherMelodyRhtythm.start or melodyRhythm.start >= otherMelodyRhtythm.end:\n",
    "                        matchedMelodiesRhythms.append(otherMelodyRhtythm)\n",
    "                        melodiesRhythms.remove(otherMelodyRhtythm)\n",
    "        if len(matchedMelodiesRhythms) != 1:\n",
    "            matchedPatterns.append(MatchedPattern(matchedMelodiesRhythms))\n",
    "    return matchedPatterns"
   ]
  },
  {
   "cell_type": "code",
   "execution_count": 97,
   "metadata": {
    "scrolled": true
   },
   "outputs": [],
   "source": [
    "def patternMatching(stream,minimumLength,strict,melody = True,rhythm = True):\n",
    "    if not(melody) and not(rhythm):\n",
    "        raise Exception(\"Pattern match on nothing\")\n",
    "    elif melody and rhythm:\n",
    "        if strict:\n",
    "            return strictPatternMatchingMelodyRhythm(stream,minimumLength)\n",
    "        else:\n",
    "            return patternMatchingMelodyRhythm(stream,minimumLength)\n",
    "    elif melody:\n",
    "        if strict:\n",
    "            return strictPatternMatchingMelody(stream,minimumLength)\n",
    "        else:\n",
    "            return patternMatchingMelody(stream,minimumLength)\n",
    "    elif rhythm:\n",
    "        return patternMatchingRhythm(stream,minimumLength)\n",
    "    else:\n",
    "        return []\n",
    "        \n",
    "                    \n"
   ]
  },
  {
   "cell_type": "code",
   "execution_count": 98,
   "metadata": {
    "scrolled": true
   },
   "outputs": [
    {
     "data": {
      "text/plain": [
       "[[ patterns = [[ start = 0.0 | end = 2.0 | pattern = [0.5, 0.5, 1.0] ], [ start = 3.0 | end = 5.0 | pattern = [0.5, 0.5, 1.0] ], [ start = 16.0 | end = 18.0 | pattern = [0.5, 0.5, 1.0] ], [ start = 19.0 | end = 21.0 | pattern = [0.5, 0.5, 1.0] ]] ],\n",
       " [ patterns = [[ start = 0.0 | end = 2.5 | pattern = [0.5, 0.5, 1.0, 0.5] ], [ start = 16.0 | end = 18.5 | pattern = [0.5, 0.5, 1.0, 0.5] ]] ],\n",
       " [ patterns = [[ start = 0.0 | end = 3.0 | pattern = [0.5, 0.5, 1.0, 0.5, 0.5] ], [ start = 16.0 | end = 19.0 | pattern = [0.5, 0.5, 1.0, 0.5, 0.5] ]] ],\n",
       " [ patterns = [[ start = 0.0 | end = 3.5 | pattern = [0.5, 0.5, 1.0, 0.5, 0.5, 0.5] ], [ start = 16.0 | end = 19.5 | pattern = [0.5, 0.5, 1.0, 0.5, 0.5, 0.5] ]] ],\n",
       " [ patterns = [[ start = 0.0 | end = 4.0 | pattern = [0.5, 0.5, 1.0, 0.5, 0.5, 0.5, 0.5] ], [ start = 16.0 | end = 20.0 | pattern = [0.5, 0.5, 1.0, 0.5, 0.5, 0.5, 0.5] ]] ],\n",
       " [ patterns = [[ start = 0.0 | end = 5.0 | pattern = [0.5, 0.5, 1.0, 0.5, 0.5, 0.5, 0.5, 1.0] ], [ start = 16.0 | end = 21.0 | pattern = [0.5, 0.5, 1.0, 0.5, 0.5, 0.5, 0.5, 1.0] ]] ],\n",
       " [ patterns = [[ start = 0.0 | end = 6.0 | pattern = [0.5, 0.5, 1.0, 0.5, 0.5, 0.5, 0.5, 1.0, 1.0] ], [ start = 16.0 | end = 22.0 | pattern = [0.5, 0.5, 1.0, 0.5, 0.5, 0.5, 0.5, 1.0, 1.0] ]] ],\n",
       " [ patterns = [[ start = 0.0 | end = 7.0 | pattern = [0.5, 0.5, 1.0, 0.5, 0.5, 0.5, 0.5, 1.0, 1.0, 1.0] ], [ start = 16.0 | end = 23.0 | pattern = [0.5, 0.5, 1.0, 0.5, 0.5, 0.5, 0.5, 1.0, 1.0, 1.0] ]] ],\n",
       " [ patterns = [[ start = 0.0 | end = 8.0 | pattern = [0.5, 0.5, 1.0, 0.5, 0.5, 0.5, 0.5, 1.0, 1.0, 1.0, 1.0] ], [ start = 16.0 | end = 24.0 | pattern = [0.5, 0.5, 1.0, 0.5, 0.5, 0.5, 0.5, 1.0, 1.0, 1.0, 1.0] ]] ],\n",
       " [ patterns = [[ start = 0.0 | end = 8.5 | pattern = [0.5, 0.5, 1.0, 0.5, 0.5, 0.5, 0.5, 1.0, 1.0, 1.0, 1.0, 0.5] ], [ start = 16.0 | end = 24.5 | pattern = [0.5, 0.5, 1.0, 0.5, 0.5, 0.5, 0.5, 1.0, 1.0, 1.0, 1.0, 0.5] ]] ],\n",
       " [ patterns = [[ start = 0.0 | end = 9.5 | pattern = [0.5, 0.5, 1.0, 0.5, 0.5, 0.5, 0.5, 1.0, 1.0, 1.0, 1.0, 0.5, 1.0] ], [ start = 16.0 | end = 25.5 | pattern = [0.5, 0.5, 1.0, 0.5, 0.5, 0.5, 0.5, 1.0, 1.0, 1.0, 1.0, 0.5, 1.0] ]] ],\n",
       " [ patterns = [[ start = 0.0 | end = 12.0 | pattern = [0.5, 0.5, 1.0, 0.5, 0.5, 0.5, 0.5, 1.0, 1.0, 1.0, 1.0, 0.5, 1.0, 2.5] ], [ start = 16.0 | end = 28.0 | pattern = [0.5, 0.5, 1.0, 0.5, 0.5, 0.5, 0.5, 1.0, 1.0, 1.0, 1.0, 0.5, 1.0, 2.5] ]] ],\n",
       " [ patterns = [[ start = 0.0 | end = 13.0 | pattern = [0.5, 0.5, 1.0, 0.5, 0.5, 0.5, 0.5, 1.0, 1.0, 1.0, 1.0, 0.5, 1.0, 2.5, 1.0] ], [ start = 16.0 | end = 29.0 | pattern = [0.5, 0.5, 1.0, 0.5, 0.5, 0.5, 0.5, 1.0, 1.0, 1.0, 1.0, 0.5, 1.0, 2.5, 1.0] ]] ],\n",
       " [ patterns = [[ start = 0.0 | end = 14.0 | pattern = [0.5, 0.5, 1.0, 0.5, 0.5, 0.5, 0.5, 1.0, 1.0, 1.0, 1.0, 0.5, 1.0, 2.5, 1.0, 1.0] ], [ start = 16.0 | end = 30.0 | pattern = [0.5, 0.5, 1.0, 0.5, 0.5, 0.5, 0.5, 1.0, 1.0, 1.0, 1.0, 0.5, 1.0, 2.5, 1.0, 1.0] ]] ],\n",
       " [ patterns = [[ start = 0.0 | end = 15.0 | pattern = [0.5, 0.5, 1.0, 0.5, 0.5, 0.5, 0.5, 1.0, 1.0, 1.0, 1.0, 0.5, 1.0, 2.5, 1.0, 1.0, 1.0] ], [ start = 16.0 | end = 31.0 | pattern = [0.5, 0.5, 1.0, 0.5, 0.5, 0.5, 0.5, 1.0, 1.0, 1.0, 1.0, 0.5, 1.0, 2.5, 1.0, 1.0, 1.0] ]] ],\n",
       " [ patterns = [[ start = 0.0 | end = 16.0 | pattern = [0.5, 0.5, 1.0, 0.5, 0.5, 0.5, 0.5, 1.0, 1.0, 1.0, 1.0, 0.5, 1.0, 2.5, 1.0, 1.0, 1.0, 1.0] ], [ start = 16.0 | end = 32.0 | pattern = [0.5, 0.5, 1.0, 0.5, 0.5, 0.5, 0.5, 1.0, 1.0, 1.0, 1.0, 0.5, 1.0, 2.5, 1.0, 1.0, 1.0, 1.0] ]] ],\n",
       " [ patterns = [[ start = 0.5 | end = 2.5 | pattern = [0.5, 1.0, 0.5] ], [ start = 16.5 | end = 18.5 | pattern = [0.5, 1.0, 0.5] ]] ],\n",
       " [ patterns = [[ start = 0.5 | end = 3.0 | pattern = [0.5, 1.0, 0.5, 0.5] ], [ start = 16.5 | end = 19.0 | pattern = [0.5, 1.0, 0.5, 0.5] ]] ],\n",
       " [ patterns = [[ start = 0.5 | end = 3.5 | pattern = [0.5, 1.0, 0.5, 0.5, 0.5] ], [ start = 16.5 | end = 19.5 | pattern = [0.5, 1.0, 0.5, 0.5, 0.5] ]] ],\n",
       " [ patterns = [[ start = 0.5 | end = 4.0 | pattern = [0.5, 1.0, 0.5, 0.5, 0.5, 0.5] ], [ start = 16.5 | end = 20.0 | pattern = [0.5, 1.0, 0.5, 0.5, 0.5, 0.5] ]] ],\n",
       " [ patterns = [[ start = 0.5 | end = 5.0 | pattern = [0.5, 1.0, 0.5, 0.5, 0.5, 0.5, 1.0] ], [ start = 16.5 | end = 21.0 | pattern = [0.5, 1.0, 0.5, 0.5, 0.5, 0.5, 1.0] ]] ],\n",
       " [ patterns = [[ start = 0.5 | end = 6.0 | pattern = [0.5, 1.0, 0.5, 0.5, 0.5, 0.5, 1.0, 1.0] ], [ start = 16.5 | end = 22.0 | pattern = [0.5, 1.0, 0.5, 0.5, 0.5, 0.5, 1.0, 1.0] ]] ],\n",
       " [ patterns = [[ start = 0.5 | end = 7.0 | pattern = [0.5, 1.0, 0.5, 0.5, 0.5, 0.5, 1.0, 1.0, 1.0] ], [ start = 16.5 | end = 23.0 | pattern = [0.5, 1.0, 0.5, 0.5, 0.5, 0.5, 1.0, 1.0, 1.0] ]] ],\n",
       " [ patterns = [[ start = 0.5 | end = 8.0 | pattern = [0.5, 1.0, 0.5, 0.5, 0.5, 0.5, 1.0, 1.0, 1.0, 1.0] ], [ start = 16.5 | end = 24.0 | pattern = [0.5, 1.0, 0.5, 0.5, 0.5, 0.5, 1.0, 1.0, 1.0, 1.0] ]] ],\n",
       " [ patterns = [[ start = 0.5 | end = 8.5 | pattern = [0.5, 1.0, 0.5, 0.5, 0.5, 0.5, 1.0, 1.0, 1.0, 1.0, 0.5] ], [ start = 16.5 | end = 24.5 | pattern = [0.5, 1.0, 0.5, 0.5, 0.5, 0.5, 1.0, 1.0, 1.0, 1.0, 0.5] ]] ],\n",
       " [ patterns = [[ start = 0.5 | end = 9.5 | pattern = [0.5, 1.0, 0.5, 0.5, 0.5, 0.5, 1.0, 1.0, 1.0, 1.0, 0.5, 1.0] ], [ start = 16.5 | end = 25.5 | pattern = [0.5, 1.0, 0.5, 0.5, 0.5, 0.5, 1.0, 1.0, 1.0, 1.0, 0.5, 1.0] ]] ],\n",
       " [ patterns = [[ start = 0.5 | end = 12.0 | pattern = [0.5, 1.0, 0.5, 0.5, 0.5, 0.5, 1.0, 1.0, 1.0, 1.0, 0.5, 1.0, 2.5] ], [ start = 16.5 | end = 28.0 | pattern = [0.5, 1.0, 0.5, 0.5, 0.5, 0.5, 1.0, 1.0, 1.0, 1.0, 0.5, 1.0, 2.5] ]] ],\n",
       " [ patterns = [[ start = 0.5 | end = 13.0 | pattern = [0.5, 1.0, 0.5, 0.5, 0.5, 0.5, 1.0, 1.0, 1.0, 1.0, 0.5, 1.0, 2.5, 1.0] ], [ start = 16.5 | end = 29.0 | pattern = [0.5, 1.0, 0.5, 0.5, 0.5, 0.5, 1.0, 1.0, 1.0, 1.0, 0.5, 1.0, 2.5, 1.0] ]] ],\n",
       " [ patterns = [[ start = 0.5 | end = 14.0 | pattern = [0.5, 1.0, 0.5, 0.5, 0.5, 0.5, 1.0, 1.0, 1.0, 1.0, 0.5, 1.0, 2.5, 1.0, 1.0] ], [ start = 16.5 | end = 30.0 | pattern = [0.5, 1.0, 0.5, 0.5, 0.5, 0.5, 1.0, 1.0, 1.0, 1.0, 0.5, 1.0, 2.5, 1.0, 1.0] ]] ],\n",
       " [ patterns = [[ start = 0.5 | end = 15.0 | pattern = [0.5, 1.0, 0.5, 0.5, 0.5, 0.5, 1.0, 1.0, 1.0, 1.0, 0.5, 1.0, 2.5, 1.0, 1.0, 1.0] ], [ start = 16.5 | end = 31.0 | pattern = [0.5, 1.0, 0.5, 0.5, 0.5, 0.5, 1.0, 1.0, 1.0, 1.0, 0.5, 1.0, 2.5, 1.0, 1.0, 1.0] ]] ],\n",
       " [ patterns = [[ start = 0.5 | end = 16.0 | pattern = [0.5, 1.0, 0.5, 0.5, 0.5, 0.5, 1.0, 1.0, 1.0, 1.0, 0.5, 1.0, 2.5, 1.0, 1.0, 1.0, 1.0] ], [ start = 16.5 | end = 32.0 | pattern = [0.5, 1.0, 0.5, 0.5, 0.5, 0.5, 1.0, 1.0, 1.0, 1.0, 0.5, 1.0, 2.5, 1.0, 1.0, 1.0, 1.0] ]] ],\n",
       " [ patterns = [[ start = 1.0 | end = 3.0 | pattern = [1.0, 0.5, 0.5] ], [ start = 15.0 | end = 17.0 | pattern = [1.0, 0.5, 0.5] ], [ start = 17.0 | end = 19.0 | pattern = [1.0, 0.5, 0.5] ]] ],\n",
       " [ patterns = [[ start = 1.0 | end = 3.5 | pattern = [1.0, 0.5, 0.5, 0.5] ], [ start = 17.0 | end = 19.5 | pattern = [1.0, 0.5, 0.5, 0.5] ]] ],\n",
       " [ patterns = [[ start = 1.0 | end = 4.0 | pattern = [1.0, 0.5, 0.5, 0.5, 0.5] ], [ start = 17.0 | end = 20.0 | pattern = [1.0, 0.5, 0.5, 0.5, 0.5] ]] ],\n",
       " [ patterns = [[ start = 1.0 | end = 5.0 | pattern = [1.0, 0.5, 0.5, 0.5, 0.5, 1.0] ], [ start = 17.0 | end = 21.0 | pattern = [1.0, 0.5, 0.5, 0.5, 0.5, 1.0] ]] ],\n",
       " [ patterns = [[ start = 1.0 | end = 6.0 | pattern = [1.0, 0.5, 0.5, 0.5, 0.5, 1.0, 1.0] ], [ start = 17.0 | end = 22.0 | pattern = [1.0, 0.5, 0.5, 0.5, 0.5, 1.0, 1.0] ]] ],\n",
       " [ patterns = [[ start = 1.0 | end = 7.0 | pattern = [1.0, 0.5, 0.5, 0.5, 0.5, 1.0, 1.0, 1.0] ], [ start = 17.0 | end = 23.0 | pattern = [1.0, 0.5, 0.5, 0.5, 0.5, 1.0, 1.0, 1.0] ]] ],\n",
       " [ patterns = [[ start = 1.0 | end = 8.0 | pattern = [1.0, 0.5, 0.5, 0.5, 0.5, 1.0, 1.0, 1.0, 1.0] ], [ start = 17.0 | end = 24.0 | pattern = [1.0, 0.5, 0.5, 0.5, 0.5, 1.0, 1.0, 1.0, 1.0] ]] ],\n",
       " [ patterns = [[ start = 1.0 | end = 8.5 | pattern = [1.0, 0.5, 0.5, 0.5, 0.5, 1.0, 1.0, 1.0, 1.0, 0.5] ], [ start = 17.0 | end = 24.5 | pattern = [1.0, 0.5, 0.5, 0.5, 0.5, 1.0, 1.0, 1.0, 1.0, 0.5] ]] ],\n",
       " [ patterns = [[ start = 1.0 | end = 9.5 | pattern = [1.0, 0.5, 0.5, 0.5, 0.5, 1.0, 1.0, 1.0, 1.0, 0.5, 1.0] ], [ start = 17.0 | end = 25.5 | pattern = [1.0, 0.5, 0.5, 0.5, 0.5, 1.0, 1.0, 1.0, 1.0, 0.5, 1.0] ]] ],\n",
       " [ patterns = [[ start = 1.0 | end = 12.0 | pattern = [1.0, 0.5, 0.5, 0.5, 0.5, 1.0, 1.0, 1.0, 1.0, 0.5, 1.0, 2.5] ], [ start = 17.0 | end = 28.0 | pattern = [1.0, 0.5, 0.5, 0.5, 0.5, 1.0, 1.0, 1.0, 1.0, 0.5, 1.0, 2.5] ]] ],\n",
       " [ patterns = [[ start = 1.0 | end = 13.0 | pattern = [1.0, 0.5, 0.5, 0.5, 0.5, 1.0, 1.0, 1.0, 1.0, 0.5, 1.0, 2.5, 1.0] ], [ start = 17.0 | end = 29.0 | pattern = [1.0, 0.5, 0.5, 0.5, 0.5, 1.0, 1.0, 1.0, 1.0, 0.5, 1.0, 2.5, 1.0] ]] ],\n",
       " [ patterns = [[ start = 1.0 | end = 14.0 | pattern = [1.0, 0.5, 0.5, 0.5, 0.5, 1.0, 1.0, 1.0, 1.0, 0.5, 1.0, 2.5, 1.0, 1.0] ], [ start = 17.0 | end = 30.0 | pattern = [1.0, 0.5, 0.5, 0.5, 0.5, 1.0, 1.0, 1.0, 1.0, 0.5, 1.0, 2.5, 1.0, 1.0] ]] ],\n",
       " [ patterns = [[ start = 1.0 | end = 15.0 | pattern = [1.0, 0.5, 0.5, 0.5, 0.5, 1.0, 1.0, 1.0, 1.0, 0.5, 1.0, 2.5, 1.0, 1.0, 1.0] ], [ start = 17.0 | end = 31.0 | pattern = [1.0, 0.5, 0.5, 0.5, 0.5, 1.0, 1.0, 1.0, 1.0, 0.5, 1.0, 2.5, 1.0, 1.0, 1.0] ]] ],\n",
       " [ patterns = [[ start = 1.0 | end = 16.0 | pattern = [1.0, 0.5, 0.5, 0.5, 0.5, 1.0, 1.0, 1.0, 1.0, 0.5, 1.0, 2.5, 1.0, 1.0, 1.0, 1.0] ], [ start = 17.0 | end = 32.0 | pattern = [1.0, 0.5, 0.5, 0.5, 0.5, 1.0, 1.0, 1.0, 1.0, 0.5, 1.0, 2.5, 1.0, 1.0, 1.0, 1.0] ]] ],\n",
       " [ patterns = [[ start = 2.0 | end = 3.5 | pattern = [0.5, 0.5, 0.5] ], [ start = 18.0 | end = 19.5 | pattern = [0.5, 0.5, 0.5] ], [ start = 18.5 | end = 20.0 | pattern = [0.5, 0.5, 0.5] ]] ],\n",
       " [ patterns = [[ start = 2.0 | end = 4.0 | pattern = [0.5, 0.5, 0.5, 0.5] ], [ start = 18.0 | end = 20.0 | pattern = [0.5, 0.5, 0.5, 0.5] ]] ],\n",
       " [ patterns = [[ start = 2.0 | end = 5.0 | pattern = [0.5, 0.5, 0.5, 0.5, 1.0] ], [ start = 18.0 | end = 21.0 | pattern = [0.5, 0.5, 0.5, 0.5, 1.0] ]] ],\n",
       " [ patterns = [[ start = 2.0 | end = 6.0 | pattern = [0.5, 0.5, 0.5, 0.5, 1.0, 1.0] ], [ start = 18.0 | end = 22.0 | pattern = [0.5, 0.5, 0.5, 0.5, 1.0, 1.0] ]] ],\n",
       " [ patterns = [[ start = 2.0 | end = 7.0 | pattern = [0.5, 0.5, 0.5, 0.5, 1.0, 1.0, 1.0] ], [ start = 18.0 | end = 23.0 | pattern = [0.5, 0.5, 0.5, 0.5, 1.0, 1.0, 1.0] ]] ],\n",
       " [ patterns = [[ start = 2.0 | end = 8.0 | pattern = [0.5, 0.5, 0.5, 0.5, 1.0, 1.0, 1.0, 1.0] ], [ start = 18.0 | end = 24.0 | pattern = [0.5, 0.5, 0.5, 0.5, 1.0, 1.0, 1.0, 1.0] ]] ],\n",
       " [ patterns = [[ start = 2.0 | end = 8.5 | pattern = [0.5, 0.5, 0.5, 0.5, 1.0, 1.0, 1.0, 1.0, 0.5] ], [ start = 18.0 | end = 24.5 | pattern = [0.5, 0.5, 0.5, 0.5, 1.0, 1.0, 1.0, 1.0, 0.5] ]] ],\n",
       " [ patterns = [[ start = 2.0 | end = 9.5 | pattern = [0.5, 0.5, 0.5, 0.5, 1.0, 1.0, 1.0, 1.0, 0.5, 1.0] ], [ start = 18.0 | end = 25.5 | pattern = [0.5, 0.5, 0.5, 0.5, 1.0, 1.0, 1.0, 1.0, 0.5, 1.0] ]] ],\n",
       " [ patterns = [[ start = 2.0 | end = 12.0 | pattern = [0.5, 0.5, 0.5, 0.5, 1.0, 1.0, 1.0, 1.0, 0.5, 1.0, 2.5] ], [ start = 18.0 | end = 28.0 | pattern = [0.5, 0.5, 0.5, 0.5, 1.0, 1.0, 1.0, 1.0, 0.5, 1.0, 2.5] ]] ],\n",
       " [ patterns = [[ start = 2.0 | end = 13.0 | pattern = [0.5, 0.5, 0.5, 0.5, 1.0, 1.0, 1.0, 1.0, 0.5, 1.0, 2.5, 1.0] ], [ start = 18.0 | end = 29.0 | pattern = [0.5, 0.5, 0.5, 0.5, 1.0, 1.0, 1.0, 1.0, 0.5, 1.0, 2.5, 1.0] ]] ],\n",
       " [ patterns = [[ start = 2.0 | end = 14.0 | pattern = [0.5, 0.5, 0.5, 0.5, 1.0, 1.0, 1.0, 1.0, 0.5, 1.0, 2.5, 1.0, 1.0] ], [ start = 18.0 | end = 30.0 | pattern = [0.5, 0.5, 0.5, 0.5, 1.0, 1.0, 1.0, 1.0, 0.5, 1.0, 2.5, 1.0, 1.0] ]] ],\n",
       " [ patterns = [[ start = 2.0 | end = 15.0 | pattern = [0.5, 0.5, 0.5, 0.5, 1.0, 1.0, 1.0, 1.0, 0.5, 1.0, 2.5, 1.0, 1.0, 1.0] ], [ start = 18.0 | end = 31.0 | pattern = [0.5, 0.5, 0.5, 0.5, 1.0, 1.0, 1.0, 1.0, 0.5, 1.0, 2.5, 1.0, 1.0, 1.0] ]] ],\n",
       " [ patterns = [[ start = 2.0 | end = 16.0 | pattern = [0.5, 0.5, 0.5, 0.5, 1.0, 1.0, 1.0, 1.0, 0.5, 1.0, 2.5, 1.0, 1.0, 1.0, 1.0] ], [ start = 18.0 | end = 32.0 | pattern = [0.5, 0.5, 0.5, 0.5, 1.0, 1.0, 1.0, 1.0, 0.5, 1.0, 2.5, 1.0, 1.0, 1.0, 1.0] ]] ],\n",
       " [ patterns = [[ start = 2.5 | end = 5.0 | pattern = [0.5, 0.5, 0.5, 1.0] ], [ start = 18.5 | end = 21.0 | pattern = [0.5, 0.5, 0.5, 1.0] ]] ],\n",
       " [ patterns = [[ start = 2.5 | end = 6.0 | pattern = [0.5, 0.5, 0.5, 1.0, 1.0] ], [ start = 18.5 | end = 22.0 | pattern = [0.5, 0.5, 0.5, 1.0, 1.0] ]] ],\n",
       " [ patterns = [[ start = 2.5 | end = 7.0 | pattern = [0.5, 0.5, 0.5, 1.0, 1.0, 1.0] ], [ start = 18.5 | end = 23.0 | pattern = [0.5, 0.5, 0.5, 1.0, 1.0, 1.0] ]] ],\n",
       " [ patterns = [[ start = 2.5 | end = 8.0 | pattern = [0.5, 0.5, 0.5, 1.0, 1.0, 1.0, 1.0] ], [ start = 18.5 | end = 24.0 | pattern = [0.5, 0.5, 0.5, 1.0, 1.0, 1.0, 1.0] ]] ],\n",
       " [ patterns = [[ start = 2.5 | end = 8.5 | pattern = [0.5, 0.5, 0.5, 1.0, 1.0, 1.0, 1.0, 0.5] ], [ start = 18.5 | end = 24.5 | pattern = [0.5, 0.5, 0.5, 1.0, 1.0, 1.0, 1.0, 0.5] ]] ],\n",
       " [ patterns = [[ start = 2.5 | end = 9.5 | pattern = [0.5, 0.5, 0.5, 1.0, 1.0, 1.0, 1.0, 0.5, 1.0] ], [ start = 18.5 | end = 25.5 | pattern = [0.5, 0.5, 0.5, 1.0, 1.0, 1.0, 1.0, 0.5, 1.0] ]] ],\n",
       " [ patterns = [[ start = 2.5 | end = 12.0 | pattern = [0.5, 0.5, 0.5, 1.0, 1.0, 1.0, 1.0, 0.5, 1.0, 2.5] ], [ start = 18.5 | end = 28.0 | pattern = [0.5, 0.5, 0.5, 1.0, 1.0, 1.0, 1.0, 0.5, 1.0, 2.5] ]] ],\n",
       " [ patterns = [[ start = 2.5 | end = 13.0 | pattern = [0.5, 0.5, 0.5, 1.0, 1.0, 1.0, 1.0, 0.5, 1.0, 2.5, 1.0] ], [ start = 18.5 | end = 29.0 | pattern = [0.5, 0.5, 0.5, 1.0, 1.0, 1.0, 1.0, 0.5, 1.0, 2.5, 1.0] ]] ],\n",
       " [ patterns = [[ start = 2.5 | end = 14.0 | pattern = [0.5, 0.5, 0.5, 1.0, 1.0, 1.0, 1.0, 0.5, 1.0, 2.5, 1.0, 1.0] ], [ start = 18.5 | end = 30.0 | pattern = [0.5, 0.5, 0.5, 1.0, 1.0, 1.0, 1.0, 0.5, 1.0, 2.5, 1.0, 1.0] ]] ],\n",
       " [ patterns = [[ start = 2.5 | end = 15.0 | pattern = [0.5, 0.5, 0.5, 1.0, 1.0, 1.0, 1.0, 0.5, 1.0, 2.5, 1.0, 1.0, 1.0] ], [ start = 18.5 | end = 31.0 | pattern = [0.5, 0.5, 0.5, 1.0, 1.0, 1.0, 1.0, 0.5, 1.0, 2.5, 1.0, 1.0, 1.0] ]] ],\n",
       " [ patterns = [[ start = 2.5 | end = 16.0 | pattern = [0.5, 0.5, 0.5, 1.0, 1.0, 1.0, 1.0, 0.5, 1.0, 2.5, 1.0, 1.0, 1.0, 1.0] ], [ start = 18.5 | end = 32.0 | pattern = [0.5, 0.5, 0.5, 1.0, 1.0, 1.0, 1.0, 0.5, 1.0, 2.5, 1.0, 1.0, 1.0, 1.0] ]] ],\n",
       " [ patterns = [[ start = 3.0 | end = 6.0 | pattern = [0.5, 0.5, 1.0, 1.0] ], [ start = 19.0 | end = 22.0 | pattern = [0.5, 0.5, 1.0, 1.0] ]] ],\n",
       " [ patterns = [[ start = 3.0 | end = 7.0 | pattern = [0.5, 0.5, 1.0, 1.0, 1.0] ], [ start = 19.0 | end = 23.0 | pattern = [0.5, 0.5, 1.0, 1.0, 1.0] ]] ],\n",
       " [ patterns = [[ start = 3.0 | end = 8.0 | pattern = [0.5, 0.5, 1.0, 1.0, 1.0, 1.0] ], [ start = 19.0 | end = 24.0 | pattern = [0.5, 0.5, 1.0, 1.0, 1.0, 1.0] ]] ],\n",
       " [ patterns = [[ start = 3.0 | end = 8.5 | pattern = [0.5, 0.5, 1.0, 1.0, 1.0, 1.0, 0.5] ], [ start = 19.0 | end = 24.5 | pattern = [0.5, 0.5, 1.0, 1.0, 1.0, 1.0, 0.5] ]] ],\n",
       " [ patterns = [[ start = 3.0 | end = 9.5 | pattern = [0.5, 0.5, 1.0, 1.0, 1.0, 1.0, 0.5, 1.0] ], [ start = 19.0 | end = 25.5 | pattern = [0.5, 0.5, 1.0, 1.0, 1.0, 1.0, 0.5, 1.0] ]] ],\n",
       " [ patterns = [[ start = 3.0 | end = 12.0 | pattern = [0.5, 0.5, 1.0, 1.0, 1.0, 1.0, 0.5, 1.0, 2.5] ], [ start = 19.0 | end = 28.0 | pattern = [0.5, 0.5, 1.0, 1.0, 1.0, 1.0, 0.5, 1.0, 2.5] ]] ],\n",
       " [ patterns = [[ start = 3.0 | end = 13.0 | pattern = [0.5, 0.5, 1.0, 1.0, 1.0, 1.0, 0.5, 1.0, 2.5, 1.0] ], [ start = 19.0 | end = 29.0 | pattern = [0.5, 0.5, 1.0, 1.0, 1.0, 1.0, 0.5, 1.0, 2.5, 1.0] ]] ],\n",
       " [ patterns = [[ start = 3.0 | end = 14.0 | pattern = [0.5, 0.5, 1.0, 1.0, 1.0, 1.0, 0.5, 1.0, 2.5, 1.0, 1.0] ], [ start = 19.0 | end = 30.0 | pattern = [0.5, 0.5, 1.0, 1.0, 1.0, 1.0, 0.5, 1.0, 2.5, 1.0, 1.0] ]] ],\n",
       " [ patterns = [[ start = 3.0 | end = 15.0 | pattern = [0.5, 0.5, 1.0, 1.0, 1.0, 1.0, 0.5, 1.0, 2.5, 1.0, 1.0, 1.0] ], [ start = 19.0 | end = 31.0 | pattern = [0.5, 0.5, 1.0, 1.0, 1.0, 1.0, 0.5, 1.0, 2.5, 1.0, 1.0, 1.0] ]] ],\n",
       " [ patterns = [[ start = 3.0 | end = 16.0 | pattern = [0.5, 0.5, 1.0, 1.0, 1.0, 1.0, 0.5, 1.0, 2.5, 1.0, 1.0, 1.0, 1.0] ], [ start = 19.0 | end = 32.0 | pattern = [0.5, 0.5, 1.0, 1.0, 1.0, 1.0, 0.5, 1.0, 2.5, 1.0, 1.0, 1.0, 1.0] ]] ],\n",
       " [ patterns = [[ start = 3.5 | end = 6.0 | pattern = [0.5, 1.0, 1.0] ], [ start = 19.5 | end = 22.0 | pattern = [0.5, 1.0, 1.0] ]] ],\n",
       " [ patterns = [[ start = 3.5 | end = 7.0 | pattern = [0.5, 1.0, 1.0, 1.0] ], [ start = 19.5 | end = 23.0 | pattern = [0.5, 1.0, 1.0, 1.0] ]] ],\n",
       " [ patterns = [[ start = 3.5 | end = 8.0 | pattern = [0.5, 1.0, 1.0, 1.0, 1.0] ], [ start = 19.5 | end = 24.0 | pattern = [0.5, 1.0, 1.0, 1.0, 1.0] ]] ],\n",
       " [ patterns = [[ start = 3.5 | end = 8.5 | pattern = [0.5, 1.0, 1.0, 1.0, 1.0, 0.5] ], [ start = 19.5 | end = 24.5 | pattern = [0.5, 1.0, 1.0, 1.0, 1.0, 0.5] ]] ],\n",
       " [ patterns = [[ start = 3.5 | end = 9.5 | pattern = [0.5, 1.0, 1.0, 1.0, 1.0, 0.5, 1.0] ], [ start = 19.5 | end = 25.5 | pattern = [0.5, 1.0, 1.0, 1.0, 1.0, 0.5, 1.0] ]] ],\n",
       " [ patterns = [[ start = 3.5 | end = 12.0 | pattern = [0.5, 1.0, 1.0, 1.0, 1.0, 0.5, 1.0, 2.5] ], [ start = 19.5 | end = 28.0 | pattern = [0.5, 1.0, 1.0, 1.0, 1.0, 0.5, 1.0, 2.5] ]] ],\n",
       " [ patterns = [[ start = 3.5 | end = 13.0 | pattern = [0.5, 1.0, 1.0, 1.0, 1.0, 0.5, 1.0, 2.5, 1.0] ], [ start = 19.5 | end = 29.0 | pattern = [0.5, 1.0, 1.0, 1.0, 1.0, 0.5, 1.0, 2.5, 1.0] ]] ],\n",
       " [ patterns = [[ start = 3.5 | end = 14.0 | pattern = [0.5, 1.0, 1.0, 1.0, 1.0, 0.5, 1.0, 2.5, 1.0, 1.0] ], [ start = 19.5 | end = 30.0 | pattern = [0.5, 1.0, 1.0, 1.0, 1.0, 0.5, 1.0, 2.5, 1.0, 1.0] ]] ],\n",
       " [ patterns = [[ start = 3.5 | end = 15.0 | pattern = [0.5, 1.0, 1.0, 1.0, 1.0, 0.5, 1.0, 2.5, 1.0, 1.0, 1.0] ], [ start = 19.5 | end = 31.0 | pattern = [0.5, 1.0, 1.0, 1.0, 1.0, 0.5, 1.0, 2.5, 1.0, 1.0, 1.0] ]] ],\n",
       " [ patterns = [[ start = 3.5 | end = 16.0 | pattern = [0.5, 1.0, 1.0, 1.0, 1.0, 0.5, 1.0, 2.5, 1.0, 1.0, 1.0, 1.0] ], [ start = 19.5 | end = 32.0 | pattern = [0.5, 1.0, 1.0, 1.0, 1.0, 0.5, 1.0, 2.5, 1.0, 1.0, 1.0, 1.0] ]] ],\n",
       " [ patterns = [[ start = 4.0 | end = 7.0 | pattern = [1.0, 1.0, 1.0] ], [ start = 12.0 | end = 15.0 | pattern = [1.0, 1.0, 1.0] ], [ start = 13.0 | end = 16.0 | pattern = [1.0, 1.0, 1.0] ], [ start = 20.0 | end = 23.0 | pattern = [1.0, 1.0, 1.0] ], [ start = 21.0 | end = 24.0 | pattern = [1.0, 1.0, 1.0] ], [ start = 28.0 | end = 31.0 | pattern = [1.0, 1.0, 1.0] ], [ start = 29.0 | end = 32.0 | pattern = [1.0, 1.0, 1.0] ]] ],\n",
       " [ patterns = [[ start = 4.0 | end = 8.0 | pattern = [1.0, 1.0, 1.0, 1.0] ], [ start = 12.0 | end = 16.0 | pattern = [1.0, 1.0, 1.0, 1.0] ], [ start = 20.0 | end = 24.0 | pattern = [1.0, 1.0, 1.0, 1.0] ], [ start = 28.0 | end = 32.0 | pattern = [1.0, 1.0, 1.0, 1.0] ]] ],\n",
       " [ patterns = [[ start = 4.0 | end = 8.5 | pattern = [1.0, 1.0, 1.0, 1.0, 0.5] ], [ start = 12.0 | end = 16.5 | pattern = [1.0, 1.0, 1.0, 1.0, 0.5] ], [ start = 20.0 | end = 24.5 | pattern = [1.0, 1.0, 1.0, 1.0, 0.5] ]] ],\n",
       " [ patterns = [[ start = 4.0 | end = 9.5 | pattern = [1.0, 1.0, 1.0, 1.0, 0.5, 1.0] ], [ start = 20.0 | end = 25.5 | pattern = [1.0, 1.0, 1.0, 1.0, 0.5, 1.0] ]] ],\n",
       " [ patterns = [[ start = 4.0 | end = 12.0 | pattern = [1.0, 1.0, 1.0, 1.0, 0.5, 1.0, 2.5] ], [ start = 20.0 | end = 28.0 | pattern = [1.0, 1.0, 1.0, 1.0, 0.5, 1.0, 2.5] ]] ],\n",
       " [ patterns = [[ start = 4.0 | end = 13.0 | pattern = [1.0, 1.0, 1.0, 1.0, 0.5, 1.0, 2.5, 1.0] ], [ start = 20.0 | end = 29.0 | pattern = [1.0, 1.0, 1.0, 1.0, 0.5, 1.0, 2.5, 1.0] ]] ],\n",
       " [ patterns = [[ start = 4.0 | end = 14.0 | pattern = [1.0, 1.0, 1.0, 1.0, 0.5, 1.0, 2.5, 1.0, 1.0] ], [ start = 20.0 | end = 30.0 | pattern = [1.0, 1.0, 1.0, 1.0, 0.5, 1.0, 2.5, 1.0, 1.0] ]] ],\n",
       " [ patterns = [[ start = 4.0 | end = 15.0 | pattern = [1.0, 1.0, 1.0, 1.0, 0.5, 1.0, 2.5, 1.0, 1.0, 1.0] ], [ start = 20.0 | end = 31.0 | pattern = [1.0, 1.0, 1.0, 1.0, 0.5, 1.0, 2.5, 1.0, 1.0, 1.0] ]] ],\n",
       " [ patterns = [[ start = 4.0 | end = 16.0 | pattern = [1.0, 1.0, 1.0, 1.0, 0.5, 1.0, 2.5, 1.0, 1.0, 1.0, 1.0] ], [ start = 20.0 | end = 32.0 | pattern = [1.0, 1.0, 1.0, 1.0, 0.5, 1.0, 2.5, 1.0, 1.0, 1.0, 1.0] ]] ],\n",
       " [ patterns = [[ start = 5.0 | end = 8.5 | pattern = [1.0, 1.0, 1.0, 0.5] ], [ start = 13.0 | end = 16.5 | pattern = [1.0, 1.0, 1.0, 0.5] ], [ start = 21.0 | end = 24.5 | pattern = [1.0, 1.0, 1.0, 0.5] ]] ],\n",
       " [ patterns = [[ start = 5.0 | end = 9.5 | pattern = [1.0, 1.0, 1.0, 0.5, 1.0] ], [ start = 21.0 | end = 25.5 | pattern = [1.0, 1.0, 1.0, 0.5, 1.0] ]] ],\n",
       " [ patterns = [[ start = 5.0 | end = 12.0 | pattern = [1.0, 1.0, 1.0, 0.5, 1.0, 2.5] ], [ start = 21.0 | end = 28.0 | pattern = [1.0, 1.0, 1.0, 0.5, 1.0, 2.5] ]] ],\n",
       " [ patterns = [[ start = 5.0 | end = 13.0 | pattern = [1.0, 1.0, 1.0, 0.5, 1.0, 2.5, 1.0] ], [ start = 21.0 | end = 29.0 | pattern = [1.0, 1.0, 1.0, 0.5, 1.0, 2.5, 1.0] ]] ],\n",
       " [ patterns = [[ start = 5.0 | end = 14.0 | pattern = [1.0, 1.0, 1.0, 0.5, 1.0, 2.5, 1.0, 1.0] ], [ start = 21.0 | end = 30.0 | pattern = [1.0, 1.0, 1.0, 0.5, 1.0, 2.5, 1.0, 1.0] ]] ],\n",
       " [ patterns = [[ start = 5.0 | end = 15.0 | pattern = [1.0, 1.0, 1.0, 0.5, 1.0, 2.5, 1.0, 1.0, 1.0] ], [ start = 21.0 | end = 31.0 | pattern = [1.0, 1.0, 1.0, 0.5, 1.0, 2.5, 1.0, 1.0, 1.0] ]] ],\n",
       " [ patterns = [[ start = 5.0 | end = 16.0 | pattern = [1.0, 1.0, 1.0, 0.5, 1.0, 2.5, 1.0, 1.0, 1.0, 1.0] ], [ start = 21.0 | end = 32.0 | pattern = [1.0, 1.0, 1.0, 0.5, 1.0, 2.5, 1.0, 1.0, 1.0, 1.0] ]] ],\n",
       " [ patterns = [[ start = 6.0 | end = 8.5 | pattern = [1.0, 1.0, 0.5] ], [ start = 14.0 | end = 16.5 | pattern = [1.0, 1.0, 0.5] ], [ start = 22.0 | end = 24.5 | pattern = [1.0, 1.0, 0.5] ]] ],\n",
       " [ patterns = [[ start = 6.0 | end = 9.5 | pattern = [1.0, 1.0, 0.5, 1.0] ], [ start = 22.0 | end = 25.5 | pattern = [1.0, 1.0, 0.5, 1.0] ]] ],\n",
       " [ patterns = [[ start = 6.0 | end = 12.0 | pattern = [1.0, 1.0, 0.5, 1.0, 2.5] ], [ start = 22.0 | end = 28.0 | pattern = [1.0, 1.0, 0.5, 1.0, 2.5] ]] ],\n",
       " [ patterns = [[ start = 6.0 | end = 13.0 | pattern = [1.0, 1.0, 0.5, 1.0, 2.5, 1.0] ], [ start = 22.0 | end = 29.0 | pattern = [1.0, 1.0, 0.5, 1.0, 2.5, 1.0] ]] ],\n",
       " [ patterns = [[ start = 6.0 | end = 14.0 | pattern = [1.0, 1.0, 0.5, 1.0, 2.5, 1.0, 1.0] ], [ start = 22.0 | end = 30.0 | pattern = [1.0, 1.0, 0.5, 1.0, 2.5, 1.0, 1.0] ]] ],\n",
       " [ patterns = [[ start = 6.0 | end = 15.0 | pattern = [1.0, 1.0, 0.5, 1.0, 2.5, 1.0, 1.0, 1.0] ], [ start = 22.0 | end = 31.0 | pattern = [1.0, 1.0, 0.5, 1.0, 2.5, 1.0, 1.0, 1.0] ]] ],\n",
       " [ patterns = [[ start = 6.0 | end = 16.0 | pattern = [1.0, 1.0, 0.5, 1.0, 2.5, 1.0, 1.0, 1.0, 1.0] ], [ start = 22.0 | end = 32.0 | pattern = [1.0, 1.0, 0.5, 1.0, 2.5, 1.0, 1.0, 1.0, 1.0] ]] ],\n",
       " [ patterns = [[ start = 7.0 | end = 9.5 | pattern = [1.0, 0.5, 1.0] ], [ start = 23.0 | end = 25.5 | pattern = [1.0, 0.5, 1.0] ]] ],\n",
       " [ patterns = [[ start = 7.0 | end = 12.0 | pattern = [1.0, 0.5, 1.0, 2.5] ], [ start = 23.0 | end = 28.0 | pattern = [1.0, 0.5, 1.0, 2.5] ]] ],\n",
       " [ patterns = [[ start = 7.0 | end = 13.0 | pattern = [1.0, 0.5, 1.0, 2.5, 1.0] ], [ start = 23.0 | end = 29.0 | pattern = [1.0, 0.5, 1.0, 2.5, 1.0] ]] ],\n",
       " [ patterns = [[ start = 7.0 | end = 14.0 | pattern = [1.0, 0.5, 1.0, 2.5, 1.0, 1.0] ], [ start = 23.0 | end = 30.0 | pattern = [1.0, 0.5, 1.0, 2.5, 1.0, 1.0] ]] ],\n",
       " [ patterns = [[ start = 7.0 | end = 15.0 | pattern = [1.0, 0.5, 1.0, 2.5, 1.0, 1.0, 1.0] ], [ start = 23.0 | end = 31.0 | pattern = [1.0, 0.5, 1.0, 2.5, 1.0, 1.0, 1.0] ]] ],\n",
       " [ patterns = [[ start = 7.0 | end = 16.0 | pattern = [1.0, 0.5, 1.0, 2.5, 1.0, 1.0, 1.0, 1.0] ], [ start = 23.0 | end = 32.0 | pattern = [1.0, 0.5, 1.0, 2.5, 1.0, 1.0, 1.0, 1.0] ]] ],\n",
       " [ patterns = [[ start = 8.0 | end = 12.0 | pattern = [0.5, 1.0, 2.5] ], [ start = 24.0 | end = 28.0 | pattern = [0.5, 1.0, 2.5] ]] ],\n",
       " [ patterns = [[ start = 8.0 | end = 13.0 | pattern = [0.5, 1.0, 2.5, 1.0] ], [ start = 24.0 | end = 29.0 | pattern = [0.5, 1.0, 2.5, 1.0] ]] ],\n",
       " [ patterns = [[ start = 8.0 | end = 14.0 | pattern = [0.5, 1.0, 2.5, 1.0, 1.0] ], [ start = 24.0 | end = 30.0 | pattern = [0.5, 1.0, 2.5, 1.0, 1.0] ]] ],\n",
       " [ patterns = [[ start = 8.0 | end = 15.0 | pattern = [0.5, 1.0, 2.5, 1.0, 1.0, 1.0] ], [ start = 24.0 | end = 31.0 | pattern = [0.5, 1.0, 2.5, 1.0, 1.0, 1.0] ]] ],\n",
       " [ patterns = [[ start = 8.0 | end = 16.0 | pattern = [0.5, 1.0, 2.5, 1.0, 1.0, 1.0, 1.0] ], [ start = 24.0 | end = 32.0 | pattern = [0.5, 1.0, 2.5, 1.0, 1.0, 1.0, 1.0] ]] ],\n",
       " [ patterns = [[ start = 8.5 | end = 13.0 | pattern = [1.0, 2.5, 1.0] ], [ start = 24.5 | end = 29.0 | pattern = [1.0, 2.5, 1.0] ]] ],\n",
       " [ patterns = [[ start = 8.5 | end = 14.0 | pattern = [1.0, 2.5, 1.0, 1.0] ], [ start = 24.5 | end = 30.0 | pattern = [1.0, 2.5, 1.0, 1.0] ]] ],\n",
       " [ patterns = [[ start = 8.5 | end = 15.0 | pattern = [1.0, 2.5, 1.0, 1.0, 1.0] ], [ start = 24.5 | end = 31.0 | pattern = [1.0, 2.5, 1.0, 1.0, 1.0] ]] ],\n",
       " [ patterns = [[ start = 8.5 | end = 16.0 | pattern = [1.0, 2.5, 1.0, 1.0, 1.0, 1.0] ], [ start = 24.5 | end = 32.0 | pattern = [1.0, 2.5, 1.0, 1.0, 1.0, 1.0] ]] ],\n",
       " [ patterns = [[ start = 9.5 | end = 14.0 | pattern = [2.5, 1.0, 1.0] ], [ start = 25.5 | end = 30.0 | pattern = [2.5, 1.0, 1.0] ]] ],\n",
       " [ patterns = [[ start = 9.5 | end = 15.0 | pattern = [2.5, 1.0, 1.0, 1.0] ], [ start = 25.5 | end = 31.0 | pattern = [2.5, 1.0, 1.0, 1.0] ]] ],\n",
       " [ patterns = [[ start = 9.5 | end = 16.0 | pattern = [2.5, 1.0, 1.0, 1.0, 1.0] ], [ start = 25.5 | end = 32.0 | pattern = [2.5, 1.0, 1.0, 1.0, 1.0] ]] ]]"
      ]
     },
     "execution_count": 98,
     "metadata": {},
     "output_type": "execute_result"
    }
   ],
   "source": [
    "patternMatching(stream1,3,False,melody = False,rhythm = True)"
   ]
  },
  {
   "cell_type": "code",
   "execution_count": 99,
   "metadata": {
    "scrolled": true
   },
   "outputs": [
    {
     "data": {
      "text/plain": [
       "[[ patterns = [[ start = 0.0 | end = 2.0 | pattern = ['C3', 'C3', 'C3'] ], [ start = 16.0 | end = 18.0 | pattern = ['C3', 'C3', 'C3'] ]] ],\n",
       " [ patterns = [[ start = 3.0 | end = 5.0 | pattern = ['D3', 'E3', 'F3'] ], [ start = 5.0 | end = 8.0 | pattern = ['D3', 'E3', 'F3'] ], [ start = 13.0 | end = 16.0 | pattern = ['D3', 'E3', 'F3'] ], [ start = 19.0 | end = 21.0 | pattern = ['D3', 'E3', 'F3'] ], [ start = 21.0 | end = 24.0 | pattern = ['D3', 'E3', 'F3'] ], [ start = 29.0 | end = 32.0 | pattern = ['D3', 'E3', 'F3'] ]] ],\n",
       " [ patterns = [[ start = 3.0 | end = 6.0 | pattern = ['D3', 'E3', 'F3', 'D3'] ], [ start = 19.0 | end = 22.0 | pattern = ['D3', 'E3', 'F3', 'D3'] ]] ],\n",
       " [ patterns = [[ start = 3.0 | end = 7.0 | pattern = ['D3', 'E3', 'F3', 'D3', 'E3'] ], [ start = 19.0 | end = 23.0 | pattern = ['D3', 'E3', 'F3', 'D3', 'E3'] ]] ],\n",
       " [ patterns = [[ start = 3.0 | end = 8.0 | pattern = ['D3', 'E3', 'F3', 'D3', 'E3', 'F3'] ], [ start = 19.0 | end = 24.0 | pattern = ['D3', 'E3', 'F3', 'D3', 'E3', 'F3'] ]] ],\n",
       " [ patterns = [[ start = 3.0 | end = 8.5 | pattern = ['D3', 'E3', 'F3', 'D3', 'E3', 'F3', 'F3'] ], [ start = 19.0 | end = 24.5 | pattern = ['D3', 'E3', 'F3', 'D3', 'E3', 'F3', 'F3'] ]] ],\n",
       " [ patterns = [[ start = 3.0 | end = 9.5 | pattern = ['D3', 'E3', 'F3', 'D3', 'E3', 'F3', 'F3', 'F3'] ], [ start = 19.0 | end = 25.5 | pattern = ['D3', 'E3', 'F3', 'D3', 'E3', 'F3', 'F3', 'F3'] ]] ],\n",
       " [ patterns = [[ start = 3.0 | end = 12.0 | pattern = ['D3', 'E3', 'F3', 'D3', 'E3', 'F3', 'F3', 'F3', 'E-3'] ], [ start = 19.0 | end = 28.0 | pattern = ['D3', 'E3', 'F3', 'D3', 'E3', 'F3', 'F3', 'F3', 'E-3'] ]] ],\n",
       " [ patterns = [[ start = 3.0 | end = 13.0 | pattern = ['D3', 'E3', 'F3', 'D3', 'E3', 'F3', 'F3', 'F3', 'E-3', 'F3'] ], [ start = 19.0 | end = 29.0 | pattern = ['D3', 'E3', 'F3', 'D3', 'E3', 'F3', 'F3', 'F3', 'E-3', 'F3'] ]] ],\n",
       " [ patterns = [[ start = 3.0 | end = 14.0 | pattern = ['D3', 'E3', 'F3', 'D3', 'E3', 'F3', 'F3', 'F3', 'E-3', 'F3', 'D3'] ], [ start = 19.0 | end = 30.0 | pattern = ['D3', 'E3', 'F3', 'D3', 'E3', 'F3', 'F3', 'F3', 'E-3', 'F3', 'D3'] ]] ],\n",
       " [ patterns = [[ start = 3.0 | end = 15.0 | pattern = ['D3', 'E3', 'F3', 'D3', 'E3', 'F3', 'F3', 'F3', 'E-3', 'F3', 'D3', 'E3'] ], [ start = 19.0 | end = 31.0 | pattern = ['D3', 'E3', 'F3', 'D3', 'E3', 'F3', 'F3', 'F3', 'E-3', 'F3', 'D3', 'E3'] ]] ],\n",
       " [ patterns = [[ start = 3.0 | end = 16.0 | pattern = ['D3', 'E3', 'F3', 'D3', 'E3', 'F3', 'F3', 'F3', 'E-3', 'F3', 'D3', 'E3', 'F3'] ], [ start = 19.0 | end = 32.0 | pattern = ['D3', 'E3', 'F3', 'D3', 'E3', 'F3', 'F3', 'F3', 'E-3', 'F3', 'D3', 'E3', 'F3'] ]] ],\n",
       " [ patterns = [[ start = 3.5 | end = 6.0 | pattern = ['E3', 'F3', 'D3'] ], [ start = 19.5 | end = 22.0 | pattern = ['E3', 'F3', 'D3'] ]] ],\n",
       " [ patterns = [[ start = 3.5 | end = 7.0 | pattern = ['E3', 'F3', 'D3', 'E3'] ], [ start = 19.5 | end = 23.0 | pattern = ['E3', 'F3', 'D3', 'E3'] ]] ],\n",
       " [ patterns = [[ start = 3.5 | end = 8.0 | pattern = ['E3', 'F3', 'D3', 'E3', 'F3'] ], [ start = 19.5 | end = 24.0 | pattern = ['E3', 'F3', 'D3', 'E3', 'F3'] ]] ],\n",
       " [ patterns = [[ start = 3.5 | end = 8.5 | pattern = ['E3', 'F3', 'D3', 'E3', 'F3', 'F3'] ], [ start = 19.5 | end = 24.5 | pattern = ['E3', 'F3', 'D3', 'E3', 'F3', 'F3'] ]] ],\n",
       " [ patterns = [[ start = 3.5 | end = 9.5 | pattern = ['E3', 'F3', 'D3', 'E3', 'F3', 'F3', 'F3'] ], [ start = 19.5 | end = 25.5 | pattern = ['E3', 'F3', 'D3', 'E3', 'F3', 'F3', 'F3'] ]] ],\n",
       " [ patterns = [[ start = 3.5 | end = 12.0 | pattern = ['E3', 'F3', 'D3', 'E3', 'F3', 'F3', 'F3', 'E-3'] ], [ start = 19.5 | end = 28.0 | pattern = ['E3', 'F3', 'D3', 'E3', 'F3', 'F3', 'F3', 'E-3'] ]] ],\n",
       " [ patterns = [[ start = 3.5 | end = 13.0 | pattern = ['E3', 'F3', 'D3', 'E3', 'F3', 'F3', 'F3', 'E-3', 'F3'] ], [ start = 19.5 | end = 29.0 | pattern = ['E3', 'F3', 'D3', 'E3', 'F3', 'F3', 'F3', 'E-3', 'F3'] ]] ],\n",
       " [ patterns = [[ start = 3.5 | end = 14.0 | pattern = ['E3', 'F3', 'D3', 'E3', 'F3', 'F3', 'F3', 'E-3', 'F3', 'D3'] ], [ start = 19.5 | end = 30.0 | pattern = ['E3', 'F3', 'D3', 'E3', 'F3', 'F3', 'F3', 'E-3', 'F3', 'D3'] ]] ],\n",
       " [ patterns = [[ start = 3.5 | end = 15.0 | pattern = ['E3', 'F3', 'D3', 'E3', 'F3', 'F3', 'F3', 'E-3', 'F3', 'D3', 'E3'] ], [ start = 19.5 | end = 31.0 | pattern = ['E3', 'F3', 'D3', 'E3', 'F3', 'F3', 'F3', 'E-3', 'F3', 'D3', 'E3'] ]] ],\n",
       " [ patterns = [[ start = 3.5 | end = 16.0 | pattern = ['E3', 'F3', 'D3', 'E3', 'F3', 'F3', 'F3', 'E-3', 'F3', 'D3', 'E3', 'F3'] ], [ start = 19.5 | end = 32.0 | pattern = ['E3', 'F3', 'D3', 'E3', 'F3', 'F3', 'F3', 'E-3', 'F3', 'D3', 'E3', 'F3'] ]] ],\n",
       " [ patterns = [[ start = 4.0 | end = 7.0 | pattern = ['F3', 'D3', 'E3'] ], [ start = 12.0 | end = 15.0 | pattern = ['F3', 'D3', 'E3'] ], [ start = 20.0 | end = 23.0 | pattern = ['F3', 'D3', 'E3'] ], [ start = 28.0 | end = 31.0 | pattern = ['F3', 'D3', 'E3'] ]] ],\n",
       " [ patterns = [[ start = 4.0 | end = 8.0 | pattern = ['F3', 'D3', 'E3', 'F3'] ], [ start = 12.0 | end = 16.0 | pattern = ['F3', 'D3', 'E3', 'F3'] ], [ start = 20.0 | end = 24.0 | pattern = ['F3', 'D3', 'E3', 'F3'] ], [ start = 28.0 | end = 32.0 | pattern = ['F3', 'D3', 'E3', 'F3'] ]] ],\n",
       " [ patterns = [[ start = 4.0 | end = 8.5 | pattern = ['F3', 'D3', 'E3', 'F3', 'F3'] ], [ start = 20.0 | end = 24.5 | pattern = ['F3', 'D3', 'E3', 'F3', 'F3'] ]] ],\n",
       " [ patterns = [[ start = 4.0 | end = 9.5 | pattern = ['F3', 'D3', 'E3', 'F3', 'F3', 'F3'] ], [ start = 20.0 | end = 25.5 | pattern = ['F3', 'D3', 'E3', 'F3', 'F3', 'F3'] ]] ],\n",
       " [ patterns = [[ start = 4.0 | end = 12.0 | pattern = ['F3', 'D3', 'E3', 'F3', 'F3', 'F3', 'E-3'] ], [ start = 20.0 | end = 28.0 | pattern = ['F3', 'D3', 'E3', 'F3', 'F3', 'F3', 'E-3'] ]] ],\n",
       " [ patterns = [[ start = 4.0 | end = 13.0 | pattern = ['F3', 'D3', 'E3', 'F3', 'F3', 'F3', 'E-3', 'F3'] ], [ start = 20.0 | end = 29.0 | pattern = ['F3', 'D3', 'E3', 'F3', 'F3', 'F3', 'E-3', 'F3'] ]] ],\n",
       " [ patterns = [[ start = 4.0 | end = 14.0 | pattern = ['F3', 'D3', 'E3', 'F3', 'F3', 'F3', 'E-3', 'F3', 'D3'] ], [ start = 20.0 | end = 30.0 | pattern = ['F3', 'D3', 'E3', 'F3', 'F3', 'F3', 'E-3', 'F3', 'D3'] ]] ],\n",
       " [ patterns = [[ start = 4.0 | end = 15.0 | pattern = ['F3', 'D3', 'E3', 'F3', 'F3', 'F3', 'E-3', 'F3', 'D3', 'E3'] ], [ start = 20.0 | end = 31.0 | pattern = ['F3', 'D3', 'E3', 'F3', 'F3', 'F3', 'E-3', 'F3', 'D3', 'E3'] ]] ],\n",
       " [ patterns = [[ start = 4.0 | end = 16.0 | pattern = ['F3', 'D3', 'E3', 'F3', 'F3', 'F3', 'E-3', 'F3', 'D3', 'E3', 'F3'] ], [ start = 20.0 | end = 32.0 | pattern = ['F3', 'D3', 'E3', 'F3', 'F3', 'F3', 'E-3', 'F3', 'D3', 'E3', 'F3'] ]] ],\n",
       " [ patterns = [[ start = 5.0 | end = 8.5 | pattern = ['D3', 'E3', 'F3', 'F3'] ], [ start = 21.0 | end = 24.5 | pattern = ['D3', 'E3', 'F3', 'F3'] ]] ],\n",
       " [ patterns = [[ start = 5.0 | end = 9.5 | pattern = ['D3', 'E3', 'F3', 'F3', 'F3'] ], [ start = 21.0 | end = 25.5 | pattern = ['D3', 'E3', 'F3', 'F3', 'F3'] ]] ],\n",
       " [ patterns = [[ start = 5.0 | end = 12.0 | pattern = ['D3', 'E3', 'F3', 'F3', 'F3', 'E-3'] ], [ start = 21.0 | end = 28.0 | pattern = ['D3', 'E3', 'F3', 'F3', 'F3', 'E-3'] ]] ],\n",
       " [ patterns = [[ start = 5.0 | end = 13.0 | pattern = ['D3', 'E3', 'F3', 'F3', 'F3', 'E-3', 'F3'] ], [ start = 21.0 | end = 29.0 | pattern = ['D3', 'E3', 'F3', 'F3', 'F3', 'E-3', 'F3'] ]] ],\n",
       " [ patterns = [[ start = 5.0 | end = 14.0 | pattern = ['D3', 'E3', 'F3', 'F3', 'F3', 'E-3', 'F3', 'D3'] ], [ start = 21.0 | end = 30.0 | pattern = ['D3', 'E3', 'F3', 'F3', 'F3', 'E-3', 'F3', 'D3'] ]] ],\n",
       " [ patterns = [[ start = 5.0 | end = 15.0 | pattern = ['D3', 'E3', 'F3', 'F3', 'F3', 'E-3', 'F3', 'D3', 'E3'] ], [ start = 21.0 | end = 31.0 | pattern = ['D3', 'E3', 'F3', 'F3', 'F3', 'E-3', 'F3', 'D3', 'E3'] ]] ],\n",
       " [ patterns = [[ start = 5.0 | end = 16.0 | pattern = ['D3', 'E3', 'F3', 'F3', 'F3', 'E-3', 'F3', 'D3', 'E3', 'F3'] ], [ start = 21.0 | end = 32.0 | pattern = ['D3', 'E3', 'F3', 'F3', 'F3', 'E-3', 'F3', 'D3', 'E3', 'F3'] ]] ],\n",
       " [ patterns = [[ start = 6.0 | end = 8.5 | pattern = ['E3', 'F3', 'F3'] ], [ start = 22.0 | end = 24.5 | pattern = ['E3', 'F3', 'F3'] ]] ],\n",
       " [ patterns = [[ start = 6.0 | end = 9.5 | pattern = ['E3', 'F3', 'F3', 'F3'] ], [ start = 22.0 | end = 25.5 | pattern = ['E3', 'F3', 'F3', 'F3'] ]] ],\n",
       " [ patterns = [[ start = 6.0 | end = 12.0 | pattern = ['E3', 'F3', 'F3', 'F3', 'E-3'] ], [ start = 22.0 | end = 28.0 | pattern = ['E3', 'F3', 'F3', 'F3', 'E-3'] ]] ],\n",
       " [ patterns = [[ start = 6.0 | end = 13.0 | pattern = ['E3', 'F3', 'F3', 'F3', 'E-3', 'F3'] ], [ start = 22.0 | end = 29.0 | pattern = ['E3', 'F3', 'F3', 'F3', 'E-3', 'F3'] ]] ],\n",
       " [ patterns = [[ start = 6.0 | end = 14.0 | pattern = ['E3', 'F3', 'F3', 'F3', 'E-3', 'F3', 'D3'] ], [ start = 22.0 | end = 30.0 | pattern = ['E3', 'F3', 'F3', 'F3', 'E-3', 'F3', 'D3'] ]] ],\n",
       " [ patterns = [[ start = 6.0 | end = 15.0 | pattern = ['E3', 'F3', 'F3', 'F3', 'E-3', 'F3', 'D3', 'E3'] ], [ start = 22.0 | end = 31.0 | pattern = ['E3', 'F3', 'F3', 'F3', 'E-3', 'F3', 'D3', 'E3'] ]] ],\n",
       " [ patterns = [[ start = 6.0 | end = 16.0 | pattern = ['E3', 'F3', 'F3', 'F3', 'E-3', 'F3', 'D3', 'E3', 'F3'] ], [ start = 22.0 | end = 32.0 | pattern = ['E3', 'F3', 'F3', 'F3', 'E-3', 'F3', 'D3', 'E3', 'F3'] ]] ],\n",
       " [ patterns = [[ start = 7.0 | end = 9.5 | pattern = ['F3', 'F3', 'F3'] ], [ start = 23.0 | end = 25.5 | pattern = ['F3', 'F3', 'F3'] ]] ],\n",
       " [ patterns = [[ start = 7.0 | end = 12.0 | pattern = ['F3', 'F3', 'F3', 'E-3'] ], [ start = 23.0 | end = 28.0 | pattern = ['F3', 'F3', 'F3', 'E-3'] ]] ],\n",
       " [ patterns = [[ start = 7.0 | end = 13.0 | pattern = ['F3', 'F3', 'F3', 'E-3', 'F3'] ], [ start = 23.0 | end = 29.0 | pattern = ['F3', 'F3', 'F3', 'E-3', 'F3'] ]] ],\n",
       " [ patterns = [[ start = 7.0 | end = 14.0 | pattern = ['F3', 'F3', 'F3', 'E-3', 'F3', 'D3'] ], [ start = 23.0 | end = 30.0 | pattern = ['F3', 'F3', 'F3', 'E-3', 'F3', 'D3'] ]] ],\n",
       " [ patterns = [[ start = 7.0 | end = 15.0 | pattern = ['F3', 'F3', 'F3', 'E-3', 'F3', 'D3', 'E3'] ], [ start = 23.0 | end = 31.0 | pattern = ['F3', 'F3', 'F3', 'E-3', 'F3', 'D3', 'E3'] ]] ],\n",
       " [ patterns = [[ start = 7.0 | end = 16.0 | pattern = ['F3', 'F3', 'F3', 'E-3', 'F3', 'D3', 'E3', 'F3'] ], [ start = 23.0 | end = 32.0 | pattern = ['F3', 'F3', 'F3', 'E-3', 'F3', 'D3', 'E3', 'F3'] ]] ],\n",
       " [ patterns = [[ start = 8.0 | end = 12.0 | pattern = ['F3', 'F3', 'E-3'] ], [ start = 24.0 | end = 28.0 | pattern = ['F3', 'F3', 'E-3'] ]] ],\n",
       " [ patterns = [[ start = 8.0 | end = 13.0 | pattern = ['F3', 'F3', 'E-3', 'F3'] ], [ start = 24.0 | end = 29.0 | pattern = ['F3', 'F3', 'E-3', 'F3'] ]] ],\n",
       " [ patterns = [[ start = 8.0 | end = 14.0 | pattern = ['F3', 'F3', 'E-3', 'F3', 'D3'] ], [ start = 24.0 | end = 30.0 | pattern = ['F3', 'F3', 'E-3', 'F3', 'D3'] ]] ],\n",
       " [ patterns = [[ start = 8.0 | end = 15.0 | pattern = ['F3', 'F3', 'E-3', 'F3', 'D3', 'E3'] ], [ start = 24.0 | end = 31.0 | pattern = ['F3', 'F3', 'E-3', 'F3', 'D3', 'E3'] ]] ],\n",
       " [ patterns = [[ start = 8.0 | end = 16.0 | pattern = ['F3', 'F3', 'E-3', 'F3', 'D3', 'E3', 'F3'] ], [ start = 24.0 | end = 32.0 | pattern = ['F3', 'F3', 'E-3', 'F3', 'D3', 'E3', 'F3'] ]] ],\n",
       " [ patterns = [[ start = 8.5 | end = 13.0 | pattern = ['F3', 'E-3', 'F3'] ], [ start = 24.5 | end = 29.0 | pattern = ['F3', 'E-3', 'F3'] ]] ],\n",
       " [ patterns = [[ start = 8.5 | end = 14.0 | pattern = ['F3', 'E-3', 'F3', 'D3'] ], [ start = 24.5 | end = 30.0 | pattern = ['F3', 'E-3', 'F3', 'D3'] ]] ],\n",
       " [ patterns = [[ start = 8.5 | end = 15.0 | pattern = ['F3', 'E-3', 'F3', 'D3', 'E3'] ], [ start = 24.5 | end = 31.0 | pattern = ['F3', 'E-3', 'F3', 'D3', 'E3'] ]] ],\n",
       " [ patterns = [[ start = 8.5 | end = 16.0 | pattern = ['F3', 'E-3', 'F3', 'D3', 'E3', 'F3'] ], [ start = 24.5 | end = 32.0 | pattern = ['F3', 'E-3', 'F3', 'D3', 'E3', 'F3'] ]] ],\n",
       " [ patterns = [[ start = 9.5 | end = 14.0 | pattern = ['E-3', 'F3', 'D3'] ], [ start = 25.5 | end = 30.0 | pattern = ['E-3', 'F3', 'D3'] ]] ],\n",
       " [ patterns = [[ start = 9.5 | end = 15.0 | pattern = ['E-3', 'F3', 'D3', 'E3'] ], [ start = 25.5 | end = 31.0 | pattern = ['E-3', 'F3', 'D3', 'E3'] ]] ],\n",
       " [ patterns = [[ start = 9.5 | end = 16.0 | pattern = ['E-3', 'F3', 'D3', 'E3', 'F3'] ], [ start = 25.5 | end = 32.0 | pattern = ['E-3', 'F3', 'D3', 'E3', 'F3'] ]] ]]"
      ]
     },
     "execution_count": 99,
     "metadata": {},
     "output_type": "execute_result"
    }
   ],
   "source": [
    "patternMatching(stream1,3,True,melody = True,rhythm = False)"
   ]
  },
  {
   "cell_type": "code",
   "execution_count": 100,
   "metadata": {
    "scrolled": true
   },
   "outputs": [
    {
     "data": {
      "text/plain": [
       "[[ patterns = [[ start = 0.0 | end = 2.0 | melodyPattern = [0, 0, 0] | rhythmPattern = [0.5, 0.5, 1.0] ], [ start = 16.0 | end = 18.0 | melodyPattern = [0, 0, 0] | rhythmPattern = [0.5, 0.5, 1.0] ]] ],\n",
       " [ patterns = [[ start = 3.0 | end = 5.0 | melodyPattern = [0, 2, 3] | rhythmPattern = [0.5, 0.5, 1.0] ], [ start = 19.0 | end = 21.0 | melodyPattern = [0, 2, 3] | rhythmPattern = [0.5, 0.5, 1.0] ]] ],\n",
       " [ patterns = [[ start = 3.0 | end = 6.0 | melodyPattern = [0, 2, 3, 0] | rhythmPattern = [0.5, 0.5, 1.0, 1.0] ], [ start = 19.0 | end = 22.0 | melodyPattern = [0, 2, 3, 0] | rhythmPattern = [0.5, 0.5, 1.0, 1.0] ]] ],\n",
       " [ patterns = [[ start = 3.0 | end = 7.0 | melodyPattern = [0, 2, 3, 0, 2] | rhythmPattern = [0.5, 0.5, 1.0, 1.0, 1.0] ], [ start = 19.0 | end = 23.0 | melodyPattern = [0, 2, 3, 0, 2] | rhythmPattern = [0.5, 0.5, 1.0, 1.0, 1.0] ]] ],\n",
       " [ patterns = [[ start = 3.0 | end = 8.0 | melodyPattern = [0, 2, 3, 0, 2, 3] | rhythmPattern = [0.5, 0.5, 1.0, 1.0, 1.0, 1.0] ], [ start = 19.0 | end = 24.0 | melodyPattern = [0, 2, 3, 0, 2, 3] | rhythmPattern = [0.5, 0.5, 1.0, 1.0, 1.0, 1.0] ]] ],\n",
       " [ patterns = [[ start = 3.0 | end = 8.5 | melodyPattern = [0, 2, 3, 0, 2, 3, 3] | rhythmPattern = [0.5, 0.5, 1.0, 1.0, 1.0, 1.0, 0.5] ], [ start = 19.0 | end = 24.5 | melodyPattern = [0, 2, 3, 0, 2, 3, 3] | rhythmPattern = [0.5, 0.5, 1.0, 1.0, 1.0, 1.0, 0.5] ]] ],\n",
       " [ patterns = [[ start = 3.0 | end = 9.5 | melodyPattern = [0, 2, 3, 0, 2, 3, 3, 3] | rhythmPattern = [0.5, 0.5, 1.0, 1.0, 1.0, 1.0, 0.5, 1.0] ], [ start = 19.0 | end = 25.5 | melodyPattern = [0, 2, 3, 0, 2, 3, 3, 3] | rhythmPattern = [0.5, 0.5, 1.0, 1.0, 1.0, 1.0, 0.5, 1.0] ]] ],\n",
       " [ patterns = [[ start = 3.0 | end = 12.0 | melodyPattern = [0, 2, 3, 0, 2, 3, 3, 3, 1] | rhythmPattern = [0.5, 0.5, 1.0, 1.0, 1.0, 1.0, 0.5, 1.0, 2.5] ], [ start = 19.0 | end = 28.0 | melodyPattern = [0, 2, 3, 0, 2, 3, 3, 3, 1] | rhythmPattern = [0.5, 0.5, 1.0, 1.0, 1.0, 1.0, 0.5, 1.0, 2.5] ]] ],\n",
       " [ patterns = [[ start = 3.0 | end = 13.0 | melodyPattern = [0, 2, 3, 0, 2, 3, 3, 3, 1, 3] | rhythmPattern = [0.5, 0.5, 1.0, 1.0, 1.0, 1.0, 0.5, 1.0, 2.5, 1.0] ], [ start = 19.0 | end = 29.0 | melodyPattern = [0, 2, 3, 0, 2, 3, 3, 3, 1, 3] | rhythmPattern = [0.5, 0.5, 1.0, 1.0, 1.0, 1.0, 0.5, 1.0, 2.5, 1.0] ]] ],\n",
       " [ patterns = [[ start = 3.0 | end = 14.0 | melodyPattern = [0, 2, 3, 0, 2, 3, 3, 3, 1, 3, 0] | rhythmPattern = [0.5, 0.5, 1.0, 1.0, 1.0, 1.0, 0.5, 1.0, 2.5, 1.0, 1.0] ], [ start = 19.0 | end = 30.0 | melodyPattern = [0, 2, 3, 0, 2, 3, 3, 3, 1, 3, 0] | rhythmPattern = [0.5, 0.5, 1.0, 1.0, 1.0, 1.0, 0.5, 1.0, 2.5, 1.0, 1.0] ]] ],\n",
       " [ patterns = [[ start = 3.0 | end = 15.0 | melodyPattern = [0, 2, 3, 0, 2, 3, 3, 3, 1, 3, 0, 2] | rhythmPattern = [0.5, 0.5, 1.0, 1.0, 1.0, 1.0, 0.5, 1.0, 2.5, 1.0, 1.0, 1.0] ], [ start = 19.0 | end = 31.0 | melodyPattern = [0, 2, 3, 0, 2, 3, 3, 3, 1, 3, 0, 2] | rhythmPattern = [0.5, 0.5, 1.0, 1.0, 1.0, 1.0, 0.5, 1.0, 2.5, 1.0, 1.0, 1.0] ]] ],\n",
       " [ patterns = [[ start = 3.0 | end = 16.0 | melodyPattern = [0, 2, 3, 0, 2, 3, 3, 3, 1, 3, 0, 2, 3] | rhythmPattern = [0.5, 0.5, 1.0, 1.0, 1.0, 1.0, 0.5, 1.0, 2.5, 1.0, 1.0, 1.0, 1.0] ], [ start = 19.0 | end = 32.0 | melodyPattern = [0, 2, 3, 0, 2, 3, 3, 3, 1, 3, 0, 2, 3] | rhythmPattern = [0.5, 0.5, 1.0, 1.0, 1.0, 1.0, 0.5, 1.0, 2.5, 1.0, 1.0, 1.0, 1.0] ]] ],\n",
       " [ patterns = [[ start = 3.5 | end = 6.0 | melodyPattern = [0, 1, 2] | rhythmPattern = [0.5, 1.0, 1.0] ], [ start = 19.5 | end = 22.0 | melodyPattern = [0, 1, 2] | rhythmPattern = [0.5, 1.0, 1.0] ]] ],\n",
       " [ patterns = [[ start = 3.5 | end = 7.0 | melodyPattern = [0, 1, 2, 0] | rhythmPattern = [0.5, 1.0, 1.0, 1.0] ], [ start = 19.5 | end = 23.0 | melodyPattern = [0, 1, 2, 0] | rhythmPattern = [0.5, 1.0, 1.0, 1.0] ]] ],\n",
       " [ patterns = [[ start = 3.5 | end = 8.0 | melodyPattern = [0, 1, 2, 0, 1] | rhythmPattern = [0.5, 1.0, 1.0, 1.0, 1.0] ], [ start = 19.5 | end = 24.0 | melodyPattern = [0, 1, 2, 0, 1] | rhythmPattern = [0.5, 1.0, 1.0, 1.0, 1.0] ]] ],\n",
       " [ patterns = [[ start = 3.5 | end = 8.5 | melodyPattern = [0, 1, 2, 0, 1, 1] | rhythmPattern = [0.5, 1.0, 1.0, 1.0, 1.0, 0.5] ], [ start = 19.5 | end = 24.5 | melodyPattern = [0, 1, 2, 0, 1, 1] | rhythmPattern = [0.5, 1.0, 1.0, 1.0, 1.0, 0.5] ]] ],\n",
       " [ patterns = [[ start = 3.5 | end = 9.5 | melodyPattern = [0, 1, 2, 0, 1, 1, 1] | rhythmPattern = [0.5, 1.0, 1.0, 1.0, 1.0, 0.5, 1.0] ], [ start = 19.5 | end = 25.5 | melodyPattern = [0, 1, 2, 0, 1, 1, 1] | rhythmPattern = [0.5, 1.0, 1.0, 1.0, 1.0, 0.5, 1.0] ]] ],\n",
       " [ patterns = [[ start = 3.5 | end = 12.0 | melodyPattern = [0, 1, 2, 0, 1, 1, 1, 1] | rhythmPattern = [0.5, 1.0, 1.0, 1.0, 1.0, 0.5, 1.0, 2.5] ], [ start = 19.5 | end = 28.0 | melodyPattern = [0, 1, 2, 0, 1, 1, 1, 1] | rhythmPattern = [0.5, 1.0, 1.0, 1.0, 1.0, 0.5, 1.0, 2.5] ]] ],\n",
       " [ patterns = [[ start = 3.5 | end = 13.0 | melodyPattern = [0, 1, 2, 0, 1, 1, 1, 1, 1] | rhythmPattern = [0.5, 1.0, 1.0, 1.0, 1.0, 0.5, 1.0, 2.5, 1.0] ], [ start = 19.5 | end = 29.0 | melodyPattern = [0, 1, 2, 0, 1, 1, 1, 1, 1] | rhythmPattern = [0.5, 1.0, 1.0, 1.0, 1.0, 0.5, 1.0, 2.5, 1.0] ]] ],\n",
       " [ patterns = [[ start = 3.5 | end = 14.0 | melodyPattern = [0, 1, 2, 0, 1, 1, 1, 1, 1, 2] | rhythmPattern = [0.5, 1.0, 1.0, 1.0, 1.0, 0.5, 1.0, 2.5, 1.0, 1.0] ], [ start = 19.5 | end = 30.0 | melodyPattern = [0, 1, 2, 0, 1, 1, 1, 1, 1, 2] | rhythmPattern = [0.5, 1.0, 1.0, 1.0, 1.0, 0.5, 1.0, 2.5, 1.0, 1.0] ]] ],\n",
       " [ patterns = [[ start = 3.5 | end = 15.0 | melodyPattern = [0, 1, 2, 0, 1, 1, 1, 1, 1, 2, 0] | rhythmPattern = [0.5, 1.0, 1.0, 1.0, 1.0, 0.5, 1.0, 2.5, 1.0, 1.0, 1.0] ], [ start = 19.5 | end = 31.0 | melodyPattern = [0, 1, 2, 0, 1, 1, 1, 1, 1, 2, 0] | rhythmPattern = [0.5, 1.0, 1.0, 1.0, 1.0, 0.5, 1.0, 2.5, 1.0, 1.0, 1.0] ]] ],\n",
       " [ patterns = [[ start = 3.5 | end = 16.0 | melodyPattern = [0, 1, 2, 0, 1, 1, 1, 1, 1, 2, 0, 1] | rhythmPattern = [0.5, 1.0, 1.0, 1.0, 1.0, 0.5, 1.0, 2.5, 1.0, 1.0, 1.0, 1.0] ], [ start = 19.5 | end = 32.0 | melodyPattern = [0, 1, 2, 0, 1, 1, 1, 1, 1, 2, 0, 1] | rhythmPattern = [0.5, 1.0, 1.0, 1.0, 1.0, 0.5, 1.0, 2.5, 1.0, 1.0, 1.0, 1.0] ]] ],\n",
       " [ patterns = [[ start = 4.0 | end = 7.0 | melodyPattern = [0, 3, 1] | rhythmPattern = [1.0, 1.0, 1.0] ], [ start = 12.0 | end = 15.0 | melodyPattern = [0, 3, 1] | rhythmPattern = [1.0, 1.0, 1.0] ], [ start = 20.0 | end = 23.0 | melodyPattern = [0, 3, 1] | rhythmPattern = [1.0, 1.0, 1.0] ], [ start = 28.0 | end = 31.0 | melodyPattern = [0, 3, 1] | rhythmPattern = [1.0, 1.0, 1.0] ]] ],\n",
       " [ patterns = [[ start = 4.0 | end = 8.0 | melodyPattern = [0, 3, 1, 0] | rhythmPattern = [1.0, 1.0, 1.0, 1.0] ], [ start = 12.0 | end = 16.0 | melodyPattern = [0, 3, 1, 0] | rhythmPattern = [1.0, 1.0, 1.0, 1.0] ], [ start = 20.0 | end = 24.0 | melodyPattern = [0, 3, 1, 0] | rhythmPattern = [1.0, 1.0, 1.0, 1.0] ], [ start = 28.0 | end = 32.0 | melodyPattern = [0, 3, 1, 0] | rhythmPattern = [1.0, 1.0, 1.0, 1.0] ]] ],\n",
       " [ patterns = [[ start = 4.0 | end = 8.5 | melodyPattern = [0, 3, 1, 0, 0] | rhythmPattern = [1.0, 1.0, 1.0, 1.0, 0.5] ], [ start = 20.0 | end = 24.5 | melodyPattern = [0, 3, 1, 0, 0] | rhythmPattern = [1.0, 1.0, 1.0, 1.0, 0.5] ]] ],\n",
       " [ patterns = [[ start = 4.0 | end = 9.5 | melodyPattern = [0, 3, 1, 0, 0, 0] | rhythmPattern = [1.0, 1.0, 1.0, 1.0, 0.5, 1.0] ], [ start = 20.0 | end = 25.5 | melodyPattern = [0, 3, 1, 0, 0, 0] | rhythmPattern = [1.0, 1.0, 1.0, 1.0, 0.5, 1.0] ]] ],\n",
       " [ patterns = [[ start = 4.0 | end = 12.0 | melodyPattern = [0, 3, 1, 0, 0, 0, 2] | rhythmPattern = [1.0, 1.0, 1.0, 1.0, 0.5, 1.0, 2.5] ], [ start = 20.0 | end = 28.0 | melodyPattern = [0, 3, 1, 0, 0, 0, 2] | rhythmPattern = [1.0, 1.0, 1.0, 1.0, 0.5, 1.0, 2.5] ]] ],\n",
       " [ patterns = [[ start = 4.0 | end = 13.0 | melodyPattern = [0, 3, 1, 0, 0, 0, 2, 0] | rhythmPattern = [1.0, 1.0, 1.0, 1.0, 0.5, 1.0, 2.5, 1.0] ], [ start = 20.0 | end = 29.0 | melodyPattern = [0, 3, 1, 0, 0, 0, 2, 0] | rhythmPattern = [1.0, 1.0, 1.0, 1.0, 0.5, 1.0, 2.5, 1.0] ]] ],\n",
       " [ patterns = [[ start = 4.0 | end = 14.0 | melodyPattern = [0, 3, 1, 0, 0, 0, 2, 0, 3] | rhythmPattern = [1.0, 1.0, 1.0, 1.0, 0.5, 1.0, 2.5, 1.0, 1.0] ], [ start = 20.0 | end = 30.0 | melodyPattern = [0, 3, 1, 0, 0, 0, 2, 0, 3] | rhythmPattern = [1.0, 1.0, 1.0, 1.0, 0.5, 1.0, 2.5, 1.0, 1.0] ]] ],\n",
       " [ patterns = [[ start = 4.0 | end = 15.0 | melodyPattern = [0, 3, 1, 0, 0, 0, 2, 0, 3, 1] | rhythmPattern = [1.0, 1.0, 1.0, 1.0, 0.5, 1.0, 2.5, 1.0, 1.0, 1.0] ], [ start = 20.0 | end = 31.0 | melodyPattern = [0, 3, 1, 0, 0, 0, 2, 0, 3, 1] | rhythmPattern = [1.0, 1.0, 1.0, 1.0, 0.5, 1.0, 2.5, 1.0, 1.0, 1.0] ]] ],\n",
       " [ patterns = [[ start = 4.0 | end = 16.0 | melodyPattern = [0, 3, 1, 0, 0, 0, 2, 0, 3, 1, 0] | rhythmPattern = [1.0, 1.0, 1.0, 1.0, 0.5, 1.0, 2.5, 1.0, 1.0, 1.0, 1.0] ], [ start = 20.0 | end = 32.0 | melodyPattern = [0, 3, 1, 0, 0, 0, 2, 0, 3, 1, 0] | rhythmPattern = [1.0, 1.0, 1.0, 1.0, 0.5, 1.0, 2.5, 1.0, 1.0, 1.0, 1.0] ]] ],\n",
       " [ patterns = [[ start = 5.0 | end = 8.0 | melodyPattern = [0, 2, 3] | rhythmPattern = [1.0, 1.0, 1.0] ], [ start = 13.0 | end = 16.0 | melodyPattern = [0, 2, 3] | rhythmPattern = [1.0, 1.0, 1.0] ], [ start = 21.0 | end = 24.0 | melodyPattern = [0, 2, 3] | rhythmPattern = [1.0, 1.0, 1.0] ], [ start = 29.0 | end = 32.0 | melodyPattern = [0, 2, 3] | rhythmPattern = [1.0, 1.0, 1.0] ]] ],\n",
       " [ patterns = [[ start = 5.0 | end = 8.5 | melodyPattern = [0, 2, 3, 3] | rhythmPattern = [1.0, 1.0, 1.0, 0.5] ], [ start = 21.0 | end = 24.5 | melodyPattern = [0, 2, 3, 3] | rhythmPattern = [1.0, 1.0, 1.0, 0.5] ]] ],\n",
       " [ patterns = [[ start = 5.0 | end = 9.5 | melodyPattern = [0, 2, 3, 3, 3] | rhythmPattern = [1.0, 1.0, 1.0, 0.5, 1.0] ], [ start = 21.0 | end = 25.5 | melodyPattern = [0, 2, 3, 3, 3] | rhythmPattern = [1.0, 1.0, 1.0, 0.5, 1.0] ]] ],\n",
       " [ patterns = [[ start = 5.0 | end = 12.0 | melodyPattern = [0, 2, 3, 3, 3, 1] | rhythmPattern = [1.0, 1.0, 1.0, 0.5, 1.0, 2.5] ], [ start = 21.0 | end = 28.0 | melodyPattern = [0, 2, 3, 3, 3, 1] | rhythmPattern = [1.0, 1.0, 1.0, 0.5, 1.0, 2.5] ]] ],\n",
       " [ patterns = [[ start = 5.0 | end = 13.0 | melodyPattern = [0, 2, 3, 3, 3, 1, 3] | rhythmPattern = [1.0, 1.0, 1.0, 0.5, 1.0, 2.5, 1.0] ], [ start = 21.0 | end = 29.0 | melodyPattern = [0, 2, 3, 3, 3, 1, 3] | rhythmPattern = [1.0, 1.0, 1.0, 0.5, 1.0, 2.5, 1.0] ]] ],\n",
       " [ patterns = [[ start = 5.0 | end = 14.0 | melodyPattern = [0, 2, 3, 3, 3, 1, 3, 0] | rhythmPattern = [1.0, 1.0, 1.0, 0.5, 1.0, 2.5, 1.0, 1.0] ], [ start = 21.0 | end = 30.0 | melodyPattern = [0, 2, 3, 3, 3, 1, 3, 0] | rhythmPattern = [1.0, 1.0, 1.0, 0.5, 1.0, 2.5, 1.0, 1.0] ]] ],\n",
       " [ patterns = [[ start = 5.0 | end = 15.0 | melodyPattern = [0, 2, 3, 3, 3, 1, 3, 0, 2] | rhythmPattern = [1.0, 1.0, 1.0, 0.5, 1.0, 2.5, 1.0, 1.0, 1.0] ], [ start = 21.0 | end = 31.0 | melodyPattern = [0, 2, 3, 3, 3, 1, 3, 0, 2] | rhythmPattern = [1.0, 1.0, 1.0, 0.5, 1.0, 2.5, 1.0, 1.0, 1.0] ]] ],\n",
       " [ patterns = [[ start = 5.0 | end = 16.0 | melodyPattern = [0, 2, 3, 3, 3, 1, 3, 0, 2, 3] | rhythmPattern = [1.0, 1.0, 1.0, 0.5, 1.0, 2.5, 1.0, 1.0, 1.0, 1.0] ], [ start = 21.0 | end = 32.0 | melodyPattern = [0, 2, 3, 3, 3, 1, 3, 0, 2, 3] | rhythmPattern = [1.0, 1.0, 1.0, 0.5, 1.0, 2.5, 1.0, 1.0, 1.0, 1.0] ]] ],\n",
       " [ patterns = [[ start = 6.0 | end = 8.5 | melodyPattern = [0, 1, 1] | rhythmPattern = [1.0, 1.0, 0.5] ], [ start = 22.0 | end = 24.5 | melodyPattern = [0, 1, 1] | rhythmPattern = [1.0, 1.0, 0.5] ]] ],\n",
       " [ patterns = [[ start = 6.0 | end = 9.5 | melodyPattern = [0, 1, 1, 1] | rhythmPattern = [1.0, 1.0, 0.5, 1.0] ], [ start = 22.0 | end = 25.5 | melodyPattern = [0, 1, 1, 1] | rhythmPattern = [1.0, 1.0, 0.5, 1.0] ]] ],\n",
       " [ patterns = [[ start = 6.0 | end = 12.0 | melodyPattern = [0, 1, 1, 1, 1] | rhythmPattern = [1.0, 1.0, 0.5, 1.0, 2.5] ], [ start = 22.0 | end = 28.0 | melodyPattern = [0, 1, 1, 1, 1] | rhythmPattern = [1.0, 1.0, 0.5, 1.0, 2.5] ]] ],\n",
       " [ patterns = [[ start = 6.0 | end = 13.0 | melodyPattern = [0, 1, 1, 1, 1, 1] | rhythmPattern = [1.0, 1.0, 0.5, 1.0, 2.5, 1.0] ], [ start = 22.0 | end = 29.0 | melodyPattern = [0, 1, 1, 1, 1, 1] | rhythmPattern = [1.0, 1.0, 0.5, 1.0, 2.5, 1.0] ]] ],\n",
       " [ patterns = [[ start = 6.0 | end = 14.0 | melodyPattern = [0, 1, 1, 1, 1, 1, 2] | rhythmPattern = [1.0, 1.0, 0.5, 1.0, 2.5, 1.0, 1.0] ], [ start = 22.0 | end = 30.0 | melodyPattern = [0, 1, 1, 1, 1, 1, 2] | rhythmPattern = [1.0, 1.0, 0.5, 1.0, 2.5, 1.0, 1.0] ]] ],\n",
       " [ patterns = [[ start = 6.0 | end = 15.0 | melodyPattern = [0, 1, 1, 1, 1, 1, 2, 0] | rhythmPattern = [1.0, 1.0, 0.5, 1.0, 2.5, 1.0, 1.0, 1.0] ], [ start = 22.0 | end = 31.0 | melodyPattern = [0, 1, 1, 1, 1, 1, 2, 0] | rhythmPattern = [1.0, 1.0, 0.5, 1.0, 2.5, 1.0, 1.0, 1.0] ]] ],\n",
       " [ patterns = [[ start = 6.0 | end = 16.0 | melodyPattern = [0, 1, 1, 1, 1, 1, 2, 0, 1] | rhythmPattern = [1.0, 1.0, 0.5, 1.0, 2.5, 1.0, 1.0, 1.0, 1.0] ], [ start = 22.0 | end = 32.0 | melodyPattern = [0, 1, 1, 1, 1, 1, 2, 0, 1] | rhythmPattern = [1.0, 1.0, 0.5, 1.0, 2.5, 1.0, 1.0, 1.0, 1.0] ]] ],\n",
       " [ patterns = [[ start = 7.0 | end = 9.5 | melodyPattern = [0, 0, 0] | rhythmPattern = [1.0, 0.5, 1.0] ], [ start = 23.0 | end = 25.5 | melodyPattern = [0, 0, 0] | rhythmPattern = [1.0, 0.5, 1.0] ]] ],\n",
       " [ patterns = [[ start = 7.0 | end = 12.0 | melodyPattern = [0, 0, 0, 2] | rhythmPattern = [1.0, 0.5, 1.0, 2.5] ], [ start = 23.0 | end = 28.0 | melodyPattern = [0, 0, 0, 2] | rhythmPattern = [1.0, 0.5, 1.0, 2.5] ]] ],\n",
       " [ patterns = [[ start = 7.0 | end = 13.0 | melodyPattern = [0, 0, 0, 2, 0] | rhythmPattern = [1.0, 0.5, 1.0, 2.5, 1.0] ], [ start = 23.0 | end = 29.0 | melodyPattern = [0, 0, 0, 2, 0] | rhythmPattern = [1.0, 0.5, 1.0, 2.5, 1.0] ]] ],\n",
       " [ patterns = [[ start = 7.0 | end = 14.0 | melodyPattern = [0, 0, 0, 2, 0, 3] | rhythmPattern = [1.0, 0.5, 1.0, 2.5, 1.0, 1.0] ], [ start = 23.0 | end = 30.0 | melodyPattern = [0, 0, 0, 2, 0, 3] | rhythmPattern = [1.0, 0.5, 1.0, 2.5, 1.0, 1.0] ]] ],\n",
       " [ patterns = [[ start = 7.0 | end = 15.0 | melodyPattern = [0, 0, 0, 2, 0, 3, 1] | rhythmPattern = [1.0, 0.5, 1.0, 2.5, 1.0, 1.0, 1.0] ], [ start = 23.0 | end = 31.0 | melodyPattern = [0, 0, 0, 2, 0, 3, 1] | rhythmPattern = [1.0, 0.5, 1.0, 2.5, 1.0, 1.0, 1.0] ]] ],\n",
       " [ patterns = [[ start = 7.0 | end = 16.0 | melodyPattern = [0, 0, 0, 2, 0, 3, 1, 0] | rhythmPattern = [1.0, 0.5, 1.0, 2.5, 1.0, 1.0, 1.0, 1.0] ], [ start = 23.0 | end = 32.0 | melodyPattern = [0, 0, 0, 2, 0, 3, 1, 0] | rhythmPattern = [1.0, 0.5, 1.0, 2.5, 1.0, 1.0, 1.0, 1.0] ]] ],\n",
       " [ patterns = [[ start = 8.0 | end = 12.0 | melodyPattern = [0, 0, 2] | rhythmPattern = [0.5, 1.0, 2.5] ], [ start = 24.0 | end = 28.0 | melodyPattern = [0, 0, 2] | rhythmPattern = [0.5, 1.0, 2.5] ]] ],\n",
       " [ patterns = [[ start = 8.0 | end = 13.0 | melodyPattern = [0, 0, 2, 0] | rhythmPattern = [0.5, 1.0, 2.5, 1.0] ], [ start = 24.0 | end = 29.0 | melodyPattern = [0, 0, 2, 0] | rhythmPattern = [0.5, 1.0, 2.5, 1.0] ]] ],\n",
       " [ patterns = [[ start = 8.0 | end = 14.0 | melodyPattern = [0, 0, 2, 0, 3] | rhythmPattern = [0.5, 1.0, 2.5, 1.0, 1.0] ], [ start = 24.0 | end = 30.0 | melodyPattern = [0, 0, 2, 0, 3] | rhythmPattern = [0.5, 1.0, 2.5, 1.0, 1.0] ]] ],\n",
       " [ patterns = [[ start = 8.0 | end = 15.0 | melodyPattern = [0, 0, 2, 0, 3, 1] | rhythmPattern = [0.5, 1.0, 2.5, 1.0, 1.0, 1.0] ], [ start = 24.0 | end = 31.0 | melodyPattern = [0, 0, 2, 0, 3, 1] | rhythmPattern = [0.5, 1.0, 2.5, 1.0, 1.0, 1.0] ]] ],\n",
       " [ patterns = [[ start = 8.0 | end = 16.0 | melodyPattern = [0, 0, 2, 0, 3, 1, 0] | rhythmPattern = [0.5, 1.0, 2.5, 1.0, 1.0, 1.0, 1.0] ], [ start = 24.0 | end = 32.0 | melodyPattern = [0, 0, 2, 0, 3, 1, 0] | rhythmPattern = [0.5, 1.0, 2.5, 1.0, 1.0, 1.0, 1.0] ]] ],\n",
       " [ patterns = [[ start = 8.5 | end = 13.0 | melodyPattern = [0, 2, 0] | rhythmPattern = [1.0, 2.5, 1.0] ], [ start = 24.5 | end = 29.0 | melodyPattern = [0, 2, 0] | rhythmPattern = [1.0, 2.5, 1.0] ]] ],\n",
       " [ patterns = [[ start = 8.5 | end = 14.0 | melodyPattern = [0, 2, 0, 3] | rhythmPattern = [1.0, 2.5, 1.0, 1.0] ], [ start = 24.5 | end = 30.0 | melodyPattern = [0, 2, 0, 3] | rhythmPattern = [1.0, 2.5, 1.0, 1.0] ]] ],\n",
       " [ patterns = [[ start = 8.5 | end = 15.0 | melodyPattern = [0, 2, 0, 3, 1] | rhythmPattern = [1.0, 2.5, 1.0, 1.0, 1.0] ], [ start = 24.5 | end = 31.0 | melodyPattern = [0, 2, 0, 3, 1] | rhythmPattern = [1.0, 2.5, 1.0, 1.0, 1.0] ]] ],\n",
       " [ patterns = [[ start = 8.5 | end = 16.0 | melodyPattern = [0, 2, 0, 3, 1, 0] | rhythmPattern = [1.0, 2.5, 1.0, 1.0, 1.0, 1.0] ], [ start = 24.5 | end = 32.0 | melodyPattern = [0, 2, 0, 3, 1, 0] | rhythmPattern = [1.0, 2.5, 1.0, 1.0, 1.0, 1.0] ]] ],\n",
       " [ patterns = [[ start = 9.5 | end = 14.0 | melodyPattern = [0, 2, 1] | rhythmPattern = [2.5, 1.0, 1.0] ], [ start = 25.5 | end = 30.0 | melodyPattern = [0, 2, 1] | rhythmPattern = [2.5, 1.0, 1.0] ]] ],\n",
       " [ patterns = [[ start = 9.5 | end = 15.0 | melodyPattern = [0, 2, 1, 1] | rhythmPattern = [2.5, 1.0, 1.0, 1.0] ], [ start = 25.5 | end = 31.0 | melodyPattern = [0, 2, 1, 1] | rhythmPattern = [2.5, 1.0, 1.0, 1.0] ]] ],\n",
       " [ patterns = [[ start = 9.5 | end = 16.0 | melodyPattern = [0, 2, 1, 1, 2] | rhythmPattern = [2.5, 1.0, 1.0, 1.0, 1.0] ], [ start = 25.5 | end = 32.0 | melodyPattern = [0, 2, 1, 1, 2] | rhythmPattern = [2.5, 1.0, 1.0, 1.0, 1.0] ]] ]]"
      ]
     },
     "execution_count": 100,
     "metadata": {},
     "output_type": "execute_result"
    }
   ],
   "source": [
    "patternMatching(stream1,3,False,melody = True,rhythm = True)"
   ]
  },
  {
   "cell_type": "markdown",
   "metadata": {},
   "source": [
    "Suspensions:"
   ]
  },
  {
   "cell_type": "code",
   "execution_count": 101,
   "metadata": {
    "scrolled": true
   },
   "outputs": [],
   "source": [
    "def suspensions(inputStream,chordProgressions,instrument):\n",
    "    previousProgression = False\n",
    "    result = []\n",
    "    for chordProgression in chordProgressions.progressions:\n",
    "        at = chordProgression.position\n",
    "        to = chordProgression.length + at\n",
    "        elements = inputStream.getElementsByOffset(at,to, mustFinishInSpan = False,mustBeginInSpan = False).notesAndRests\n",
    "        if previousProgression:\n",
    "            if len(elements) != 0:\n",
    "                note = elements[0]\n",
    "                if note.offset < at and not(note.offset + note.quarterLength == at):\n",
    "                    if note.isRest:\n",
    "                        result.append(\"Rest\")\n",
    "                    else:\n",
    "                        consonant = False\n",
    "                        for thing in chordProgression.scale.getPitches(instrument.lowestNote,instrument.highestNote):\n",
    "                            if note.nameWithOctave == str(thing):\n",
    "                                consonant = True\n",
    "                                break\n",
    "                        for thing in previousProgression.scale.getPitches(instrument.lowestNote,instrument.highestNote):\n",
    "                            if note.nameWithOctave == str(thing):\n",
    "                                consonant = True\n",
    "                                break\n",
    "                        if consonant:\n",
    "                            result.append(\"Consonant\")\n",
    "                        else:\n",
    "                            result.append(\"Dissonant\")    \n",
    "                else:\n",
    "                    result.append(\"None\")\n",
    "        previousProgression = chordProgression\n",
    "    return result"
   ]
  },
  {
   "cell_type": "code",
   "execution_count": 102,
   "metadata": {
    "scrolled": true
   },
   "outputs": [
    {
     "data": {
      "text/plain": [
       "['None', 'None', 'None', 'None', 'None', 'None', 'None']"
      ]
     },
     "execution_count": 102,
     "metadata": {},
     "output_type": "execute_result"
    }
   ],
   "source": [
    "suspensions(stream1,chordProgressions,contrabass)"
   ]
  },
  {
   "cell_type": "markdown",
   "metadata": {
    "scrolled": true
   },
   "source": [
    "Note at downbeat:"
   ]
  },
  {
   "cell_type": "code",
   "execution_count": 103,
   "metadata": {
    "scrolled": true
   },
   "outputs": [],
   "source": [
    "def noteAtDownbeats(inputStream,chordProgressions,instrument):\n",
    "    result = []\n",
    "    for bar in range(0,math.ceil(inputStream.quarterLength/4)):\n",
    "        noteAtDownBeat = inputStream.getElementsByOffset(4* bar,4 * bar, mustFinishInSpan = False,mustBeginInSpan = False).notesAndRests[0]\n",
    "        if noteAtDownBeat.isRest:\n",
    "            result.append(\"rest\")\n",
    "        else:\n",
    "            chordProgression = chordProgressions.getProgression(4* bar)\n",
    "            scale = False\n",
    "            for thing in chordProgression.scale.getPitches(instrument.lowestNote,instrument.highestNote):\n",
    "                if noteAtDownBeat.nameWithOctave == str(thing):\n",
    "                    scale = True\n",
    "                    break\n",
    "            if scale:\n",
    "                chord = False\n",
    "                for thing in chordProgression.scale.getChord(instrument.lowestNote,instrument.highestNote):\n",
    "                    if noteAtDownBeat.nameWithOctave == thing.nameWithOctave:\n",
    "                        chord = True\n",
    "                        break\n",
    "                if chord:\n",
    "                    result.append(\"chord\")\n",
    "                else:\n",
    "                    result.append(\"nonChord\")\n",
    "            else:\n",
    "                result.append(\"nonScale\")\n",
    "    return result"
   ]
  },
  {
   "cell_type": "code",
   "execution_count": 104,
   "metadata": {},
   "outputs": [
    {
     "data": {
      "text/plain": [
       "['chord',\n",
       " 'chord',\n",
       " 'chord',\n",
       " 'chord',\n",
       " 'nonScale',\n",
       " 'nonScale',\n",
       " 'chord',\n",
       " 'nonScale']"
      ]
     },
     "execution_count": 104,
     "metadata": {},
     "output_type": "execute_result"
    }
   ],
   "source": [
    "noteAtDownbeats(stream1,chordProgressions,contrabass)"
   ]
  },
  {
   "cell_type": "markdown",
   "metadata": {},
   "source": [
    "Note at half-bar:"
   ]
  },
  {
   "cell_type": "code",
   "execution_count": 105,
   "metadata": {},
   "outputs": [],
   "source": [
    "def noteAtHalfBar(inputStream,chordProgressions,instrument):\n",
    "    result = []\n",
    "    for bar in range(0,math.ceil(inputStream.quarterLength/4)):\n",
    "        noteAtHalfBar = inputStream.getElementsByOffset(4* bar + 2,4 * bar + 2, mustFinishInSpan = False,mustBeginInSpan = False).notesAndRests[0]\n",
    "        if noteAtHalfBar.isRest:\n",
    "            result.append(\"rest\")\n",
    "        else:\n",
    "            chordProgression = chordProgressions.getProgression(4* bar)\n",
    "            scale = False\n",
    "            for thing in chordProgression.scale.getPitches(instrument.lowestNote,instrument.highestNote):\n",
    "                if noteAtHalfBar.nameWithOctave == str(thing):\n",
    "                    scale = True\n",
    "                    break\n",
    "            if scale:\n",
    "                chord = False\n",
    "                for thing in chordProgression.scale.getChord(instrument.lowestNote,instrument.highestNote):\n",
    "                    if noteAtHalfBar.nameWithOctave == thing.nameWithOctave:\n",
    "                        chord = True\n",
    "                        break\n",
    "                if chord:\n",
    "                    result.append(\"chord\")\n",
    "                else:\n",
    "                    result.append(\"nonChord\")\n",
    "            else:\n",
    "                result.append(\"nonScale\")\n",
    "    return result"
   ]
  },
  {
   "cell_type": "code",
   "execution_count": 106,
   "metadata": {},
   "outputs": [
    {
     "data": {
      "text/plain": [
       "['rest', 'chord', 'chord', 'nonScale', 'rest', 'chord', 'chord', 'chord']"
      ]
     },
     "execution_count": 106,
     "metadata": {},
     "output_type": "execute_result"
    }
   ],
   "source": [
    "noteAtHalfBar(stream1,chordProgressions,contrabass)"
   ]
  },
  {
   "cell_type": "markdown",
   "metadata": {},
   "source": [
    "Long notes:"
   ]
  },
  {
   "cell_type": "code",
   "execution_count": 107,
   "metadata": {},
   "outputs": [],
   "source": [
    "def longNotes(inputStream,length,chordProgressions,instrument):\n",
    "    result = []\n",
    "    elements = inputStream.getElementsByOffset(0,inputStream.quarterLength, mustFinishInSpan = False,mustBeginInSpan = False).notesAndRests\n",
    "    for element in elements:\n",
    "        if element.quarterLength >= length:\n",
    "            if element.isRest:\n",
    "                result.append(\"rest\")\n",
    "            else:\n",
    "                chordProgression = chordProgressions.getProgression(element.offset)\n",
    "                scale = False\n",
    "                for thing in chordProgression.scale.getPitches(instrument.lowestNote,instrument.highestNote):\n",
    "                    if element.nameWithOctave == str(thing):\n",
    "                        scale = True\n",
    "                        break\n",
    "                if scale:\n",
    "                    chord = False\n",
    "                    for thing in chordProgression.scale.getChord(instrument.lowestNote,instrument.highestNote):\n",
    "                        if element.nameWithOctave == thing.nameWithOctave:\n",
    "                            chord = True\n",
    "                            break\n",
    "                    if chord:\n",
    "                        result.append(\"chord\")\n",
    "                    else:\n",
    "                        result.append(\"nonChord\")\n",
    "                else:\n",
    "                    result.append(\"nonScale\")\n",
    "    return result"
   ]
  },
  {
   "cell_type": "code",
   "execution_count": 108,
   "metadata": {},
   "outputs": [
    {
     "data": {
      "text/plain": [
       "['chord', 'chord']"
      ]
     },
     "execution_count": 108,
     "metadata": {},
     "output_type": "execute_result"
    }
   ],
   "source": [
    "longNotes(stream1,2,chordProgressions,contrabass)"
   ]
  },
  {
   "cell_type": "markdown",
   "metadata": {},
   "source": [
    "Contour:"
   ]
  },
  {
   "cell_type": "code",
   "execution_count": null,
   "metadata": {},
   "outputs": [],
   "source": []
  },
  {
   "cell_type": "code",
   "execution_count": null,
   "metadata": {},
   "outputs": [],
   "source": []
  },
  {
   "cell_type": "markdown",
   "metadata": {},
   "source": [
    "Speed:"
   ]
  },
  {
   "cell_type": "code",
   "execution_count": 109,
   "metadata": {},
   "outputs": [],
   "source": [
    "def speedOfStream(inputStream,slow,medium,fast):\n",
    "    result = []\n",
    "    for bar in range(0,math.ceil(inputStream.quarterLength/4)):\n",
    "        elements = inputStream.getElementsByOffset(4* bar,4 * bar + 4, mustFinishInSpan = False,mustBeginInSpan = True).notesAndRests\n",
    "        amountOfNotes = 0\n",
    "        for element in elements:\n",
    "            amountOfNotes = amountOfNotes + 1\n",
    "        if amountOfNotes < slow:\n",
    "            result.append(\"slow\")\n",
    "        elif amountOfNotes < medium:\n",
    "            result.append(\"medium\")\n",
    "        else:\n",
    "            result.append(\"fast\")\n",
    "    return result"
   ]
  },
  {
   "cell_type": "code",
   "execution_count": 110,
   "metadata": {},
   "outputs": [
    {
     "data": {
      "text/plain": [
       "['medium', 'medium', 'slow', 'medium', 'medium', 'medium', 'slow', 'slow']"
      ]
     },
     "execution_count": 110,
     "metadata": {},
     "output_type": "execute_result"
    }
   ],
   "source": [
    "speedOfStream(stream1,5,10,15)"
   ]
  },
  {
   "cell_type": "markdown",
   "metadata": {},
   "source": [
    "### Bass specific"
   ]
  },
  {
   "cell_type": "markdown",
   "metadata": {},
   "source": [
    "Chord change:"
   ]
  },
  {
   "cell_type": "code",
   "execution_count": 111,
   "metadata": {},
   "outputs": [],
   "source": [
    "def chordChange(inputStream,chordProgressions,instrument):\n",
    "    result = []\n",
    "    for chordProgression in chordProgressions.progressions:\n",
    "        elements = inputStream.getElementsByOffset(chordProgression.position,chordProgression.position, mustFinishInSpan = False,mustBeginInSpan = False).notesAndRests\n",
    "        for element in elements:\n",
    "            scale = False\n",
    "            if element.isRest:\n",
    "                result.append(\"rest\")\n",
    "            else:\n",
    "                for thing in chordProgression.scale.getPitches(instrument.lowestNote,instrument.highestNote):\n",
    "                    if element.nameWithOctave == str(thing):\n",
    "                        scale = True\n",
    "                        break\n",
    "                if scale:\n",
    "                    chord = False\n",
    "                    for thing in chordProgression.scale.getChord(instrument.lowestNote,instrument.highestNote):\n",
    "                        if element.nameWithOctave == thing.nameWithOctave:\n",
    "                            chord = True\n",
    "                            break\n",
    "                    if chord:\n",
    "                        if element.name == chordProgression.scale.tonic.name:\n",
    "                            result.append(\"root\")\n",
    "                        else:\n",
    "                            result.append(\"chord\")\n",
    "                    else:\n",
    "                        result.append(\"nonChord\")\n",
    "                else:\n",
    "                    result.append(\"nonScale\")     \n",
    "    return result"
   ]
  },
  {
   "cell_type": "code",
   "execution_count": 112,
   "metadata": {},
   "outputs": [
    {
     "data": {
      "text/plain": [
       "['root', 'root', 'chord', 'chord', 'nonScale', 'nonScale', 'chord', 'nonScale']"
      ]
     },
     "execution_count": 112,
     "metadata": {},
     "output_type": "execute_result"
    }
   ],
   "source": [
    "chordChange(stream1,chordProgressions,contrabass)"
   ]
  },
  {
   "cell_type": "markdown",
   "metadata": {},
   "source": [
    "Approach note:"
   ]
  },
  {
   "cell_type": "code",
   "execution_count": 113,
   "metadata": {},
   "outputs": [],
   "source": [
    "def approachNote(inputStream,chordProgressions,instrument):\n",
    "    result = []\n",
    "    currentOffset = 0\n",
    "    for chordProgression in chordProgressions.progressions:\n",
    "        elements = inputStream.getElementsByOffset(0,chordProgression.position, mustFinishInSpan = False,mustBeginInSpan = False).notesAndRests\n",
    "        if len(elements) != 1:\n",
    "            approachNote = elements[- 2] \n",
    "            scaleNote = elements[- 1]\n",
    "            if approachNote.offset == currentOffset:\n",
    "                result.append(\"noApproach\")\n",
    "            else:\n",
    "                if approachNote.isRest:\n",
    "                    result.append(\"approachRest\")\n",
    "                elif scaleNote.isRest:\n",
    "                    result.append(\"scaleRest\")\n",
    "                else:\n",
    "                    aInterval = interval.Interval(noteStart=approachNote, noteEnd=scaleNote)\n",
    "                    result.append(aInterval)\n",
    "        else:\n",
    "            result.append(\"noApproach\")\n",
    "    return result"
   ]
  },
  {
   "cell_type": "code",
   "execution_count": 114,
   "metadata": {},
   "outputs": [
    {
     "data": {
      "text/plain": [
       "['noApproach',\n",
       " <music21.interval.Interval m2>,\n",
       " <music21.interval.Interval P1>,\n",
       " <music21.interval.Interval M2>,\n",
       " <music21.interval.Interval P-4>,\n",
       " <music21.interval.Interval m2>,\n",
       " <music21.interval.Interval P1>,\n",
       " <music21.interval.Interval M2>]"
      ]
     },
     "execution_count": 114,
     "metadata": {},
     "output_type": "execute_result"
    }
   ],
   "source": [
    "approachNote(stream1,chordProgressions,contrabass)"
   ]
  },
  {
   "cell_type": "markdown",
   "metadata": {},
   "source": [
    "Play range:"
   ]
  },
  {
   "cell_type": "code",
   "execution_count": 115,
   "metadata": {},
   "outputs": [],
   "source": [
    "def checkRange(inputStream,instrument):\n",
    "    result = []\n",
    "    for element in inputStream.notesAndRests:\n",
    "        if element.isNote:\n",
    "            if element < note.Note(instrument.lowestNote):\n",
    "                result.append(\"tooLow\")\n",
    "            elif element > note.Note(instrument.highestNote):\n",
    "                result.append(\"tooHigh\")\n",
    "            else:\n",
    "                result.append(\"inRange\")\n",
    "        else:\n",
    "            result.append(\"rest\")\n",
    "    return result"
   ]
  },
  {
   "cell_type": "code",
   "execution_count": 116,
   "metadata": {},
   "outputs": [
    {
     "data": {
      "text/plain": [
       "['inRange',\n",
       " 'inRange',\n",
       " 'inRange',\n",
       " 'rest',\n",
       " 'rest',\n",
       " 'inRange',\n",
       " 'inRange',\n",
       " 'inRange',\n",
       " 'inRange',\n",
       " 'inRange',\n",
       " 'inRange',\n",
       " 'inRange',\n",
       " 'inRange',\n",
       " 'inRange',\n",
       " 'inRange',\n",
       " 'inRange',\n",
       " 'inRange',\n",
       " 'inRange',\n",
       " 'inRange',\n",
       " 'inRange',\n",
       " 'inRange',\n",
       " 'rest',\n",
       " 'rest',\n",
       " 'inRange',\n",
       " 'inRange',\n",
       " 'inRange',\n",
       " 'inRange',\n",
       " 'inRange',\n",
       " 'inRange',\n",
       " 'inRange',\n",
       " 'inRange',\n",
       " 'inRange',\n",
       " 'inRange',\n",
       " 'inRange',\n",
       " 'inRange',\n",
       " 'inRange']"
      ]
     },
     "execution_count": 116,
     "metadata": {},
     "output_type": "execute_result"
    }
   ],
   "source": [
    "checkRange(stream1,contrabass)"
   ]
  },
  {
   "cell_type": "markdown",
   "metadata": {},
   "source": [
    "Walking Bassline:"
   ]
  },
  {
   "cell_type": "code",
   "execution_count": 117,
   "metadata": {},
   "outputs": [],
   "source": [
    "def sameLength(inputStream,length):\n",
    "    result = []\n",
    "    for bar in range(0,math.ceil(inputStream.quarterLength/4)):\n",
    "        elements = inputStream.getElementsByOffset(4* bar,4 * bar + 4, mustFinishInSpan = False,mustBeginInSpan = True).notesAndRests\n",
    "        if len(elements) != 0:\n",
    "            if elements[-1].offset == 4 * bar + 4:\n",
    "                elements = elements[:-1]\n",
    "            walking = True\n",
    "            for element in elements:\n",
    "                if element.isNote:\n",
    "                    if element.quarterLength != length:\n",
    "                        walking = False\n",
    "                        break\n",
    "            if walking:\n",
    "                result.append(\"sameLength\")\n",
    "            else:\n",
    "                result.append(\"differentLength\")\n",
    "        else:\n",
    "            result.append(\"error\")\n",
    "    return result"
   ]
  },
  {
   "cell_type": "code",
   "execution_count": 118,
   "metadata": {},
   "outputs": [
    {
     "data": {
      "text/plain": [
       "['differentLength',\n",
       " 'sameLength',\n",
       " 'differentLength',\n",
       " 'sameLength',\n",
       " 'differentLength',\n",
       " 'sameLength',\n",
       " 'differentLength',\n",
       " 'sameLength']"
      ]
     },
     "execution_count": 118,
     "metadata": {},
     "output_type": "execute_result"
    }
   ],
   "source": [
    "sameLength(stream1,1)"
   ]
  },
  {
   "cell_type": "markdown",
   "metadata": {},
   "source": [
    "## Genetic Algorithm"
   ]
  },
  {
   "cell_type": "markdown",
   "metadata": {},
   "source": [
    "Genetic Algorithm"
   ]
  },
  {
   "cell_type": "code",
   "execution_count": 119,
   "metadata": {},
   "outputs": [],
   "source": [
    "#-------Large Intervals--------------\n",
    "tooLarge = 5\n",
    "scoreLargeInterval = - 500\n",
    "#-------Pattern Matching-------------\n",
    "minimumPatternLength = 5\n",
    "scoreMelodyPattern = 1\n",
    "scoreStrictMelodyPattern = 0\n",
    "scoreRhythmPattern = 1\n",
    "scoreStrictRhythmPattern = 0\n",
    "scoreCombinedPattern = 0\n",
    "scoreStrictCombinedPattern = 0\n",
    "#-------Suspensions------------------\n",
    "scoreSuspensionNone = 50\n",
    "scoreSuspensionRest = 50\n",
    "scoreSuspensionConsonant = 200\n",
    "scoreSuspensionDissonant = - 200\n",
    "#-------Note at Downbeats------------\n",
    "scoreRestDownbeat = 100\n",
    "scoreChordDownbeat = 100\n",
    "scoreNonChordDownbeat = -100\n",
    "scoreNonScaleDownbeat = - 200\n",
    "#-------Note at HalfBar--------------\n",
    "scoreRestHalfbar = 100\n",
    "scoreChordHalfbar = 100\n",
    "scoreNonChordHalfbar = -100\n",
    "scoreNonScaleHalfbar = - 200\n",
    "#-------long notes-------------------\n",
    "longNoteLength = 2\n",
    "scoreRestLongNote = 100\n",
    "scoreChordLongNote = 100\n",
    "scoreNonChordLongNote = -100\n",
    "scoreNonScaleLongNote = - 200\n",
    "#-------speed of bar------------------  \n",
    "slowSpeed = 5\n",
    "mediumSpeed = 15\n",
    "fastSpeed = 25\n",
    "scoreSlow = - 300\n",
    "scoreMedium = 300\n",
    "scoreFast = - 300\n",
    "#-------Chord change------------------   \n",
    "scoreRootChordChange = 200\n",
    "scoreRestChordChange = 100\n",
    "scoreChordChordChange = 100\n",
    "scoreNonChordChordChange = -100\n",
    "scoreNonScaleChordChange = - 200\n",
    "#-------Approach Note-----------------\n",
    "scoreApproachNo = 0\n",
    "scoreApproachARest = 50\n",
    "scoreApproachSRest = 50\n",
    "scoreApproachChromatic = 100\n",
    "scoreApproachDiatonic = 100\n",
    "scoreApproachPerfect5 = 100\n",
    "scoreApproachStep = 100\n",
    "scoreApproachSkip = 100\n",
    "scoreApproachElse = - 200\n",
    "#-------Play Range---------------------\n",
    "scoreRangeLow = - 200\n",
    "scoreRangeHigh = - 200\n",
    "scoreRangeIn = 200\n",
    "scoreRangeRest = 200\n",
    "#-------Same Length---------------------\n",
    "walkingLength = 1/2\n",
    "scoreDifferentLength = - 200\n",
    "scoreSameLength = 200\n",
    "#-------Mutatations---------------------\n",
    "minimumLength = 4\n",
    "maximumLength = 8\n",
    "maxNote = 1/16\n",
    "#-------Transpose note------------------\n",
    "maxTranspose = 8\n",
    "minTranspose = 2\n",
    "#-------Split note----------------------\n",
    "maxSplit = 5\n",
    "minSplit = 2\n",
    "#-------Change Bound---------------------\n",
    "changeBound = 8\n",
    "#-------Copy and Paste Swap--------------\n",
    "copyMinLength = 1\n",
    "copyMaxLength = 8\n",
    "#-------Length---------------------------\n",
    "curLength = 32\n",
    "startLength = 1\n",
    "#-------Crossover------------------------\n",
    "crossoverLength = 4"
   ]
  },
  {
   "cell_type": "code",
   "execution_count": 120,
   "metadata": {},
   "outputs": [],
   "source": [
    "def createPopulation(chordProgressions,instrument,amount):\n",
    "    population = []\n",
    "    for _ in range(0,amount):\n",
    "        newStream = stream.Stream()\n",
    "        newStream.clef = clef.BassClef()\n",
    "        newStream.insert(instrument)\n",
    "        for chordProgression in chordProgressions.progressions:\n",
    "            currentLength = chordProgression.length\n",
    "            while currentLength != 0:\n",
    "                possibleNotes = chordProgression.scale.getPitches(instrument.lowestNote,instrument.highestNote)\n",
    "                random.shuffle(possibleNotes)\n",
    "                if currentLength >= 1:\n",
    "                    length = startLength\n",
    "                    newNote = note.Note(str(possibleNotes[0]),quarterLength = length)\n",
    "                    newStream.append(newNote)\n",
    "                    currentLength -= length\n",
    "                else:\n",
    "                    newNote = note.Note(str(possibleNotes[0]),quarterLength = currentLength)\n",
    "                    newStream.append(newNote)\n",
    "                    currentLength = 0\n",
    "        population.append(newStream)\n",
    "    return population"
   ]
  },
  {
   "cell_type": "code",
   "execution_count": 121,
   "metadata": {
    "scrolled": true
   },
   "outputs": [
    {
     "data": {
      "text/plain": [
       "[<music21.stream.Stream 0x2793a141908>,\n",
       " <music21.stream.Stream 0x2793a141470>,\n",
       " <music21.stream.Stream 0x2793a3804a8>,\n",
       " <music21.stream.Stream 0x2793a38e128>,\n",
       " <music21.stream.Stream 0x2793a3b93c8>,\n",
       " <music21.stream.Stream 0x2793a1d2ac8>,\n",
       " <music21.stream.Stream 0x2793a0e0668>,\n",
       " <music21.stream.Stream 0x2793a5925f8>,\n",
       " <music21.stream.Stream 0x2793a5c6ba8>,\n",
       " <music21.stream.Stream 0x2793a5eb630>]"
      ]
     },
     "execution_count": 121,
     "metadata": {},
     "output_type": "execute_result"
    }
   ],
   "source": [
    "createPopulation(chordProgressions,contrabass,10)"
   ]
  },
  {
   "cell_type": "code",
   "execution_count": 122,
   "metadata": {},
   "outputs": [],
   "source": [
    "def fitnessFunction(inputStream,chordProgressions,instrument):\n",
    "    score = 0\n",
    "    if inputStream.quarterLength != curLength:\n",
    "        return float('-inf')\n",
    "    # Large Intervals\n",
    "    if scoreLargeInterval != 0:\n",
    "        if largeIntervals(inputStream,tooLarge):\n",
    "            score += scoreLargeInterval\n",
    "    # Pattern Matching\n",
    "    if scoreStrictCombinedPattern != 0:\n",
    "        for matchedPattern in patternMatching(inputStream,minimumPatternLength,True,True,True):\n",
    "            for pattern in matchedPattern.patterns:\n",
    "                for _ in (pattern.melodyPattern,pattern.rhythmPattern):\n",
    "                    score += scoreStrictCombinedPattern\n",
    "    if scoreCombinedPattern != 0:\n",
    "        for matchedPattern in patternMatching(inputStream,minimumPatternLength,False,True,True):\n",
    "            for pattern in matchedPattern.patterns:\n",
    "                for _ in zip(pattern.melodyPattern,pattern.rhythmPattern):\n",
    "                    score += scoreCombinedPattern\n",
    "    if scoreStrictRhythmPattern != 0:\n",
    "        for matchedPattern in patternMatching(inputStream,minimumPatternLength,True,False,True):\n",
    "            for pattern in matchedPattern.patterns:\n",
    "                for _ in pattern.pattern:\n",
    "                    score += scoreStrictRhythmPattern\n",
    "    if scoreRhythmPattern != 0:\n",
    "        for matchedPattern in patternMatching(inputStream,minimumPatternLength,False,False,True):\n",
    "            for pattern in matchedPattern.patterns:\n",
    "                for _ in pattern.pattern:\n",
    "                    score += scoreRhythmPattern\n",
    "    if scoreStrictMelodyPattern != 0:\n",
    "        for matchedPattern in patternMatching(inputStream,minimumPatternLength,True,True,False):\n",
    "            for pattern in matchedPattern.patterns:\n",
    "                for _ in pattern.pattern:\n",
    "                    score += scoreStrictMelodyPattern\n",
    "    if scoreMelodyPattern != 0:\n",
    "        for matchedPattern in patternMatching(inputStream,minimumPatternLength,False,True,False):\n",
    "            for pattern in matchedPattern.patterns:\n",
    "                for _ in pattern.pattern:\n",
    "                    score += scoreMelodyPattern\n",
    "    # suspensions\n",
    "    if (scoreSuspensionNone != 0) and (scoreSuspensionRest != 0) and (scoreSuspensionConsonant != 0) and (scoreSuspensionDissonant != 0):\n",
    "        for result in suspensions(inputStream,chordProgressions,instrument):\n",
    "            if result == \"None\":\n",
    "                score += scoreSuspensionNone\n",
    "            elif result == \"Rest\":\n",
    "                score += scoreSuspensionRest\n",
    "            elif result == \"Consonant\":\n",
    "                score += scoreSuspensionConsonant\n",
    "            elif result == \"Dissonant\":\n",
    "                score += scoreSuspensionDissonant\n",
    "    # Note at DownBeat\n",
    "    if scoreRestDownbeat != 0 and scoreChordDownbeat != 0 and scoreNonChordDownbeat != 0 and scoreNonScaleDownbeat != 0:\n",
    "        for result in noteAtDownbeats(inputStream,chordProgressions,instrument):\n",
    "            if result == \"rest\":\n",
    "                score += scoreRestDownbeat\n",
    "            elif result == \"chord\":\n",
    "                score += scoreChordDownbeat\n",
    "            elif result == \"nonChord\":\n",
    "                score += scoreNonChordDownbeat\n",
    "            elif result == \"nonScale\":\n",
    "                score += scoreNonScaleDownbeat\n",
    "    # Note at Half Bar\n",
    "    if scoreRestHalfbar != 0 and scoreChordHalfbar != 0 and scoreNonChordHalfbar != 0 and scoreNonScaleHalfbar != 0:\n",
    "        for result in noteAtHalfBar(inputStream,chordProgressions,instrument):\n",
    "            if result == \"rest\":\n",
    "                score += scoreRestHalfbar\n",
    "            elif result == \"chord\":\n",
    "                score += scoreChordHalfbar\n",
    "            elif result == \"nonChord\":\n",
    "                score += scoreNonChordHalfbar\n",
    "            elif result == \"nonScale\":\n",
    "                score += scoreNonScaleHalfbar\n",
    "    # long notes\n",
    "    if scoreRestLongNote != 0 and scoreChordLongNote != 0 and scoreNonChordLongNote != 0 and scoreNonScaleLongNote != 0:\n",
    "        for result in longNotes(inputStream,longNoteLength,chordProgressions,instrument):\n",
    "            if result == \"rest\":\n",
    "                score += scoreRestLongNote\n",
    "            elif result == \"chord\":\n",
    "                score += scoreChordLongNote\n",
    "            elif result == \"nonChord\":\n",
    "                score += scoreNonChordLongNote\n",
    "            elif result == \"nonScale\":\n",
    "                score += scoreNonScaleLongNote \n",
    "    # speed\n",
    "    if scoreSlow != 0 and scoreMedium != 0 and scoreFast != 0:\n",
    "        for result in speedOfStream(inputStream,slowSpeed,mediumSpeed,fastSpeed):\n",
    "            if result == \"slow\":\n",
    "                score += scoreSlow\n",
    "            elif result == \"medium\":\n",
    "                score += scoreMedium\n",
    "            elif result == \"fast\":\n",
    "                score += scoreFast\n",
    "    # Chord Change\n",
    "    if scoreRootChordChange != 0 and scoreRestChordChange != 0 and scoreChordChordChange != 0 and scoreNonChordChordChange != 0 and scoreNonScaleChordChange != 0:\n",
    "        for result in chordChange(inputStream,chordProgressions,instrument):\n",
    "            if result == \"root\":\n",
    "                score += scoreRootChordChange\n",
    "            elif result == \"rest\":\n",
    "                score += scoreRestChordChange\n",
    "            elif result == \"chord\":\n",
    "                score += scoreChordChordChange\n",
    "            elif result == \"nonChord\":\n",
    "                score += scoreNonChordChordChange\n",
    "            elif result == \"nonScale\":\n",
    "                score += scoreNonScaleChordChange\n",
    "    # Approach note\n",
    "    if scoreApproachNo != 0 and scoreApproachARest != 0 and scoreApproachSRest != 0 and scoreApproachChromatic != 0 and scoreApproachDiatonic != 0 and scoreApproachPerfect5 != 0 and scoreApproachStep != 0 and scoreApproachSkip != 0 and scoreApproachElse != 0:\n",
    "        for interval in approachNote(inputStream,chordProgressions,instrument):\n",
    "            if interval == \"noApproach\":\n",
    "                score += scoreApproachNo\n",
    "            elif interval == \"approachRest\":\n",
    "                score += scoreApproachARest\n",
    "            elif interval == \"scaleRest\":\n",
    "                score += scoreApproachSRest\n",
    "            elif interval.isChromaticStep:\n",
    "                score += scoreApproachChromatic\n",
    "            elif interval.isDiatonicStep:\n",
    "                score += scoreApproachDiatonic\n",
    "            elif interval.name == 'P5':\n",
    "                score += scoreApproachPerfect5\n",
    "            elif interval.isStep:\n",
    "                score += scoreApproachStep\n",
    "            elif interval.isSkip:\n",
    "                score += scoreApproachSkip\n",
    "            else:\n",
    "                score += scoreApproachElse\n",
    "    # Check Range\n",
    "    if scoreRangeLow != 0 and scoreRangeHigh != 0 and scoreRangeIn != 0 and scoreRangeRest != 0:\n",
    "        for result in checkRange(inputStream,instrument):\n",
    "            if result == \"tooLow\":\n",
    "                score += scoreRangeLow\n",
    "            elif result == \"tooHigh\":\n",
    "                score += scoreRangeHigh\n",
    "            elif result == \"inRange\":\n",
    "                score += scoreRangeIn\n",
    "            elif result == \"rest\":\n",
    "                score += scoreRangeRest\n",
    "    # Same Length\n",
    "    if scoreDifferentLength != 0 and scoreSameLength != 0:\n",
    "        for result in sameLength(inputStream,walkingLength):\n",
    "            if result == \"differentLength\":\n",
    "                score += scoreDifferentLength\n",
    "            elif result == \"sameLength\":\n",
    "                score += scoreSameLength\n",
    "    return score      "
   ]
  },
  {
   "cell_type": "code",
   "execution_count": 123,
   "metadata": {},
   "outputs": [
    {
     "data": {
      "text/plain": [
       "9905"
      ]
     },
     "execution_count": 123,
     "metadata": {},
     "output_type": "execute_result"
    }
   ],
   "source": [
    "fitnessFunction(stream1,chordProgressions,contrabass)"
   ]
  },
  {
   "cell_type": "code",
   "execution_count": 124,
   "metadata": {},
   "outputs": [],
   "source": [
    "def mutations(inputStream):\n",
    "    # Split Note\n",
    "    mutations = []\n",
    "    if random.random() <= 0.2:\n",
    "        maxValueAt = inputStream.quarterLength * (1/maxNote)\n",
    "        at = random.randint(0,maxValueAt) * maxNote\n",
    "        mutation = lambda stream : makeRest(stream,\n",
    "                                            at)\n",
    "        mutations.append([mutation,\"makeRest\"])\n",
    "    if random.random() <= 0.2:\n",
    "        maxValueAt = inputStream.quarterLength * (1/maxNote)\n",
    "        at = random.randint(0,maxValueAt) * maxNote\n",
    "        maxValueTo = inputStream.quarterLength * (1/maxNote)\n",
    "        to = random.randint(at* (1/maxNote),maxValueTo) * maxNote\n",
    "        amount = random.randint(minTranspose,maxTranspose)\n",
    "        mutation = lambda stream : transposeNotes(stream,\n",
    "                                                  at,\n",
    "                                                  to,\n",
    "                                                  amount)\n",
    "        mutations.append([mutation,\"transposeNotes\"])\n",
    "    if random.random() <= 0.2:\n",
    "        maxValueAt = inputStream.quarterLength * (1/maxNote)\n",
    "        at = random.randint(0,maxValueAt) * maxNote\n",
    "        mutation = lambda stream : splitNote(stream,\n",
    "                                             at,\n",
    "                                             random.randint(minSplit,maxSplit))\n",
    "        mutations.append([mutation,\"splitNote\"])\n",
    "    if random.random() <= 0.2:\n",
    "        maxValueAt = inputStream.quarterLength * (1/maxNote)\n",
    "        at = random.randint(0,maxValueAt) * maxNote\n",
    "        maxValueTo = inputStream.quarterLength * (1/maxNote)\n",
    "        to = random.randint(at* (1/maxNote),maxValueTo) * maxNote\n",
    "        sort = random.random()\n",
    "        if sort > 0.5:\n",
    "            sort = True\n",
    "        else:\n",
    "            sort = False\n",
    "        mutation = lambda stream : sortNotes(stream,\n",
    "                                             at,\n",
    "                                             to,\n",
    "                                             sort)\n",
    "        mutations.append([mutation,\"sortNotes\"])\n",
    "    if random.random() <= 0.2:\n",
    "        maxValueAt = inputStream.quarterLength * (1/maxNote)\n",
    "        at = random.randint(0,maxValueAt) * maxNote\n",
    "        maxValueTo = inputStream.quarterLength * (1/maxNote)\n",
    "        to = random.randint(at* (1/maxNote),maxValueTo) * maxNote\n",
    "        mutation = lambda stream : reverseNotes(stream,\n",
    "                                                at,\n",
    "                                                to)\n",
    "        mutations.append([mutation,\"reverseNotes\"])\n",
    "    if random.random() <= 0.2:\n",
    "        maxValueAt = inputStream.quarterLength * (1/maxNote)\n",
    "        at = random.randint(0,maxValueAt) * maxNote\n",
    "        maxValueTo = inputStream.quarterLength * (1/maxNote)\n",
    "        to = random.randint(at* (1/maxNote),maxValueTo) * maxNote\n",
    "        mutation = lambda stream : changePitches(stream,\n",
    "                                                 at,\n",
    "                                                 to,\n",
    "                                                 changeBound)\n",
    "        mutations.append([mutation,\"changePitches\"])\n",
    "    if random.random() <= 0.2:\n",
    "        maxValueAt = inputStream.quarterLength * (1/maxNote)\n",
    "        at = random.randint(0,maxValueAt) * maxNote\n",
    "        maxValueTo = inputStream.quarterLength * (1/maxNote)\n",
    "        to = random.randint(at* (1/maxNote),maxValueTo) * maxNote\n",
    "        mutation = lambda stream : shuffleDurations(stream,\n",
    "                                                    at,\n",
    "                                                    to)\n",
    "        mutations.append([mutation,\"shuffleDurations\"])\n",
    "    if random.random() <= 0.2:\n",
    "        maxValueAt = inputStream.quarterLength * (1/maxNote)\n",
    "        at = random.randint(0,maxValueAt) * maxNote\n",
    "        maxValueTo = inputStream.quarterLength * (1/maxNote)\n",
    "        to = random.randint(at* (1/maxNote),maxValueTo) * maxNote\n",
    "        mutation = lambda stream : concatRests(stream,\n",
    "                                               at,\n",
    "                                               to)\n",
    "        mutations.append([mutation,\"concatRests\"])\n",
    "    if random.random() <= 0.2:\n",
    "        maxValueAt = inputStream.quarterLength * (1/maxNote)\n",
    "        at = random.randint(0,maxValueAt) * maxNote\n",
    "        maxValueTo = inputStream.quarterLength * (1/maxNote)\n",
    "        to = random.randint(at* (1/maxNote),maxValueTo) * maxNote\n",
    "        mutation = lambda stream : concatIdenticalPitches(stream,\n",
    "                                                          at,\n",
    "                                                          to)\n",
    "        mutations.append([mutation,\"concatIdenticalPitches\"])\n",
    "    if random.random() <= 0.2:\n",
    "        length = random.randint(minimumLength* (1/maxNote),maximumLength* (1/maxNote))* maxNote\n",
    "        maxValueAt = (inputStream.quarterLength - 2 * length) * (1/maxNote)\n",
    "        at = random.randint(0,maxValueAt) * maxNote\n",
    "        maxValueTo = (inputStream.quarterLength - length) * (1/maxNote)\n",
    "        to = random.randint(at* (1/maxNote) + length* (1/maxNote),maxValueTo) * maxNote\n",
    "        mutation = lambda stream : copyAndPaste(stream,\n",
    "                                                at,\n",
    "                                                to,\n",
    "                                                length)\n",
    "        mutations.append([mutation,\"copyAndPaste\"])\n",
    "    if random.random() <= 0.2:\n",
    "        length = random.randint(minimumLength* (1/maxNote),maximumLength* (1/maxNote))* maxNote\n",
    "        maxValueAt = (inputStream.quarterLength - 2 * length) * (1/maxNote)\n",
    "        at = random.randint(0,maxValueAt) * maxNote\n",
    "        maxValueTo = (inputStream.quarterLength - length) * (1/maxNote)\n",
    "        to = random.randint(at* (1/maxNote) + length* (1/maxNote),maxValueTo) * maxNote\n",
    "        mutation = lambda stream : swap(stream,\n",
    "                                        at,\n",
    "                                        to,\n",
    "                                        length)\n",
    "        mutations.append([mutation,\"swap\"])\n",
    "    if random.random() <= 0.2:\n",
    "        maxValueAt = inputStream.quarterLength / 4 - 2\n",
    "        actualAt = random.randint(0,maxValueAt)\n",
    "        maxValueTo = inputStream.quarterLength / 4 - 1\n",
    "        actualTo = random.randint(actualAt + 1,maxValueTo)\n",
    "        mutation = lambda stream : restrictedCopyAndPaste(stream,\n",
    "                                                          4*actualAt,\n",
    "                                                          4*actualTo,\n",
    "                                                          2)\n",
    "        mutations.append([mutation,\"restrictedCopyAndPaste\"])\n",
    "    if random.random() <= 0.2:\n",
    "        maxValueAt = inputStream.quarterLength / 4 - 2\n",
    "        actualAt = random.randint(0,maxValueAt)\n",
    "        maxValueTo = inputStream.quarterLength / 4 - 1\n",
    "        actualTo = random.randint(actualAt + 1,maxValueTo)\n",
    "        mutation = lambda stream : restrictedSwap(stream,\n",
    "                                                  4*actualAt,\n",
    "                                                  4*actualTo,\n",
    "                                                  2)\n",
    "        mutations.append([mutation,\"restrictedSwap\"])\n",
    "    random.shuffle(mutations)\n",
    "    newStream = copyStream(inputStream)\n",
    "    for [mutation,name] in mutations:\n",
    "        newStream = mutation(newStream)\n",
    "        if newStream.quarterLength != inputStream.quarterLength:\n",
    "            raise Exception(\"something went wrong use original stream\")\n",
    "            break\n",
    "    return newStream"
   ]
  },
  {
   "cell_type": "code",
   "execution_count": 125,
   "metadata": {},
   "outputs": [],
   "source": [
    "error = mutations(stream1) "
   ]
  },
  {
   "cell_type": "code",
   "execution_count": 136,
   "metadata": {},
   "outputs": [],
   "source": [
    "def selection(population,chordProgressions,instrument,tournament_size = 3,bestScore= float('-inf'),bestStream = 0):\n",
    "    rankedPopulations = []\n",
    "    for stream in population:\n",
    "        rankedPopulations.append([fitnessFunction(stream,chordProgressions,instrument),stream])\n",
    "    selectedPopulation = []\n",
    "    best = sorted(rankedPopulations[:tournament_size], key=lambda rankedStream: rankedStream[0])\n",
    "    localBestScore = best[0][0]\n",
    "    localBestStream = best[0][1]\n",
    "    if localBestScore > bestScore:\n",
    "        bestScore = localBestScore\n",
    "        bestStream = localBestStream\n",
    "    for _ in population:\n",
    "        random.shuffle(rankedPopulations)\n",
    "        selectedStreams = sorted(rankedPopulations[:tournament_size], key=lambda rankedStream: rankedStream[0])\n",
    "        parent1 = selectedStreams[0][1]\n",
    "        parent2 = selectedStreams[1][1]\n",
    "        parents = [parent1,parent2]\n",
    "        selectedPopulation.append(parents)\n",
    "    return [selectedPopulation,bestScore,bestStream,localBestScore,localBestStream]"
   ]
  },
  {
   "cell_type": "code",
   "execution_count": 137,
   "metadata": {},
   "outputs": [],
   "source": [
    "selectedPopulation = selection(createPopulation(chordProgressions,contrabass,5),chordProgressions,contrabass)[0]"
   ]
  },
  {
   "cell_type": "code",
   "execution_count": 153,
   "metadata": {},
   "outputs": [],
   "source": [
    "def merge(selectedPopulation):\n",
    "    mergedPopulation = []\n",
    "    for (parent1,parent2) in selectedPopulation:\n",
    "        child = []\n",
    "        try:\n",
    "            if random.random() <= 0.2:\n",
    "                maxValueAt = parent1.quarterLength * (1/crossoverLength)\n",
    "                at = random.randint(0,maxValueAt) * crossoverLength\n",
    "                if random.random() <= 0.5:\n",
    "                    child = onePointCrossover(parent1,parent2,at)\n",
    "                else:\n",
    "                    child = onePointCrossover(parent2,parent1,at)\n",
    "            elif random.random() <= 0.2:\n",
    "                maxValueAt = parent1.quarterLength * (1/crossoverLength)\n",
    "                at = random.randint(0,maxValueAt) * crossoverLength\n",
    "                maxValueTo = parent1.quarterLength * (1/crossoverLength)\n",
    "                to = random.randint(at* (1/maxNote),maxValueTo) * crossoverLength\n",
    "                if random.random() <= 0.5:\n",
    "                    child = twoPointCrossover(parent1,parent2,at,to)\n",
    "                else:\n",
    "                    child = twoPointCrossover(parent2,parent1,at,to)\n",
    "            elif random.random() <= 0.5:\n",
    "                child = copyStream(parent1)\n",
    "            else:\n",
    "                child = copyStream(parent2)\n",
    "        except:\n",
    "            child = createPopulation(chordProgressions,contrabass,10)[0]\n",
    "        mergedPopulation.append(child)\n",
    "    return mergedPopulation"
   ]
  },
  {
   "cell_type": "code",
   "execution_count": 154,
   "metadata": {},
   "outputs": [
    {
     "data": {
      "text/plain": [
       "[<music21.stream.Stream 0x2794ee5bcc0>,\n",
       " <music21.stream.Stream 0x2794ee5b518>,\n",
       " <music21.stream.Stream 0x2794ee5b358>,\n",
       " <music21.stream.Stream 0x2794e9d1240>,\n",
       " <music21.stream.Stream 0x2794e9d10b8>]"
      ]
     },
     "execution_count": 154,
     "metadata": {},
     "output_type": "execute_result"
    }
   ],
   "source": [
    "merge(selectedPopulation)"
   ]
  },
  {
   "cell_type": "code",
   "execution_count": 155,
   "metadata": {},
   "outputs": [],
   "source": [
    "def geneticAlgorithm(populationSize,iterations,chordProgressions,instrument):\n",
    "    # Initialize the first population\n",
    "    currentPopulation = createPopulation(chordProgressions,instrument,populationSize)\n",
    "    intermediateResults = []\n",
    "    bestScore= float('-inf')\n",
    "    bestStream = 0\n",
    "    for _ in range(iterations):\n",
    "        newPopulation = []\n",
    "        for stream in currentPopulation:\n",
    "            try:\n",
    "                newPopulation.append(mutations(stream))\n",
    "            except:\n",
    "                newPopulation.append(copyStream(stream))\n",
    "        #select the Best\n",
    "        selected = selection(newPopulation,chordProgressions,instrument,bestScore = bestScore,bestStream = bestStream)\n",
    "        bestScore = selected[1]\n",
    "        bestStream = selected[2]\n",
    "        intermediateResults.append([selected[3],selected[4]])\n",
    "        currentPopulation = merge(selected[0])\n",
    "    return [bestScore,bestStream,intermediateResults]"
   ]
  },
  {
   "cell_type": "code",
   "execution_count": 156,
   "metadata": {},
   "outputs": [],
   "source": [
    "test = geneticAlgorithm(25,10,chordProgressions,contrabass)"
   ]
  },
  {
   "cell_type": "code",
   "execution_count": 157,
   "metadata": {
    "scrolled": true
   },
   "outputs": [
    {
     "name": "stdout",
     "output_type": "stream",
     "text": [
      "[8942, <music21.stream.Stream 0x2796adf52b0>, [[8546, <music21.stream.Stream 0x27949158128>], [4120, <music21.stream.Stream 0x279400c14e0>], [7707, <music21.stream.Stream 0x279573f1128>], [7038, <music21.stream.Stream 0x2793c5e79e8>], [4021, <music21.stream.Stream 0x2796b830198>], [8140, <music21.stream.Stream 0x27967096ba8>], [7510, <music21.stream.Stream 0x2796ae7d668>], [450, <music21.stream.Stream 0x2793fd28748>], [8942, <music21.stream.Stream 0x2796adf52b0>], [8430, <music21.stream.Stream 0x2794a1c3128>]]]\n"
     ]
    },
    {
     "data": {
      "text/html": [
       "\n",
       "                <div id='midiPlayerDiv41918713'></div>\n",
       "                <link rel=\"stylesheet\" href=\"//cuthbertLab.github.io/music21j/css/m21.css\"\n",
       "                    type=\"text/css\" />\n",
       "                <script>\n",
       "                require.config({\n",
       "                    paths: {'music21': '//cuthbertLab.github.io/music21j/src/music21'}\n",
       "                });\n",
       "                require(['music21'], function() {\n",
       "                               mp = new music21.miditools.MidiPlayer();\n",
       "                               mp.addPlayer('#midiPlayerDiv41918713');\n",
       "                               mp.base64Load('data:audio/midi;base64,TVRoZAAAAAYAAQACBABNVHJrAAAAFAD/UQMHoSAA/1gEBAIYCIgA/y8ATVRyawAAAWMA/wMKQ29udHJhYmFzcwDAKwDgAEAAwCuIAJA1WoMAgDUAjQCQP1qIAIA/AACQM1qIAIAzAACQQVqIAIBBAACQOVqIAIA5AACQPlqIAIA+AACQKVqIAIApAACQP1qIAIA/AACQP1qIAIA/AACQLVqIAIAtAACQPlqDAIA+AACQO1qFAIA7AACQIVqEAIAhAACQO1qIAIA7AACQNFqEAIA0AACQMlqIAIAyAACQN1qDAIA3AACQOlqFAIA6AACQPVqIAIA9AACQNFqIAIA0AACQL1qIAIAvAACQMVqIAIAxAACQNlqIAIA2AACQNFqIAIA0AACQPVqHAIA9AACQNVqFAIA1AACQKVqEAIApAACQPVqIAIA9AACQNFqIAIA0AACQM1qEAIAzAACQQVqIAIBBAACQOVqHAIA5AACQMFqFAIAwAACQLVqIAIAtAACQL1qIAIAvAACQKFqIAIAoAIgA/y8A');\n",
       "                        });\n",
       "                </script>"
      ],
      "text/plain": [
       "<IPython.core.display.HTML object>"
      ]
     },
     "metadata": {},
     "output_type": "display_data"
    }
   ],
   "source": [
    "print(test)\n",
    "test[1].show('midi')"
   ]
  },
  {
   "cell_type": "code",
   "execution_count": 184,
   "metadata": {
    "scrolled": true
   },
   "outputs": [
    {
     "name": "stdout",
     "output_type": "stream",
     "text": [
      "{0.0} <music21.instrument.Contrabass 'Contrabass'>\n",
      "{0.0} <music21.clef.BassClef>\n",
      "{0.0} <music21.note.Note B->\n",
      "{1.0} <music21.note.Note B->\n",
      "{2.0} <music21.note.Note G>\n",
      "{3.0} <music21.note.Note A->\n",
      "{4.0} <music21.note.Note E>\n",
      "{5.0} <music21.note.Note B->\n",
      "{6.0} <music21.note.Note E>\n",
      "{7.0} <music21.note.Note B->\n",
      "{8.0} <music21.note.Note D>\n",
      "{9.0} <music21.note.Note G>\n",
      "{10.0} <music21.note.Note G>\n",
      "{11.0} <music21.note.Note G>\n",
      "{12.0} <music21.note.Note D>\n",
      "{13.0} <music21.note.Note C>\n",
      "{14.0} <music21.note.Note D>\n",
      "{15.0} <music21.note.Note F>\n",
      "{16.0} <music21.note.Note A>\n",
      "{17.0} <music21.note.Note A>\n",
      "{18.0} <music21.note.Note D>\n",
      "{19.0} <music21.note.Note B>\n",
      "{20.0} <music21.note.Note B>\n",
      "{21.0} <music21.note.Note E>\n",
      "{22.0} <music21.note.Note C#>\n",
      "{23.0} <music21.note.Note F#>\n",
      "{24.0} <music21.note.Note B->\n",
      "{25.0} <music21.note.Note C>\n",
      "{26.0} <music21.note.Note A>\n",
      "{27.0} <music21.note.Note C>\n",
      "{28.0} <music21.note.Note E>\n",
      "{29.0} <music21.note.Note A>\n",
      "{30.0} <music21.note.Note G>\n",
      "{31.0} <music21.note.Note A>\n"
     ]
    }
   ],
   "source": [
    "test[1].show('text')"
   ]
  },
  {
   "cell_type": "code",
   "execution_count": 185,
   "metadata": {},
   "outputs": [],
   "source": [
    "test[1].show('lily.png')"
   ]
  },
  {
   "cell_type": "markdown",
   "metadata": {},
   "source": [
    "## write MIDI file"
   ]
  },
  {
   "cell_type": "code",
   "execution_count": 186,
   "metadata": {},
   "outputs": [],
   "source": [
    "mf = midi.translate.streamToMidiFile(test[1])\n",
    "mf.open('midi.mid', 'wb')\n",
    "mf.write()\n",
    "mf.close()"
   ]
  }
 ],
 "metadata": {
  "kernelspec": {
   "display_name": "Python 3",
   "language": "python",
   "name": "python3"
  },
  "language_info": {
   "codemirror_mode": {
    "name": "ipython",
    "version": 3
   },
   "file_extension": ".py",
   "mimetype": "text/x-python",
   "name": "python",
   "nbconvert_exporter": "python",
   "pygments_lexer": "ipython3",
   "version": "3.7.1"
  }
 },
 "nbformat": 4,
 "nbformat_minor": 5
}
